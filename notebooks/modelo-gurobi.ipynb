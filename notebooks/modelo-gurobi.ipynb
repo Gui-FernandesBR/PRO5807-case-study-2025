{
 "cells": [
  {
   "cell_type": "markdown",
   "id": "71f38f09",
   "metadata": {},
   "source": [
    "# Usermore soap case study\n",
    "\n",
    "Guilherme Fernandes e Lauro Solia"
   ]
  },
  {
   "cell_type": "code",
   "execution_count": null,
   "id": "471bf414",
   "metadata": {},
   "outputs": [],
   "source": [
    "from pprint import pprint\n",
    "\n",
    "import gurobipy\n",
    "from gurobipy import Model, GRB\n",
    "\n",
    "import pandas as pd"
   ]
  },
  {
   "cell_type": "markdown",
   "id": "c5b0ef47",
   "metadata": {},
   "source": [
    "## 1. Defining the sets"
   ]
  },
  {
   "cell_type": "code",
   "execution_count": null,
   "id": "895a366f",
   "metadata": {},
   "outputs": [],
   "source": [
    "plants = [\n",
    "    \"Covington\",\n",
    "    \"New York\",\n",
    "    \"Arlington\",\n",
    "    \"Long Beach\",\n",
    "]\n",
    "\n",
    "existing_warehouses = [\n",
    "    \"Atlanta\",\n",
    "    \"Boston\",\n",
    "    \"Buffalo\",\n",
    "    \"Chicago\",\n",
    "    \"Cleveland\",\n",
    "    \"Davenport\",\n",
    "    \"Detroit\",\n",
    "    \"Grand Rapids\",\n",
    "    \"Greensboro\",\n",
    "    \"Kansas City\",\n",
    "    \"Baltimore\",\n",
    "    \"Memphis\",\n",
    "    \"Milwaukee\",\n",
    "    \"Orlando\",\n",
    "    \"Pittsburgh\",\n",
    "    \"Portland\",\n",
    "    \"W Sacramento\",\n",
    "    \"W Chester\",\n",
    "]\n",
    "\n",
    "potential_warehouses = [\n",
    "    \"Albuquerque\",\n",
    "    \"Billings\",\n",
    "    \"Denver\",\n",
    "    \"El Paso\",\n",
    "    \"Camp Hill\",\n",
    "    \"Houston\",\n",
    "    \"Las Vegas\",\n",
    "    \"Minneapolis\",\n",
    "    \"New Orleans\",\n",
    "    \"Phoenix\",\n",
    "    \"Richmond\",\n",
    "    \"St Louis\",\n",
    "    \"Salt Lake City\",\n",
    "    \"San Antonio\",\n",
    "    \"Seattle\",\n",
    "    \"Spokane\",\n",
    "    \"San Francisco\",\n",
    "    \"Indianapolis\",\n",
    "    \"Louisville\",\n",
    "    \"Columbus\",\n",
    "    \"New York-\",\n",
    "    \"Hartford\",\n",
    "    \"Miami\",\n",
    "    \"Mobile\",\n",
    "    \"Memphis *\",\n",
    "    \"Chicago *\",\n",
    "]\n",
    "\n",
    "# Merge existing + potential\n",
    "warehouses = plants + existing_warehouses  # + potential_warehouses"
   ]
  },
  {
   "cell_type": "code",
   "execution_count": null,
   "id": "97d3b15b",
   "metadata": {},
   "outputs": [],
   "source": [
    "print(\"Number of plants: \", len(plants))\n",
    "print(\"Number of existing warehouses: \", len(existing_warehouses))\n",
    "print(\"Number of potential warehouses: \", len(potential_warehouses))\n",
    "print(\"Number of total warehouses: \", len(warehouses))\n",
    "print(\"Obs.: Each plant is also an existing warehouse\")"
   ]
  },
  {
   "cell_type": "code",
   "execution_count": null,
   "id": "a70439fe",
   "metadata": {},
   "outputs": [],
   "source": [
    "# 90% under 1_500_000 miles\n",
    "SERVICE_LEVEL_DISTANCE = 1000\n",
    "SERVICE_LEVEL = 0.93"
   ]
  },
  {
   "cell_type": "markdown",
   "id": "712fcd56",
   "metadata": {},
   "source": [
    "## 2. Parameters"
   ]
  },
  {
   "cell_type": "code",
   "execution_count": null,
   "id": "8fae0141",
   "metadata": {},
   "outputs": [],
   "source": [
    "# read state demands from Figure 1\n",
    "state_demand = {\n",
    "    # West region:\n",
    "    \"WA\": 32437,  # Washington\n",
    "    \"OR\": 31365,  # Oregon\n",
    "    \"CA\": 135_116,  # California\n",
    "    \"NV\": 16755,  # Nevada\n",
    "    \"AZ\": 9063,  # Arizona\n",
    "    \"ID\": 7153,  # Idaho\n",
    "    # Northwest region:\n",
    "    \"UT\": 9001,  # Utah\n",
    "    \"MT\": 4140,  # Montana\n",
    "    \"ND\": 5703,  # North Dakota\n",
    "    \"WY\": 1004,  # Wyoming\n",
    "    \"CO\": 11147,  # Colorado\n",
    "    \"SD\": 1049,  # South Dakota\n",
    "    \"NE\": 7347,  # Nebraska\n",
    "    \"KS\": 6961,  # Kansas\n",
    "    \"MN\": 5633,  # Minnesota\n",
    "    \"IA\": 32175,  # Iowa\n",
    "    \"MO\": 41680,  # Missouri\n",
    "    # Southwest region:\n",
    "    \"NM\": 3536,  # New Mexico\n",
    "    \"TX\": 80438,  # Texas\n",
    "    \"OK\": 13517,  # Oklahoma\n",
    "    \"AR\": 4910,  # Arkansas\n",
    "    \"LA\": 15011,  # Louisiana\n",
    "    # Midwest region:\n",
    "    \"WI\": 37448,  # Wisconsin\n",
    "    \"IL\": 72839,  # Illinois\n",
    "    \"MI\": 105_181,  # Michigan\n",
    "    \"IN\": 43994,  # Indiana\n",
    "    \"KY\": 3870,  # Kentucky\n",
    "    \"OH\": 155_123,  # Ohio\n",
    "    # Northeast region:\n",
    "    \"ME\": 15829,  # Maine\n",
    "    \"NH\": 4546,  # New Hampshire\n",
    "    \"RI\": 17000,  # Rhode Island\n",
    "    \"NJ\": 21154,  # New Jersey\n",
    "    \"NY\": 160_917,  # New York\n",
    "    \"PA\": 65108,  # Pennsylvania\n",
    "    \"CT\": 26_187,  # Connecticut\n",
    "    \"MA\": 37087,  # Massachusetts\n",
    "    \"VA\": 17667,  # Virginia\n",
    "    \"WV\": 9168,  # West Virginia\n",
    "    \"MD\": 19_284,  # Maryland\n",
    "    \"VT\": 2_928,  # Vermont\n",
    "    \"DE\": 3_044,  # Delaware\n",
    "    # Southeast region:\n",
    "    \"TN\": 42_479,  # Tennessee\n",
    "    \"MS\": 15_205,  # Mississippi\n",
    "    \"AL\": 15_835,  # Alabama\n",
    "    \"GA\": 29_559,  # Georgia\n",
    "    \"FL\": 46_405,  # Florida\n",
    "    \"SC\": 5_680,  # South Carolina\n",
    "    \"NC\": 28_348,  # North Carolina\n",
    "}\n",
    "S = state_demand  # Sales\n",
    "\n",
    "print(\"Total states number: \", len(S))\n",
    "print(\"Total demand: \", sum(S.values()))\n",
    "print(\"Each state represents a demand center\")\n",
    "\n",
    "# NOTE: Valor total deve ser 1_477_026, então precisa ajustar NY (que nao tem na foto) pra bater o valor final."
   ]
  },
  {
   "cell_type": "code",
   "execution_count": null,
   "id": "2cb6fe3c",
   "metadata": {},
   "outputs": [],
   "source": [
    "demand_centers = [f\"{s}\" for s in state_demand.keys()]\n",
    "\n",
    "# pprint(demand_centers)\n",
    "\n",
    "print(\n",
    "    \"\"\"\n",
    "    The company has more than 70,000 individual customer accounts, and these are aggregated into 191 active demand centers.\n",
    "    A demand center is a grouping of zip code areas into a zip sectional center as the focus of the collected demand.\n",
    "    These demand centers, along with how they are currently being served, are given in Table 3\n",
    "    \"\"\"\n",
    ")"
   ]
  },
  {
   "cell_type": "code",
   "execution_count": null,
   "id": "345ddc87",
   "metadata": {},
   "outputs": [],
   "source": [
    "# 2.2 Plant current capacities C[p]\n",
    "C = {\n",
    "    \"Covington\": 620_000,\n",
    "    \"New York\": 430_000,\n",
    "    \"Arlington\": 300_000,\n",
    "    \"Long Beach\": 280_000,\n",
    "}\n",
    "\n",
    "# Plant stocking capacities C'[p]\n",
    "C_prime = {\n",
    "    \"Covington\": 450_000,\n",
    "    \"New York\": 380_000,\n",
    "    \"Arlington\": 140_000,\n",
    "    \"Long Beach\": 180_000,\n",
    "}"
   ]
  },
  {
   "cell_type": "code",
   "execution_count": null,
   "id": "892c708f",
   "metadata": {},
   "outputs": [],
   "source": [
    "# 2.3 Unit production cost v[p] (variable production cost)\n",
    "rho = {\n",
    "    \"Covington\": 21.0,\n",
    "    \"New York\": 19.9,\n",
    "    \"Arlington\": 21.6,\n",
    "    \"Long Beach\": 21.1,\n",
    "}"
   ]
  },
  {
   "cell_type": "code",
   "execution_count": null,
   "id": "1b656977",
   "metadata": {},
   "outputs": [],
   "source": [
    "# 2.4 Distance matrices (in miles)\n",
    "#     d_pw[p][w] = distance plant → warehouse\n",
    "#     d_ws[w][d] = distance warehouse → demand center\n",
    "#     d_pd[p][d] = distance plant → demand center\n",
    "\n",
    "df_pw = pd.read_excel(\n",
    "    \"../distances/distance_matrix.xlsx\", sheet_name=\"d_pw\", index_col=0\n",
    ")\n",
    "df_ws = pd.read_excel(\n",
    "    \"../distances/distance_matrix.xlsx\", sheet_name=\"d_ws\", index_col=0\n",
    ")\n",
    "df_pd = pd.read_excel(\n",
    "    \"../distances/distance_matrix.xlsx\", sheet_name=\"d_pd\", index_col=0\n",
    ")\n",
    "\n",
    "d_pw = df_pw.to_dict()\n",
    "d_ws = df_ws.to_dict()\n",
    "d_pd = df_pd.to_dict()"
   ]
  },
  {
   "cell_type": "code",
   "execution_count": null,
   "id": "4c433b74",
   "metadata": {},
   "outputs": [],
   "source": [
    "# print(\"Distance matrices:\")\n",
    "# print(\"d_pw (plant to warehouse):\")\n",
    "# pprint(d_pw)\n",
    "# print(\"d_wd (warehouse to demand center):\")\n",
    "# pprint(d_ws)\n",
    "# print(\"d_pd (plant to demand center):\")\n",
    "# pprint(d_pd)\n"
   ]
  },
  {
   "cell_type": "code",
   "execution_count": null,
   "id": "d9f49045",
   "metadata": {},
   "outputs": [],
   "source": [
    "# 2.5 Inbound cost c_in[p][w] = 0.92 + 0.0034*d_pw\n",
    "c_in = {\n",
    "    p: {w: 0.92 + 0.0034 * d_pw[p][w.replace(\"-\", \"\")] for w in warehouses}\n",
    "    for p in plants\n",
    "}\n",
    "\n",
    "# c_in"
   ]
  },
  {
   "cell_type": "code",
   "execution_count": null,
   "id": "6f4161bb",
   "metadata": {},
   "outputs": [],
   "source": [
    "# Ler tabela 3 do excel\n",
    "table3 = pd.read_excel(\n",
    "    \"../misc/tabelas.xlsx\",\n",
    "    sheet_name=\"table3\",\n",
    ")\n",
    "\n",
    "# drop first 3 rows\n",
    "# table3 = table3.drop(index=[0, 1, 2, 3])\n",
    "# reset index\n",
    "# table3 = table3.reset_index(drop=True)\n",
    "\n",
    "table3.head()"
   ]
  },
  {
   "cell_type": "code",
   "execution_count": null,
   "id": "0471466a",
   "metadata": {},
   "outputs": [],
   "source": [
    "# for k, v in d_ws.items():\n",
    "#     for k2, v2 in v.items():\n",
    "#         if v2 <= 30:\n",
    "#             print(k, k2, v2)"
   ]
  },
  {
   "cell_type": "code",
   "execution_count": null,
   "id": "b962c21f",
   "metadata": {},
   "outputs": [],
   "source": [
    "# 2.6 Outbound cost c_out[w][j]:\n",
    "local_rate = {i: v for i, v in enumerate(table3[\"Local delivery rate ($/cwt)\"])}\n",
    "\n",
    "c_out = {}\n",
    "for i, w in enumerate(warehouses):\n",
    "    w = w.replace(\"-\", \"\")\n",
    "    c_out[w] = {}\n",
    "    for s in demand_centers:\n",
    "        d = d_ws[w][s]\n",
    "        if d <= 30:\n",
    "            # if d<=30: use local cartage rate from Table 3\n",
    "            c_out[w][s] = local_rate[i]\n",
    "        else:\n",
    "            # else use 5.45 + 0.0037*d\n",
    "            c_out[w][s] = 5.45 + 0.0037 * d\n",
    "\n",
    "# c_out"
   ]
  },
  {
   "cell_type": "code",
   "execution_count": null,
   "id": "0c821be2",
   "metadata": {},
   "outputs": [],
   "source": [
    "# pprint(c_out)"
   ]
  },
  {
   "cell_type": "code",
   "execution_count": null,
   "id": "82dbd5c1",
   "metadata": {},
   "outputs": [],
   "source": [
    "# custos de transporte da fabrica direto para o demand center.\n",
    "c_out_prime = {}\n",
    "\n",
    "for p in plants:\n",
    "    c_out_prime[p] = {}\n",
    "    for j in demand_centers:\n",
    "        try:\n",
    "            d = d_pd[p][j]\n",
    "        except KeyError:\n",
    "            print(f\"{p} or {j} not found in d_pd\")\n",
    "            break\n",
    "        if d <= 30:\n",
    "            # if d<=30: use local cartage rate from Table 3\n",
    "            # c_out_prime[p][j] = local_rate[p]\n",
    "            c_out_prime[p][j] = 0\n",
    "\n",
    "            # TODO: verify this.\n",
    "        else:\n",
    "            # else use 5.45 + 0.0037*d\n",
    "            c_out_prime[p][j] = 5.45 + 0.0037 * d"
   ]
  },
  {
   "cell_type": "code",
   "execution_count": null,
   "id": "3ca9351f",
   "metadata": {},
   "outputs": [],
   "source": [
    "# Quanto representa 1 cwt. em $? Dividimos as vendas totais ($) pela demand total (cwt)\n",
    "Gamma = 160_000_000 / 1_477_026  # ($ / cwt)\n",
    "Gamma"
   ]
  },
  {
   "cell_type": "code",
   "execution_count": null,
   "id": "d01193db",
   "metadata": {},
   "outputs": [],
   "source": [
    "# Custo de estocagem do armazém w\n",
    "tau = {}\n",
    "\n",
    "for i, w in enumerate(warehouses):\n",
    "    # Fiz o casting para evitar o np.float64 nos prints, mas nao precisava\n",
    "    tau[w] = float(table3[\"Storage ($/$)\"][i])"
   ]
  },
  {
   "cell_type": "code",
   "execution_count": null,
   "id": "17fb051d",
   "metadata": {},
   "outputs": [],
   "source": [
    "# Custo de handling do armazém w (epsilon)\n",
    "\n",
    "epsilons = {}\n",
    "\n",
    "for i, w in enumerate(warehouses):\n",
    "    epsilons[w] = float(table3[\"Handling ($/cwt)\"][i])"
   ]
  },
  {
   "cell_type": "code",
   "execution_count": null,
   "id": "36356669",
   "metadata": {},
   "outputs": [],
   "source": [
    "# gamma\n",
    "\n",
    "gammas = {}\n",
    "\n",
    "for i, w in enumerate(warehouses):\n",
    "    gammas[w] = float(table3[\"Stock Order Processing ($/order)\"][i])"
   ]
  },
  {
   "cell_type": "code",
   "execution_count": null,
   "id": "21c47618",
   "metadata": {},
   "outputs": [],
   "source": [
    "# delta\n",
    "\n",
    "deltas = {}\n",
    "\n",
    "for i, w in enumerate(warehouses):\n",
    "    deltas[w] = float(table3[\"Stock Order Size\"][i])"
   ]
  },
  {
   "cell_type": "code",
   "execution_count": null,
   "id": "208afc04",
   "metadata": {},
   "outputs": [],
   "source": [
    "# omega\n",
    "\n",
    "omegas = {}\n",
    "\n",
    "for i, w in enumerate(warehouses):\n",
    "    omegas[w] = float(table3[\"Customer Order size (cwt/order)\"][i])"
   ]
  },
  {
   "cell_type": "code",
   "execution_count": null,
   "id": "9e20b289",
   "metadata": {},
   "outputs": [],
   "source": [
    "# phi\n",
    "\n",
    "phi = {}\n",
    "for i, w in enumerate(warehouses):\n",
    "    phi[w] = float(table3[\"Customer Order Processing ($/order)\"][i])"
   ]
  },
  {
   "cell_type": "markdown",
   "id": "43956ff6",
   "metadata": {},
   "source": [
    "## 3. Defining the model"
   ]
  },
  {
   "cell_type": "code",
   "execution_count": null,
   "id": "8b899605",
   "metadata": {},
   "outputs": [],
   "source": [
    "m = Model(name=\"UsemoreWarehousing\")"
   ]
  },
  {
   "cell_type": "markdown",
   "id": "00f83997",
   "metadata": {},
   "source": [
    "### Indices"
   ]
  },
  {
   "cell_type": "code",
   "execution_count": null,
   "id": "466ef614",
   "metadata": {},
   "outputs": [],
   "source": [
    "print(plants)\n",
    "print(warehouses)\n",
    "# NOTE: tem que ver se o \"New York-\" não vai bugar quando permitirmos os potentials\n",
    "print(demand_centers)"
   ]
  },
  {
   "cell_type": "markdown",
   "id": "34721080",
   "metadata": {},
   "source": [
    "### Decision variables"
   ]
  },
  {
   "cell_type": "code",
   "execution_count": null,
   "id": "c0647710",
   "metadata": {},
   "outputs": [],
   "source": [
    "Z = m.addVars(warehouses, vtype=GRB.BINARY, name=\"z\")\n",
    "X = m.addVars(plants, warehouses, vtype=GRB.CONTINUOUS, name=\"x\")\n",
    "Y = m.addVars(warehouses, demand_centers, vtype=GRB.CONTINUOUS, name=\"y\")"
   ]
  },
  {
   "cell_type": "markdown",
   "id": "8c028c86",
   "metadata": {},
   "source": [
    "## 4. Objective Function"
   ]
  },
  {
   "cell_type": "markdown",
   "id": "feeacd5c",
   "metadata": {},
   "source": [
    "### Define all the costs components"
   ]
  },
  {
   "cell_type": "code",
   "execution_count": null,
   "id": "ff018f64",
   "metadata": {},
   "outputs": [],
   "source": [
    "# inbound transport (from plants to warehouses) (OK)\n",
    "inbound_transport_cost = gurobipy.quicksum(\n",
    "    c_in[p][w] * X[p, w] for p in plants for w in warehouses if w != p\n",
    ")"
   ]
  },
  {
   "cell_type": "code",
   "execution_count": null,
   "id": "1c92b2c4",
   "metadata": {},
   "outputs": [],
   "source": [
    "# outbound transport (from warehouses to demand nodes) (OK)\n",
    "outbound_transport_cost = gurobipy.quicksum(\n",
    "    c_out[w.replace(\"-\", \"\")][d] * Y[w.replace(\"-\", \"\"), d]\n",
    "    for w in existing_warehouses\n",
    "    for d in demand_centers\n",
    ")"
   ]
  },
  {
   "cell_type": "code",
   "execution_count": null,
   "id": "dbe072c7",
   "metadata": {},
   "outputs": [],
   "source": [
    "# transport cost from plants to demand centers (OK)\n",
    "direct_transport_cost = gurobipy.quicksum(\n",
    "    c_out_prime[p][d] * Y[p, d] for p in plants for d in demand_centers\n",
    ")"
   ]
  },
  {
   "cell_type": "code",
   "execution_count": null,
   "id": "f1b5fab2",
   "metadata": {},
   "outputs": [],
   "source": [
    "# production cost (OK)\n",
    "production_costs1 = gurobipy.quicksum(\n",
    "    rho[p] * (X[p, w]) for p in plants for w in warehouses\n",
    ")\n",
    "production_costs2 = gurobipy.quicksum(\n",
    "    rho[p] * (Y[p, d]) for p in plants for d in demand_centers\n",
    ")"
   ]
  },
  {
   "cell_type": "code",
   "execution_count": null,
   "id": "9fca0791",
   "metadata": {},
   "outputs": [],
   "source": [
    "# storage cost in warehouses (OK)\n",
    "m.Params.NonConvex = 2\n",
    "totX = m.addVar(name=\"totX\")\n",
    "\n",
    "m.addConstr(\n",
    "    totX == gurobipy.quicksum(X[p, w] for p in plants for w in warehouses),\n",
    "    name=\"define_totX\",\n",
    ")\n",
    "\n",
    "storage_pow = m.addVar(name=\"storage_pow\")\n",
    "m.addGenConstrPow(totX, storage_pow, 0.58, name=\"storage_pow\")\n",
    "\n",
    "storage_costs = 26 * 11.3 * storage_pow"
   ]
  },
  {
   "cell_type": "code",
   "execution_count": null,
   "id": "88baef63",
   "metadata": {},
   "outputs": [],
   "source": [
    "# INVENTORY (OK)\n",
    "inventory_pow = m.addVar(name=\"inventory_pow\")\n",
    "m.addGenConstrPow(totX, inventory_pow, 0.58, name=\"inventory_pow\")\n",
    "\n",
    "inventory_carrying_costs = 26 * 0.12 * 11.3 * inventory_pow"
   ]
  },
  {
   "cell_type": "code",
   "execution_count": null,
   "id": "ade54837",
   "metadata": {},
   "outputs": [],
   "source": [
    "# custo de handling nos armazéns (OK)\n",
    "handling_costs = gurobipy.quicksum(\n",
    "    2 * Z[w] * X[p, w] * epsilons[w] for p in plants for w in warehouses\n",
    ")"
   ]
  },
  {
   "cell_type": "code",
   "execution_count": null,
   "id": "844c68e5",
   "metadata": {},
   "outputs": [],
   "source": [
    "# custo de processamento do pedido de estoque (OK)\n",
    "stock_order_processing_costs = gurobipy.quicksum(\n",
    "    Z[w] * X[p, w] * (gammas[w] / deltas[w]) for p in plants for w in warehouses\n",
    ")"
   ]
  },
  {
   "cell_type": "code",
   "execution_count": null,
   "id": "6039e81c",
   "metadata": {},
   "outputs": [],
   "source": [
    "# custo de processamento do pedido do cliente (OK)\n",
    "customer_order_processing_costs = gurobipy.quicksum(\n",
    "    Y[w, d] * (phi[w] / omegas[w]) * Z[w] for w in warehouses for d in demand_centers\n",
    ")"
   ]
  },
  {
   "cell_type": "markdown",
   "id": "84efd89e",
   "metadata": {},
   "source": [
    "#### Define the objective function"
   ]
  },
  {
   "cell_type": "code",
   "execution_count": null,
   "id": "b16d62cc",
   "metadata": {},
   "outputs": [],
   "source": [
    "m.setObjective(\n",
    "    inbound_transport_cost\n",
    "    + outbound_transport_cost\n",
    "    + direct_transport_cost\n",
    "    + production_costs1\n",
    "    + production_costs2\n",
    "    + storage_costs\n",
    "    + handling_costs\n",
    "    + stock_order_processing_costs\n",
    "    + customer_order_processing_costs\n",
    "    + inventory_carrying_costs,\n",
    "    sense=GRB.MINIMIZE,\n",
    ")"
   ]
  },
  {
   "cell_type": "markdown",
   "id": "38970eb8",
   "metadata": {},
   "source": [
    "## Constraints"
   ]
  },
  {
   "cell_type": "code",
   "execution_count": null,
   "id": "7f4bdd2c",
   "metadata": {},
   "outputs": [],
   "source": [
    "# Nível de serviço\n",
    "# tabela_4 = {\n",
    "#     100: 56.4,\n",
    "#     200: 77.7,\n",
    "#     300: 93.4,\n",
    "#     400: 95.5,\n",
    "#     500: 97.0,\n",
    "#     600: 97.5,\n",
    "#     700: 99.5,\n",
    "#     800: 100.0,\n",
    "# }\n",
    "\n",
    "\n",
    "# def get_valor_tabela_4(distancia):\n",
    "#     for k, v in tabela_4.items():\n",
    "#         if distancia <= k:\n",
    "#             return v\n",
    "#     return 100.0\n",
    "\n",
    "\n",
    "# * get_valor_tabela_4(d_ws[w][d]) / 100\n",
    "\n"
   ]
  },
  {
   "cell_type": "code",
   "execution_count": null,
   "id": "07679891",
   "metadata": {},
   "outputs": [],
   "source": [
    "# Porcentagem de volume atendidos a uma distância menor que SERVICE_LEVEL_DISTANCE milhas\n",
    "total_prod = sum(S.values())\n",
    "\n",
    "service_level = gurobipy.quicksum(\n",
    "    Y[w, d] / total_prod\n",
    "    for w in warehouses\n",
    "    for d in demand_centers\n",
    "    if d_ws[w][d] <= SERVICE_LEVEL_DISTANCE\n",
    ")\n",
    "\n",
    "\n",
    "# m.addConstr(\n",
    "#     service_level >= SERVICE_LEVEL,\n",
    "#     name=\"service_level\",\n",
    "# )"
   ]
  },
  {
   "cell_type": "code",
   "execution_count": null,
   "id": "2c3795b8",
   "metadata": {},
   "outputs": [],
   "source": [
    "import numpy as np\n",
    "\n",
    "\n",
    "# Distancias medianas de um armazém para os centros de demanda\n",
    "\n",
    "for w in d_ws.keys():\n",
    "    q1 = np.percentile(list(d_ws[w].values()), 95)\n",
    "    # print(f\"{w:>20} {q1:>7.2f}\")"
   ]
  },
  {
   "cell_type": "code",
   "execution_count": null,
   "id": "52a8bbf1",
   "metadata": {},
   "outputs": [],
   "source": [
    "# Demand satisfaction (OK)\n",
    "\n",
    "for d in demand_centers:\n",
    "    m.addConstr(\n",
    "        gurobipy.quicksum(Y[w, d] for w in warehouses) == S[d],\n",
    "        name=f\"demand_{d}\",\n",
    "    )"
   ]
  },
  {
   "cell_type": "code",
   "execution_count": null,
   "id": "f9f96e52",
   "metadata": {},
   "outputs": [],
   "source": [
    "# Plant production capacity (OK)\n",
    "\n",
    "for p in plants:\n",
    "    # NOTE: repare que o que fica na fábrica pra ir direto pra d já está incluso no X[p, p]\n",
    "    m.addConstr(\n",
    "        gurobipy.quicksum(X[p, w] for w in warehouses) <= C[p],\n",
    "        name=f\"plantCap_{p}\",\n",
    "    )"
   ]
  },
  {
   "cell_type": "code",
   "execution_count": null,
   "id": "0505374d",
   "metadata": {},
   "outputs": [],
   "source": [
    "# restrição dos 10400 (OK)\n",
    "\n",
    "for w in warehouses:\n",
    "    # Um armazém só pode ser aberto se houver demanda de pelo menos 10_400 cwt\n",
    "    m.addConstr(\n",
    "        gurobipy.quicksum(Y[w, d] for d in demand_centers) >= 10_400 * Z[w],\n",
    "        name=f\"minThroughput_{w}\",\n",
    "    )"
   ]
  },
  {
   "cell_type": "code",
   "execution_count": null,
   "id": "ba45baee",
   "metadata": {},
   "outputs": [],
   "source": [
    "# restrições de armazenagem de cada planta (OK)\n",
    "\n",
    "for p in plants:\n",
    "    m.addConstr(X[p, p] <= C_prime[p])"
   ]
  },
  {
   "cell_type": "code",
   "execution_count": null,
   "id": "e206713e",
   "metadata": {},
   "outputs": [],
   "source": [
    "# Flow balance at each warehouse (está quebrando o código...)\n",
    "\n",
    "# for w in warehouses:\n",
    "#     # Tudo que entra no armazém deve ser igual a tudo que sai\n",
    "#     m.addConstr(\n",
    "#         gurobipy.quicksum(X[p, w] for p in plants)\n",
    "#         == gurobipy.quicksum(Y[w, d] for d in demand_centers),\n",
    "#         name=f\"flowBalance_{w}\",\n",
    "#     )\n",
    "\n",
    "# só para depósitos reais:\n",
    "for w in existing_warehouses:\n",
    "    m.addConstr(\n",
    "        gurobipy.quicksum(X[p, w] for p in plants)\n",
    "        == gurobipy.quicksum(Y[w, d] for d in demand_centers),\n",
    "        name=f\"flowExternal_{w}\",\n",
    "    )\n",
    "\n",
    "# para cada planta-nó:\n",
    "for p in plants:\n",
    "    # tudo que sai de p, seja via X (para outros warehouses) ou via Y (direto),\n",
    "    # deve bater com tudo que entra em p (X[p,p], se você ainda quiser usá-lo como estoque interno)\n",
    "    m.addConstr(\n",
    "        # opcional, se mantiver X[p,p] como \"estoque p\"\n",
    "        X[p, p] + gurobipy.quicksum(Y[p, d] for d in demand_centers)\n",
    "        == gurobipy.quicksum(X[n, p] for n in plants),\n",
    "        name=f\"flowPlant_{p}\",\n",
    "    )"
   ]
  },
  {
   "cell_type": "code",
   "execution_count": null,
   "id": "f6515c14",
   "metadata": {},
   "outputs": [],
   "source": [
    "M = total_prod"
   ]
  },
  {
   "cell_type": "code",
   "execution_count": null,
   "id": "384629f2",
   "metadata": {},
   "outputs": [],
   "source": [
    "# Restrições de Z (só posso usar um armazém se ele estiver aberto) (OK)\n",
    "for w in warehouses:\n",
    "    for p in plants:\n",
    "        # NOTE: the C[p] here is working as the big-M\n",
    "        m.addConstr(\n",
    "            X[p, w] <= M * Z[w],\n",
    "            name=f\"openWarehouse_{w},{p}\",\n",
    "        )\n",
    "    for d in demand_centers:\n",
    "        # NOTE: the S[d] here is working as the big-M\n",
    "        m.addConstr(\n",
    "            Y[w, d] <= M * Z[w],\n",
    "            name=f\"openWarehouse_{w},{d}\",\n",
    "        )"
   ]
  },
  {
   "cell_type": "code",
   "execution_count": null,
   "id": "e1800722",
   "metadata": {},
   "outputs": [],
   "source": [
    "# NOTE: forçando a planta a nao enviar direto pro armazém\n",
    "# for p in plants:\n",
    "#     for d in demand_centers:\n",
    "#         if d_pd[p][d] >= 300:\n",
    "#             continue\n",
    "\n",
    "#         m.addConstr(\n",
    "#             Y[p, d] == 0,\n",
    "#             name=f\"maluco_{p},{d}\",\n",
    "#         )\n"
   ]
  },
  {
   "cell_type": "code",
   "execution_count": null,
   "id": "9bf92c3e",
   "metadata": {},
   "outputs": [],
   "source": [
    "# Cada cliente deve ser atendido por um warehouse que esteja no máximo a 300 milhas de distancia\n",
    "# for w in existing_warehouses + plants:\n",
    "#     for d in demand_centers:\n",
    "#         if d_ws[w][d] > 900:\n",
    "#             m.addConstr(\n",
    "#                 Y[w, d] == 0,\n",
    "#                 name=f\"dist_too_far_{w}_{d}\"\n",
    "#             )\n"
   ]
  },
  {
   "cell_type": "code",
   "execution_count": null,
   "id": "a6a17d64",
   "metadata": {},
   "outputs": [],
   "source": [
    "# pprint(d_ws)\n",
    "\n",
    "# import numpy as np\n",
    "\n",
    "# np.mean(\n",
    "#     [d_ws[w][d] for w in existing_warehouses + plants for d in demand_centers]\n",
    "# )\n"
   ]
  },
  {
   "cell_type": "markdown",
   "id": "295c838a",
   "metadata": {},
   "source": [
    "## Solver"
   ]
  },
  {
   "cell_type": "code",
   "execution_count": null,
   "id": "83f70009",
   "metadata": {},
   "outputs": [],
   "source": [
    "# NOTE: precisou ser o formato .rlp pois algumas variáveis têm espaço\n",
    "m.write(\"model-baseline.rlp\")"
   ]
  },
  {
   "cell_type": "code",
   "execution_count": null,
   "id": "2dd56a49",
   "metadata": {},
   "outputs": [],
   "source": [
    "m.params.TimeLimit = 300  # seconds\n",
    "\n",
    "m.optimize()"
   ]
  },
  {
   "cell_type": "code",
   "execution_count": null,
   "id": "67930de6",
   "metadata": {},
   "outputs": [],
   "source": [
    "m.printStats()"
   ]
  },
  {
   "cell_type": "code",
   "execution_count": null,
   "id": "7197a372",
   "metadata": {},
   "outputs": [],
   "source": [
    "m.printQuality()"
   ]
  },
  {
   "cell_type": "markdown",
   "id": "afde0f08",
   "metadata": {},
   "source": [
    "## Visualize results"
   ]
  },
  {
   "cell_type": "markdown",
   "id": "e852cd0e",
   "metadata": {},
   "source": [
    "### Costs"
   ]
  },
  {
   "cell_type": "code",
   "execution_count": null,
   "id": "711eb929",
   "metadata": {},
   "outputs": [],
   "source": [
    "# Print the solution objective value\n",
    "print(f\"Objective function final value: ${m.objVal:,.2f}\")"
   ]
  },
  {
   "cell_type": "code",
   "execution_count": null,
   "id": "d0821ff4",
   "metadata": {},
   "outputs": [],
   "source": [
    "def display_cost_components():\n",
    "    \"\"\"Calculate and display all cost components\"\"\"\n",
    "\n",
    "    # Get cost values from the model\n",
    "    costs = {\n",
    "        \"Inbound transport cost\": inbound_transport_cost.getValue(),\n",
    "        \"Outbound transport cost\": outbound_transport_cost.getValue(),\n",
    "        \"Direct transport cost\": direct_transport_cost.getValue(),\n",
    "        # \"Local transport cost\": local_transport.getValue(),\n",
    "        # \"Long transport cost\": long_transport.getValue(),\n",
    "        \"Production costs\": production_costs1.getValue() + production_costs2.getValue(),\n",
    "        \"Storage costs\": storage_costs.getValue(),\n",
    "        \"Handling costs\": handling_costs.getValue(),\n",
    "        \"Stock order processing costs\": stock_order_processing_costs.getValue(),\n",
    "        \"Customer order processing costs\": customer_order_processing_costs.getValue(),\n",
    "        \"Inventory Carrying Costs\": inventory_carrying_costs.getValue(),\n",
    "    }\n",
    "\n",
    "    # Calculate total cost\n",
    "    total = sum(costs.values())\n",
    "\n",
    "    # Print the cost components in a formatted table\n",
    "    print(\"\\n\" + \"=\" * 65)\n",
    "    print(f\"{'COST BREAKDOWN':^65}\")\n",
    "    print(\"=\" * 65)\n",
    "    print(f\"{'Cost Component':<30} {'Amount ($)':>18} {'Percentage':>12}\")\n",
    "    print(\"-\" * 65)\n",
    "\n",
    "    try:\n",
    "        for name, value in costs.items():\n",
    "            percentage = (value / total) * 100\n",
    "            print(f\"{name:<32} ${value:>17,.2f} {percentage:>11.2f}%\")\n",
    "    except ZeroDivisionError:\n",
    "        pass\n",
    "\n",
    "    print(\"-\" * 65)\n",
    "    print(f\"{'TOTAL COST':<32} ${total:>17,.2f} {100:>11.2f}%\")\n",
    "    print(\"=\" * 65)\n",
    "\n",
    "\n",
    "# Call the function to display costs\n",
    "display_cost_components()"
   ]
  },
  {
   "cell_type": "markdown",
   "id": "5898928a",
   "metadata": {},
   "source": [
    "### Locations"
   ]
  },
  {
   "cell_type": "code",
   "execution_count": null,
   "id": "9c435c29",
   "metadata": {},
   "outputs": [],
   "source": [
    "open_w = [w for w in warehouses if Z[w].X > 0.1]\n",
    "closed_w = [w for w in warehouses if Z[w].X < 0.1]\n",
    "\n",
    "print(f\"Number of open warehouses 🏭: {len(open_w)} \")\n",
    "print(f\"Number of closed warehouses 🔒: {len(closed_w)} \")\n",
    "\n",
    "\n",
    "# Calculate percentage of open warehouses\n",
    "percentage_open = (len(open_w) / len(warehouses)) * 100\n",
    "print(f\"Percentage of warehouses open: {percentage_open:.1f}% 📊\")\n",
    "\n",
    "print(\"\\n--- Warehouse openings ---\")\n",
    "for w in open_w:\n",
    "    print(f\" Open warehouse at {w}\")\n",
    "\n",
    "if len(closed_w) > 0:\n",
    "    print(\"\\n--- Warehouse closings ---\")\n",
    "    for w in closed_w:\n",
    "        print(f\" Closed warehouse at {w}\")"
   ]
  },
  {
   "cell_type": "code",
   "execution_count": null,
   "id": "bc12b20e",
   "metadata": {},
   "outputs": [],
   "source": [
    "service_level.getValue()"
   ]
  },
  {
   "cell_type": "code",
   "execution_count": null,
   "id": "a33151a2",
   "metadata": {},
   "outputs": [],
   "source": [
    "# TODO: Salvar os open warehouses em um arquivo\n"
   ]
  },
  {
   "cell_type": "markdown",
   "id": "954322d2",
   "metadata": {},
   "source": [
    "### Production"
   ]
  },
  {
   "cell_type": "code",
   "execution_count": null,
   "id": "e49c5648",
   "metadata": {},
   "outputs": [],
   "source": [
    "plant_production = {}\n",
    "\n",
    "for p in plants:\n",
    "    plant_production[p] = sum(X[p, w].X for w in warehouses if Z[w].X > 0.1) + sum(\n",
    "        Y[p, d].X for d in demand_centers if d in S and S[d] > 0 and Y[p, d].X > 0.1\n",
    "    )\n",
    "\n",
    "print(\"\\n------------------ Plant production ----------------------\")\n",
    "total_production = sum(plant_production.values())\n",
    "for p in plants:\n",
    "    percentage = (plant_production[p] / total_production) * 100\n",
    "    print(\n",
    "        f\" Plant {p:>15} production: {plant_production[p]:,.2f} cwt ({percentage:>4.1f}%)\"\n",
    "    )"
   ]
  },
  {
   "cell_type": "code",
   "execution_count": null,
   "id": "a0b4be01",
   "metadata": {},
   "outputs": [],
   "source": [
    "print(f\"Total production: {total_production:,.1f} cwt\")"
   ]
  },
  {
   "cell_type": "markdown",
   "id": "0a03ed66",
   "metadata": {},
   "source": [
    "### Flows"
   ]
  },
  {
   "cell_type": "code",
   "execution_count": null,
   "id": "77b025c7",
   "metadata": {},
   "outputs": [],
   "source": [
    "print(\"\\n---------- Plant → Warehouse flows -------------\")\n",
    "for p, w in X.keys():\n",
    "    if X[p, w].X > 1e-6:\n",
    "        print(f\" {p:>15} → {w:<16} = {X[p, w].X:>5.0f} cwt\")"
   ]
  },
  {
   "cell_type": "code",
   "execution_count": null,
   "id": "3ad699e6",
   "metadata": {},
   "outputs": [],
   "source": [
    "print(\"\\n---------- Plant → Demand flows ---\")\n",
    "for w, j in Y.keys():\n",
    "    if Y[w, j].X > 1e-6:\n",
    "        print(f\" {w:>15} → {j}: {Y[w, j].X:>7.0f} cwt\")"
   ]
  },
  {
   "cell_type": "code",
   "execution_count": null,
   "id": "06f4069b",
   "metadata": {},
   "outputs": [],
   "source": [
    "print(\"\\n------- Warehouse → Demand flows ---\")\n",
    "for w, j in Y.keys():\n",
    "    if Y[w, j].X > 1e-6:\n",
    "        print(f\" {w:>16} → {j}: {Y[w, j].X:>5.0f} cwt\")"
   ]
  }
 ],
 "metadata": {
  "kernelspec": {
   "display_name": ".venv",
   "language": "python",
   "name": "python3"
  },
  "language_info": {
   "codemirror_mode": {
    "name": "ipython",
    "version": 3
   },
   "file_extension": ".py",
   "mimetype": "text/x-python",
   "name": "python",
   "nbconvert_exporter": "python",
   "pygments_lexer": "ipython3",
   "version": "3.11.0"
  }
 },
 "nbformat": 4,
 "nbformat_minor": 5
}
