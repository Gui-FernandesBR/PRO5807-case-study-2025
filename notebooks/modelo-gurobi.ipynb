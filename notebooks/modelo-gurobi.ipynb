{
 "cells": [
  {
   "cell_type": "markdown",
   "id": "71f38f09",
   "metadata": {},
   "source": [
    "# Usermore soap case study\n",
    "\n",
    "Guilherme Fernandes e Lauro Solia"
   ]
  },
  {
   "cell_type": "code",
   "execution_count": 71,
   "id": "471bf414",
   "metadata": {},
   "outputs": [],
   "source": [
    "from pprint import pprint\n",
    "\n",
    "import gurobipy\n",
    "from gurobipy import Model, GRB\n",
    "import matplotlib.pyplot as plt\n",
    "import numpy as np\n",
    "import pandas as pd"
   ]
  },
  {
   "cell_type": "markdown",
   "id": "c5b0ef47",
   "metadata": {},
   "source": [
    "## 1. Defining the sets"
   ]
  },
  {
   "cell_type": "code",
   "execution_count": 72,
   "id": "895a366f",
   "metadata": {},
   "outputs": [],
   "source": [
    "plants = [\n",
    "    \"Covington\",\n",
    "    \"New York\",\n",
    "    \"Arlington\",\n",
    "    \"Long Beach\",\n",
    "]\n",
    "\n",
    "existing_warehouses = [\n",
    "    \"Atlanta\",\n",
    "    \"Boston\",\n",
    "    \"Buffalo\",\n",
    "    \"Chicago\",\n",
    "    \"Cleveland\",\n",
    "    \"Davenport\",\n",
    "    \"Detroit\",\n",
    "    \"Grand Rapids\",\n",
    "    \"Greensboro\",\n",
    "    \"Kansas City\",\n",
    "    \"Baltimore\",\n",
    "    \"Memphis\",\n",
    "    \"Milwaukee\",\n",
    "    \"Orlando\",\n",
    "    \"Pittsburgh\",\n",
    "    \"Portland\",\n",
    "    \"W Sacramento\",\n",
    "    \"W Chester\",\n",
    "]\n",
    "\n",
    "potential_warehouses = [\n",
    "    \"Albuquerque\",\n",
    "    \"Billings\",\n",
    "    \"Denver\",\n",
    "    \"El Paso\",\n",
    "    \"Camp Hill\",\n",
    "    \"Houston\",\n",
    "    \"Las Vegas\",\n",
    "    \"Minneapolis\",\n",
    "    \"New Orleans\",\n",
    "    \"Phoenix\",\n",
    "    \"Richmond\",\n",
    "    \"St Louis\",\n",
    "    \"Salt Lake City\",\n",
    "    \"San Antonio\",\n",
    "    \"Seattle\",\n",
    "    \"Spokane\",\n",
    "    \"San Francisco\",\n",
    "    \"Indianapolis\",\n",
    "    \"Louisville\",\n",
    "    \"Columbus\",\n",
    "    \"New York-\",\n",
    "    \"Hartford\",\n",
    "    \"Miami\",\n",
    "    \"Mobile\",\n",
    "    \"Memphis *\",\n",
    "    \"Chicago *\",\n",
    "]\n",
    "\n",
    "warehouses = plants + existing_warehouses"
   ]
  },
  {
   "cell_type": "code",
   "execution_count": 73,
   "id": "97d3b15b",
   "metadata": {},
   "outputs": [
    {
     "name": "stdout",
     "output_type": "stream",
     "text": [
      "Number of plants:  4\n",
      "Number of existing warehouses:  18\n",
      "Number of potential warehouses:  26\n",
      "Number of total available warehouses for this case:  22\n",
      "Obs.: Each plant is also an existing warehouse\n"
     ]
    }
   ],
   "source": [
    "print(\"Number of plants: \", len(plants))\n",
    "print(\"Number of existing warehouses: \", len(existing_warehouses))\n",
    "print(\"Number of potential warehouses: \", len(potential_warehouses))\n",
    "print(\"Number of total available warehouses for this case: \", len(warehouses))\n",
    "print(\"Obs.: Each plant is also an existing warehouse\")"
   ]
  },
  {
   "cell_type": "markdown",
   "id": "712fcd56",
   "metadata": {},
   "source": [
    "## 2. Parameters"
   ]
  },
  {
   "cell_type": "markdown",
   "id": "b1449081",
   "metadata": {},
   "source": [
    "### Service Level"
   ]
  },
  {
   "cell_type": "code",
   "execution_count": 74,
   "id": "a70439fe",
   "metadata": {},
   "outputs": [],
   "source": [
    "# 93% under 1_500_000 miles\n",
    "SERVICE_LEVEL_DISTANCE = 600\n",
    "# SERVICE_LEVEL = 0.93"
   ]
  },
  {
   "cell_type": "markdown",
   "id": "c257a2d6",
   "metadata": {},
   "source": [
    "### Demand"
   ]
  },
  {
   "cell_type": "code",
   "execution_count": 75,
   "id": "8fae0141",
   "metadata": {},
   "outputs": [],
   "source": [
    "# read state demands from Figure 1\n",
    "state_demand = {\n",
    "    # West region:\n",
    "    \"WA\": 32437,  # Washington\n",
    "    \"OR\": 31365,  # Oregon\n",
    "    \"CA\": 135_116,  # California\n",
    "    \"NV\": 16755,  # Nevada\n",
    "    \"AZ\": 9063,  # Arizona\n",
    "    \"ID\": 7153,  # Idaho\n",
    "    # Northwest region:\n",
    "    \"UT\": 9001,  # Utah\n",
    "    \"MT\": 4140,  # Montana\n",
    "    \"ND\": 5703,  # North Dakota\n",
    "    \"WY\": 1004,  # Wyoming\n",
    "    \"CO\": 11147,  # Colorado\n",
    "    \"SD\": 1049,  # South Dakota\n",
    "    \"NE\": 7347,  # Nebraska\n",
    "    \"KS\": 6961,  # Kansas\n",
    "    \"MN\": 5633,  # Minnesota\n",
    "    \"IA\": 32175,  # Iowa\n",
    "    \"MO\": 41680,  # Missouri\n",
    "    # Southwest region:\n",
    "    \"NM\": 3536,  # New Mexico\n",
    "    \"TX\": 80438,  # Texas\n",
    "    \"OK\": 13517,  # Oklahoma\n",
    "    \"AR\": 4910,  # Arkansas\n",
    "    \"LA\": 15011,  # Louisiana\n",
    "    # Midwest region:\n",
    "    \"WI\": 37448,  # Wisconsin\n",
    "    \"IL\": 72839,  # Illinois\n",
    "    \"MI\": 105_181,  # Michigan\n",
    "    \"IN\": 43994,  # Indiana\n",
    "    \"KY\": 3870,  # Kentucky\n",
    "    \"OH\": 155_123,  # Ohio\n",
    "    # Northeast region:\n",
    "    \"ME\": 15829,  # Maine\n",
    "    \"NH\": 4546,  # New Hampshire\n",
    "    \"RI\": 17000,  # Rhode Island\n",
    "    \"NJ\": 21154,  # New Jersey\n",
    "    \"NY\": 160_917,  # New York\n",
    "    \"PA\": 65108,  # Pennsylvania\n",
    "    \"CT\": 26_187,  # Connecticut\n",
    "    \"MA\": 37087,  # Massachusetts\n",
    "    \"VA\": 17667,  # Virginia\n",
    "    \"WV\": 9168,  # West Virginia\n",
    "    \"MD\": 19_284,  # Maryland\n",
    "    \"VT\": 2_928,  # Vermont\n",
    "    \"DE\": 3_044,  # Delaware\n",
    "    # Southeast region:\n",
    "    \"TN\": 42_479,  # Tennessee\n",
    "    \"MS\": 15_205,  # Mississippi\n",
    "    \"AL\": 15_835,  # Alabama\n",
    "    \"GA\": 29_559,  # Georgia\n",
    "    \"FL\": 46_405,  # Florida\n",
    "    \"SC\": 5_680,  # South Carolina\n",
    "    \"NC\": 28_348,  # North Carolina\n",
    "}"
   ]
  },
  {
   "cell_type": "code",
   "execution_count": 76,
   "id": "a790486c",
   "metadata": {},
   "outputs": [
    {
     "name": "stdout",
     "output_type": "stream",
     "text": [
      "Total states number:  48\n",
      "Total demand:  1477026\n",
      "Each state represents a demand center\n"
     ]
    }
   ],
   "source": [
    "S = state_demand  # Sales\n",
    "total_demand = sum(S.values())\n",
    "\n",
    "print(\"Total states number: \", len(S))\n",
    "print(\"Total demand: \", total_demand)\n",
    "print(\"Each state represents a demand center\")\n",
    "\n",
    "# NOTE: Valor total deve ser 1_477_026, então precisei ajustar NY (que nao tem na foto) pra bater o valor final."
   ]
  },
  {
   "cell_type": "code",
   "execution_count": 77,
   "id": "2cb6fe3c",
   "metadata": {},
   "outputs": [],
   "source": [
    "demand_centers = [f\"{s}\" for s in state_demand.keys()]\n",
    "\n",
    "# pprint(demand_centers)"
   ]
  },
  {
   "cell_type": "markdown",
   "id": "7fe915ca",
   "metadata": {},
   "source": [
    "### Capacities"
   ]
  },
  {
   "cell_type": "code",
   "execution_count": 78,
   "id": "65f5001a",
   "metadata": {},
   "outputs": [],
   "source": [
    "# Plants current capacities C[p]\n",
    "C = {\n",
    "    \"Covington\": 620_000,\n",
    "    \"New York\": 430_000,\n",
    "    \"Arlington\": 300_000,\n",
    "    \"Long Beach\": 280_000,\n",
    "}"
   ]
  },
  {
   "cell_type": "code",
   "execution_count": 79,
   "id": "345ddc87",
   "metadata": {},
   "outputs": [],
   "source": [
    "# Warehouse/Plant stocking capacities C'[p]\n",
    "# (plants have capacity to stock, but the public warehouses do not)\n",
    "C_prime = {\n",
    "    \"Covington\": 450_000,\n",
    "    \"New York\": 380_000,\n",
    "    \"Arlington\": 140_000,\n",
    "    \"Long Beach\": 180_000,\n",
    "}"
   ]
  },
  {
   "cell_type": "markdown",
   "id": "63d7e624",
   "metadata": {},
   "source": [
    "### Distances"
   ]
  },
  {
   "cell_type": "code",
   "execution_count": 80,
   "id": "1b656977",
   "metadata": {},
   "outputs": [],
   "source": [
    "# Distance matrices (in miles)\n",
    "#     d_pw[p][w] = distance plant → warehouse\n",
    "#     d_wd[w][d] = distance warehouse → demand center\n",
    "\n",
    "df_pw = pd.read_excel(\n",
    "    \"../distances/distance_matrix.xlsx\", sheet_name=\"d_pw\", index_col=0\n",
    ")\n",
    "df_wd = pd.read_excel(\n",
    "    \"../distances/distance_matrix.xlsx\", sheet_name=\"d_ws\", index_col=0\n",
    ")\n",
    "\n",
    "d_pw = df_pw.to_dict()\n",
    "d_wd = df_wd.to_dict()"
   ]
  },
  {
   "cell_type": "code",
   "execution_count": 81,
   "id": "4c433b74",
   "metadata": {},
   "outputs": [],
   "source": [
    "# print(\"Distance matrices:\")\n",
    "# print(\"d_pw (plant to warehouse):\")\n",
    "# pprint(d_pw)\n",
    "# print(\"d_wd (warehouse to demand center):\")\n",
    "# pprint(d_wd)\n"
   ]
  },
  {
   "cell_type": "markdown",
   "id": "cdae9faa",
   "metadata": {},
   "source": [
    "### Costs"
   ]
  },
  {
   "cell_type": "code",
   "execution_count": 82,
   "id": "892c708f",
   "metadata": {},
   "outputs": [],
   "source": [
    "# Unit production cost (variable production cost)\n",
    "rho = {\n",
    "    \"Covington\": 21.0,\n",
    "    \"New York\": 19.9,\n",
    "    \"Arlington\": 21.6,\n",
    "    \"Long Beach\": 21.1,\n",
    "}"
   ]
  },
  {
   "cell_type": "code",
   "execution_count": 83,
   "id": "d9f49045",
   "metadata": {},
   "outputs": [],
   "source": [
    "# Inbound cost c_in[p][w] = 0.92 + 0.0034*d_pw\n",
    "# Represents costs from plants to warehouses\n",
    "c_in = {\n",
    "    p: {w: 0.92 + 0.0034 * d_pw[p][w.replace(\"-\", \"\")] for w in warehouses}\n",
    "    for p in plants\n",
    "}\n",
    "\n",
    "# c_in"
   ]
  },
  {
   "cell_type": "code",
   "execution_count": 84,
   "id": "6f4161bb",
   "metadata": {},
   "outputs": [
    {
     "data": {
      "application/vnd.microsoft.datawrangler.viewer.v0+json": {
       "columns": [
        {
         "name": "index",
         "rawType": "int64",
         "type": "integer"
        },
        {
         "name": "Warehouse No.",
         "rawType": "int64",
         "type": "integer"
        },
        {
         "name": "Storage ($/$)",
         "rawType": "float64",
         "type": "float"
        },
        {
         "name": "Handling ($/cwt)",
         "rawType": "float64",
         "type": "float"
        },
        {
         "name": "Stock Order Processing ($/order)",
         "rawType": "int64",
         "type": "integer"
        },
        {
         "name": "Stock Order Size",
         "rawType": "int64",
         "type": "integer"
        },
        {
         "name": "Customer Order Processing ($/order)",
         "rawType": "float64",
         "type": "float"
        },
        {
         "name": "Customer Order size (cwt/order)",
         "rawType": "float64",
         "type": "float"
        },
        {
         "name": "Local delivery rate ($/cwt)",
         "rawType": "float64",
         "type": "float"
        }
       ],
       "conversionMethod": "pd.DataFrame",
       "ref": "d0a2e247-e4fa-40cf-9896-312fdafa6224",
       "rows": [
        [
         "0",
         "1",
         "0.0672",
         "0.46",
         "18",
         "400",
         "1.79",
         "9.05",
         "1.9"
        ],
        [
         "1",
         "2",
         "0.0567",
         "0.54",
         "18",
         "400",
         "1.74",
         "10.92",
         "3.89"
        ],
        [
         "2",
         "3",
         "0.0755",
         "0.38",
         "18",
         "400",
         "2.71",
         "11.59",
         "2.02"
        ],
        [
         "3",
         "4",
         "0.0735",
         "0.59",
         "18",
         "400",
         "1.74",
         "11.3",
         "4.31"
        ],
        [
         "4",
         "5",
         "0.0946",
         "0.5",
         "18",
         "401",
         "0.83",
         "9.31",
         "1.89"
        ]
       ],
       "shape": {
        "columns": 8,
        "rows": 5
       }
      },
      "text/html": [
       "<div>\n",
       "<style scoped>\n",
       "    .dataframe tbody tr th:only-of-type {\n",
       "        vertical-align: middle;\n",
       "    }\n",
       "\n",
       "    .dataframe tbody tr th {\n",
       "        vertical-align: top;\n",
       "    }\n",
       "\n",
       "    .dataframe thead th {\n",
       "        text-align: right;\n",
       "    }\n",
       "</style>\n",
       "<table border=\"1\" class=\"dataframe\">\n",
       "  <thead>\n",
       "    <tr style=\"text-align: right;\">\n",
       "      <th></th>\n",
       "      <th>Warehouse No.</th>\n",
       "      <th>Storage ($/$)</th>\n",
       "      <th>Handling ($/cwt)</th>\n",
       "      <th>Stock Order Processing ($/order)</th>\n",
       "      <th>Stock Order Size</th>\n",
       "      <th>Customer Order Processing ($/order)</th>\n",
       "      <th>Customer Order size (cwt/order)</th>\n",
       "      <th>Local delivery rate ($/cwt)</th>\n",
       "    </tr>\n",
       "  </thead>\n",
       "  <tbody>\n",
       "    <tr>\n",
       "      <th>0</th>\n",
       "      <td>1</td>\n",
       "      <td>0.0672</td>\n",
       "      <td>0.46</td>\n",
       "      <td>18</td>\n",
       "      <td>400</td>\n",
       "      <td>1.79</td>\n",
       "      <td>9.05</td>\n",
       "      <td>1.90</td>\n",
       "    </tr>\n",
       "    <tr>\n",
       "      <th>1</th>\n",
       "      <td>2</td>\n",
       "      <td>0.0567</td>\n",
       "      <td>0.54</td>\n",
       "      <td>18</td>\n",
       "      <td>400</td>\n",
       "      <td>1.74</td>\n",
       "      <td>10.92</td>\n",
       "      <td>3.89</td>\n",
       "    </tr>\n",
       "    <tr>\n",
       "      <th>2</th>\n",
       "      <td>3</td>\n",
       "      <td>0.0755</td>\n",
       "      <td>0.38</td>\n",
       "      <td>18</td>\n",
       "      <td>400</td>\n",
       "      <td>2.71</td>\n",
       "      <td>11.59</td>\n",
       "      <td>2.02</td>\n",
       "    </tr>\n",
       "    <tr>\n",
       "      <th>3</th>\n",
       "      <td>4</td>\n",
       "      <td>0.0735</td>\n",
       "      <td>0.59</td>\n",
       "      <td>18</td>\n",
       "      <td>400</td>\n",
       "      <td>1.74</td>\n",
       "      <td>11.30</td>\n",
       "      <td>4.31</td>\n",
       "    </tr>\n",
       "    <tr>\n",
       "      <th>4</th>\n",
       "      <td>5</td>\n",
       "      <td>0.0946</td>\n",
       "      <td>0.50</td>\n",
       "      <td>18</td>\n",
       "      <td>401</td>\n",
       "      <td>0.83</td>\n",
       "      <td>9.31</td>\n",
       "      <td>1.89</td>\n",
       "    </tr>\n",
       "  </tbody>\n",
       "</table>\n",
       "</div>"
      ],
      "text/plain": [
       "   Warehouse No.  Storage ($/$)  Handling ($/cwt)  \\\n",
       "0              1         0.0672              0.46   \n",
       "1              2         0.0567              0.54   \n",
       "2              3         0.0755              0.38   \n",
       "3              4         0.0735              0.59   \n",
       "4              5         0.0946              0.50   \n",
       "\n",
       "   Stock Order Processing ($/order)  Stock Order Size  \\\n",
       "0                                18               400   \n",
       "1                                18               400   \n",
       "2                                18               400   \n",
       "3                                18               400   \n",
       "4                                18               401   \n",
       "\n",
       "   Customer Order Processing ($/order)  Customer Order size (cwt/order)  \\\n",
       "0                                 1.79                             9.05   \n",
       "1                                 1.74                            10.92   \n",
       "2                                 2.71                            11.59   \n",
       "3                                 1.74                            11.30   \n",
       "4                                 0.83                             9.31   \n",
       "\n",
       "   Local delivery rate ($/cwt)  \n",
       "0                         1.90  \n",
       "1                         3.89  \n",
       "2                         2.02  \n",
       "3                         4.31  \n",
       "4                         1.89  "
      ]
     },
     "execution_count": 84,
     "metadata": {},
     "output_type": "execute_result"
    }
   ],
   "source": [
    "# Ler tabela 3 do excel\n",
    "table3 = pd.read_excel(\"../misc/tabelas.xlsx\", sheet_name=\"table3\")\n",
    "\n",
    "table3.head()"
   ]
  },
  {
   "cell_type": "code",
   "execution_count": 85,
   "id": "0471466a",
   "metadata": {},
   "outputs": [],
   "source": [
    "# NOTE: usamos esse código so pra checar se existem valores abaixo de 30 milhas\n",
    "# for k, v in d_ws.items():\n",
    "#     for k2, v2 in v.items():\n",
    "#         if v2 <= 30:\n",
    "#             print(k, k2, v2)"
   ]
  },
  {
   "cell_type": "code",
   "execution_count": 86,
   "id": "b962c21f",
   "metadata": {},
   "outputs": [],
   "source": [
    "# Outbound cost c_out[w][j]:\n",
    "# Custo de enviar do warehouse para o demand center\n",
    "\n",
    "local_rate = {i: v for i, v in enumerate(table3[\"Local delivery rate ($/cwt)\"])}\n",
    "\n",
    "c_out = {}\n",
    "for i, w in enumerate(warehouses):\n",
    "    # w = w.replace(\"-\", \"\")\n",
    "    c_out[w] = {}\n",
    "    for s in demand_centers:\n",
    "        d = d_wd[w][s]\n",
    "        if d <= 30:\n",
    "            # if d<=30: use local cartage rate from Table 3\n",
    "            c_out[w][s] = local_rate[i]\n",
    "        else:\n",
    "            # else use 5.45 + 0.0037*d\n",
    "            c_out[w][s] = 5.45 + 0.0037 * d\n",
    "\n",
    "# c_out"
   ]
  },
  {
   "cell_type": "code",
   "execution_count": 87,
   "id": "3ca9351f",
   "metadata": {},
   "outputs": [
    {
     "data": {
      "text/plain": [
       "108.32578438023434"
      ]
     },
     "execution_count": 87,
     "metadata": {},
     "output_type": "execute_result"
    }
   ],
   "source": [
    "# Conversão de unidades:\n",
    "# Quanto representa 1 cwt. em $?\n",
    "# Dividimos as vendas totais ($) pela demand total (cwt)\n",
    "Gamma = 160_000_000 / 1_477_026  # ($ / cwt)\n",
    "Gamma"
   ]
  },
  {
   "cell_type": "code",
   "execution_count": 88,
   "id": "d01193db",
   "metadata": {},
   "outputs": [],
   "source": [
    "# Custo de estocagem do armazém w (Storage rate)\n",
    "tau = {}\n",
    "\n",
    "for i, w in enumerate(warehouses):\n",
    "    # Fiz o casting para evitar o np.float64 nos prints, mas nao precisava\n",
    "    tau[w] = float(table3[\"Storage ($/$)\"][i])"
   ]
  },
  {
   "cell_type": "code",
   "execution_count": 89,
   "id": "17fb051d",
   "metadata": {},
   "outputs": [],
   "source": [
    "# Custo de handling do armazém w (epsilon)\n",
    "\n",
    "epsilons = {}\n",
    "\n",
    "for i, w in enumerate(warehouses):\n",
    "    epsilons[w] = float(table3[\"Handling ($/cwt)\"][i])"
   ]
  },
  {
   "cell_type": "code",
   "execution_count": 90,
   "id": "36356669",
   "metadata": {},
   "outputs": [],
   "source": [
    "# gamma\n",
    "\n",
    "gammas = {}\n",
    "\n",
    "for i, w in enumerate(warehouses):\n",
    "    gammas[w] = float(table3[\"Stock Order Processing ($/order)\"][i])"
   ]
  },
  {
   "cell_type": "code",
   "execution_count": 91,
   "id": "21c47618",
   "metadata": {},
   "outputs": [],
   "source": [
    "# delta\n",
    "\n",
    "deltas = {}\n",
    "\n",
    "for i, w in enumerate(warehouses):\n",
    "    deltas[w] = float(table3[\"Stock Order Size\"][i])"
   ]
  },
  {
   "cell_type": "code",
   "execution_count": 92,
   "id": "208afc04",
   "metadata": {},
   "outputs": [],
   "source": [
    "# omega\n",
    "\n",
    "omegas = {}\n",
    "\n",
    "for i, w in enumerate(warehouses):\n",
    "    omegas[w] = float(table3[\"Customer Order size (cwt/order)\"][i])"
   ]
  },
  {
   "cell_type": "code",
   "execution_count": 93,
   "id": "9e20b289",
   "metadata": {},
   "outputs": [],
   "source": [
    "# phi\n",
    "\n",
    "phi = {}\n",
    "for i, w in enumerate(warehouses):\n",
    "    phi[w] = float(table3[\"Customer Order Processing ($/order)\"][i])"
   ]
  },
  {
   "cell_type": "markdown",
   "id": "43956ff6",
   "metadata": {},
   "source": [
    "## 3. Defining the model"
   ]
  },
  {
   "cell_type": "code",
   "execution_count": 94,
   "id": "8b899605",
   "metadata": {},
   "outputs": [],
   "source": [
    "m = Model(name=\"UsemoreWarehousing\")"
   ]
  },
  {
   "cell_type": "markdown",
   "id": "00f83997",
   "metadata": {},
   "source": [
    "### Indices"
   ]
  },
  {
   "cell_type": "code",
   "execution_count": 95,
   "id": "466ef614",
   "metadata": {},
   "outputs": [
    {
     "name": "stdout",
     "output_type": "stream",
     "text": [
      "['Covington', 'New York', 'Arlington', 'Long Beach']\n",
      "['Covington', 'New York', 'Arlington', 'Long Beach', 'Atlanta', 'Boston', 'Buffalo', 'Chicago', 'Cleveland', 'Davenport', 'Detroit', 'Grand Rapids', 'Greensboro', 'Kansas City', 'Baltimore', 'Memphis', 'Milwaukee', 'Orlando', 'Pittsburgh', 'Portland', 'W Sacramento', 'W Chester']\n",
      "['WA', 'OR', 'CA', 'NV', 'AZ', 'ID', 'UT', 'MT', 'ND', 'WY', 'CO', 'SD', 'NE', 'KS', 'MN', 'IA', 'MO', 'NM', 'TX', 'OK', 'AR', 'LA', 'WI', 'IL', 'MI', 'IN', 'KY', 'OH', 'ME', 'NH', 'RI', 'NJ', 'NY', 'PA', 'CT', 'MA', 'VA', 'WV', 'MD', 'VT', 'DE', 'TN', 'MS', 'AL', 'GA', 'FL', 'SC', 'NC']\n"
     ]
    }
   ],
   "source": [
    "print(plants)\n",
    "print(warehouses)\n",
    "# NOTE: tem que ver se o \"New York-\" não vai dar bug quando permitirmos os potentials\n",
    "print(demand_centers)"
   ]
  },
  {
   "cell_type": "markdown",
   "id": "34721080",
   "metadata": {},
   "source": [
    "### Decision variables"
   ]
  },
  {
   "cell_type": "code",
   "execution_count": 96,
   "id": "c0647710",
   "metadata": {},
   "outputs": [],
   "source": [
    "# Se eu uso um armazém: Z[w] = 1\n",
    "Z = m.addVars(warehouses, vtype=GRB.BINARY, name=\"z\")\n",
    "\n",
    "# Quanto de volume mando de p para w\n",
    "X = m.addVars(plants, warehouses, vtype=GRB.CONTINUOUS, name=\"x\")\n",
    "\n",
    "# Quanto de volume mando de w para d\n",
    "Y = m.addVars(warehouses, demand_centers, vtype=GRB.CONTINUOUS, name=\"y\")"
   ]
  },
  {
   "cell_type": "markdown",
   "id": "8c028c86",
   "metadata": {},
   "source": [
    "## 4. Objective Function"
   ]
  },
  {
   "cell_type": "markdown",
   "id": "feeacd5c",
   "metadata": {},
   "source": [
    "### Define all the costs components"
   ]
  },
  {
   "cell_type": "code",
   "execution_count": 97,
   "id": "ff018f64",
   "metadata": {},
   "outputs": [],
   "source": [
    "# inbound transport (from plants to warehouses)\n",
    "# NOTE: coloquei esse if w != p porque nao ha custo de transporte para levar da planta para o seu próprio armazém\n",
    "inbound_transport_cost = gurobipy.quicksum(\n",
    "    c_in[p][w] * X[p, w] for p in plants for w in warehouses if w != p\n",
    ")"
   ]
  },
  {
   "cell_type": "code",
   "execution_count": 98,
   "id": "1c92b2c4",
   "metadata": {},
   "outputs": [],
   "source": [
    "# outbound transport (from warehouses to demand nodes)\n",
    "outbound_transport_cost = gurobipy.quicksum(\n",
    "    c_out[w][d] * Y[w, d] for w in warehouses for d in demand_centers\n",
    ")"
   ]
  },
  {
   "cell_type": "code",
   "execution_count": 99,
   "id": "f1b5fab2",
   "metadata": {},
   "outputs": [],
   "source": [
    "# production cost\n",
    "production_costs = gurobipy.quicksum(\n",
    "    rho[p] * (X[p, w]) for p in plants for w in warehouses\n",
    ")"
   ]
  },
  {
   "cell_type": "code",
   "execution_count": 100,
   "id": "9fca0791",
   "metadata": {},
   "outputs": [
    {
     "name": "stdout",
     "output_type": "stream",
     "text": [
      "Set parameter NonConvex to value 2\n"
     ]
    }
   ],
   "source": [
    "# Storage cost in warehouses\n",
    "# Para cada armazém, calcula o custo de estocagem individualmente e soma todos\n",
    "\n",
    "m.Params.NonConvex = 2\n",
    "\n",
    "storage_pow = {}\n",
    "storage_costs = []\n",
    "\n",
    "for w in warehouses:\n",
    "    # total de saída do armazém w\n",
    "    totX_w = m.addVar(name=f\"totX_{w}\")\n",
    "\n",
    "    m.addConstr(\n",
    "        totX_w == gurobipy.quicksum(Y[w, d] for d in demand_centers),\n",
    "        name=f\"define_totX_{w}\",\n",
    "    )\n",
    "\n",
    "    # variável para totX_w^0.58\n",
    "    storage_pow[w] = m.addVar(name=f\"storage_pow_{w}\")\n",
    "\n",
    "    m.addGenConstrPow(totX_w, storage_pow[w], 0.58, name=f\"storage_pow_{w}\")\n",
    "\n",
    "    # custo de estocagem para o armazém w\n",
    "    storage_costs.append(26 * 11.3 * storage_pow[w])\n",
    "\n",
    "# soma total dos custos de estocagem\n",
    "storage_costs = gurobipy.quicksum(storage_costs)"
   ]
  },
  {
   "cell_type": "code",
   "execution_count": 101,
   "id": "88baef63",
   "metadata": {},
   "outputs": [],
   "source": [
    "# INVENTORY\n",
    "inventory_pow = {}\n",
    "inventory_costs = []\n",
    "\n",
    "for w in warehouses:\n",
    "    # total de saída do armazém w\n",
    "    totX_w = m.addVar(name=f\"totX_{w}\")\n",
    "\n",
    "    m.addConstr(\n",
    "        totX_w == gurobipy.quicksum(Y[w, d] for d in demand_centers),\n",
    "        name=f\"define_totX_{w}\",\n",
    "    )\n",
    "\n",
    "    # variável para totX_w^0.58\n",
    "    inventory_pow[w] = m.addVar(name=f\"inventory_pow_{w}\")\n",
    "\n",
    "    m.addGenConstrPow(totX_w, inventory_pow[w], 0.58, name=f\"inventory_pow_{w}\")\n",
    "\n",
    "    # custo de Inventory para o armazém w\n",
    "    inventory_costs.append(26 * 0.12 * 11.3 * inventory_pow[w])\n",
    "\n",
    "# soma total dos custos de estocagem\n",
    "inventory_costs = gurobipy.quicksum(inventory_costs)"
   ]
  },
  {
   "cell_type": "code",
   "execution_count": 102,
   "id": "ade54837",
   "metadata": {},
   "outputs": [],
   "source": [
    "# custo de handling nos armazéns\n",
    "handling_costs = gurobipy.quicksum(\n",
    "    2 * Z[w] * X[p, w] * epsilons[w] for p in plants for w in warehouses\n",
    ")"
   ]
  },
  {
   "cell_type": "code",
   "execution_count": 103,
   "id": "844c68e5",
   "metadata": {},
   "outputs": [],
   "source": [
    "# custo de processamento do pedido de estoque\n",
    "stock_order_processing_costs = gurobipy.quicksum(\n",
    "    Z[w] * X[p, w] * (gammas[w] / deltas[w]) for p in plants for w in warehouses\n",
    ")"
   ]
  },
  {
   "cell_type": "code",
   "execution_count": 104,
   "id": "6039e81c",
   "metadata": {},
   "outputs": [],
   "source": [
    "# custo de processamento do pedido do cliente\n",
    "customer_order_processing_costs = gurobipy.quicksum(\n",
    "    Z[w] * Y[w, d] * (phi[w] / omegas[w]) for w in warehouses for d in demand_centers\n",
    ")"
   ]
  },
  {
   "cell_type": "markdown",
   "id": "84efd89e",
   "metadata": {},
   "source": [
    "### Define the objective function"
   ]
  },
  {
   "cell_type": "code",
   "execution_count": 105,
   "id": "b16d62cc",
   "metadata": {},
   "outputs": [],
   "source": [
    "m.setObjective(\n",
    "    inbound_transport_cost\n",
    "    + outbound_transport_cost\n",
    "    + production_costs\n",
    "    + storage_costs\n",
    "    + inventory_costs\n",
    "    + handling_costs\n",
    "    + stock_order_processing_costs\n",
    "    + customer_order_processing_costs,\n",
    "    sense=GRB.MINIMIZE,\n",
    ")"
   ]
  },
  {
   "cell_type": "markdown",
   "id": "38970eb8",
   "metadata": {},
   "source": [
    "## Constraints"
   ]
  },
  {
   "cell_type": "markdown",
   "id": "43e7af18",
   "metadata": {},
   "source": [
    "### Service level"
   ]
  },
  {
   "cell_type": "code",
   "execution_count": 106,
   "id": "07679891",
   "metadata": {},
   "outputs": [],
   "source": [
    "# Porcentagem de volume atendidos a uma distância menor que SERVICE_LEVEL_DISTANCE milhas\n",
    "\n",
    "service_level_30 = gurobipy.quicksum(\n",
    "    Y[w, d] / total_demand\n",
    "    for w in warehouses\n",
    "    for d in demand_centers\n",
    "    if d_wd[w][d] <= 30\n",
    ")\n",
    "service_level_100 = gurobipy.quicksum(\n",
    "    Y[w, d] / total_demand\n",
    "    for w in warehouses\n",
    "    for d in demand_centers\n",
    "    if d_wd[w][d] <= 100\n",
    ")\n",
    "service_level_300 = gurobipy.quicksum(\n",
    "    Y[w, d] / total_demand\n",
    "    for w in warehouses\n",
    "    for d in demand_centers\n",
    "    if d_wd[w][d] <= 300\n",
    ")\n",
    "service_level_600 = gurobipy.quicksum(\n",
    "    Y[w, d] / total_demand\n",
    "    for w in warehouses\n",
    "    for d in demand_centers\n",
    "    if d_wd[w][d] <= 600\n",
    ")\n",
    "service_level_1000 = gurobipy.quicksum(\n",
    "    Y[w, d] / total_demand\n",
    "    for w in warehouses\n",
    "    for d in demand_centers\n",
    "    if d_wd[w][d] <= 1000\n",
    ")\n",
    "service_level_1500 = gurobipy.quicksum(\n",
    "    Y[w, d] / total_demand\n",
    "    for w in warehouses\n",
    "    for d in demand_centers\n",
    "    if d_wd[w][d] <= 1500\n",
    ")\n",
    "\n",
    "\n",
    "# m.addConstr(\n",
    "#     service_level >= SERVICE_LEVEL,\n",
    "#     name=\"service_level\",\n",
    "# )"
   ]
  },
  {
   "cell_type": "code",
   "execution_count": 107,
   "id": "2c3795b8",
   "metadata": {},
   "outputs": [],
   "source": [
    "# Distancias medianas de um armazém para os centros de demanda\n",
    "\n",
    "# for w in d_wd.keys():\n",
    "#     q1 = np.percentile(list(d_wd[w].values()), 95)\n",
    "#       print(f\"{w:>20} {q1:>7.2f}\")"
   ]
  },
  {
   "cell_type": "markdown",
   "id": "5ede9a83",
   "metadata": {},
   "source": [
    "### Demand"
   ]
  },
  {
   "cell_type": "code",
   "execution_count": 108,
   "id": "52a8bbf1",
   "metadata": {},
   "outputs": [],
   "source": [
    "# Demand satisfaction\n",
    "\n",
    "for d in demand_centers:\n",
    "    m.addConstr(\n",
    "        gurobipy.quicksum(Y[w, d] for w in warehouses) == S[d],\n",
    "        name=f\"demand_{d}\",\n",
    "    )"
   ]
  },
  {
   "cell_type": "markdown",
   "id": "15f1160d",
   "metadata": {},
   "source": [
    "### Production"
   ]
  },
  {
   "cell_type": "code",
   "execution_count": 109,
   "id": "f9f96e52",
   "metadata": {},
   "outputs": [],
   "source": [
    "# Plant production capacity\n",
    "\n",
    "for p in plants:\n",
    "    m.addConstr(\n",
    "        gurobipy.quicksum(X[p, w] for w in warehouses) <= C[p],\n",
    "        name=f\"plantCap_{p}\",\n",
    "    )"
   ]
  },
  {
   "cell_type": "markdown",
   "id": "3195b3c6",
   "metadata": {},
   "source": [
    "### Capacity"
   ]
  },
  {
   "cell_type": "code",
   "execution_count": 110,
   "id": "0505374d",
   "metadata": {},
   "outputs": [],
   "source": [
    "# restrição dos 10400\n",
    "\n",
    "for w in warehouses:\n",
    "    # Um armazém só pode ser aberto se houver demanda de pelo menos 10_400 cwt\n",
    "    m.addConstr(\n",
    "        gurobipy.quicksum(Y[w, d] for d in demand_centers) >= 10_400 * Z[w],\n",
    "        name=f\"minThroughput_{w}\",\n",
    "    )"
   ]
  },
  {
   "cell_type": "code",
   "execution_count": 111,
   "id": "ba45baee",
   "metadata": {},
   "outputs": [],
   "source": [
    "# restrições de armazenagem de cada planta\n",
    "\n",
    "for p1 in plants:\n",
    "    m.addConstr(\n",
    "        gurobipy.quicksum(X[p2, p1] for p2 in plants) <= C_prime[p1],\n",
    "        name=f\"plantStorageCap_{p1}\",\n",
    "    )"
   ]
  },
  {
   "cell_type": "markdown",
   "id": "cfbddb51",
   "metadata": {},
   "source": [
    "### Flow balance"
   ]
  },
  {
   "cell_type": "code",
   "execution_count": 112,
   "id": "e206713e",
   "metadata": {},
   "outputs": [],
   "source": [
    "# Flow balance at each warehouse (está quebrando o código...)\n",
    "\n",
    "for w in warehouses:\n",
    "    # Tudo que entra no armazém deve ser igual a tudo que sai\n",
    "    m.addConstr(\n",
    "        gurobipy.quicksum(X[p, w] for p in plants)\n",
    "        == gurobipy.quicksum(Y[w, d] for d in demand_centers),\n",
    "        name=f\"flowBalance_{w}\",\n",
    "    )"
   ]
  },
  {
   "cell_type": "markdown",
   "id": "194bf684",
   "metadata": {},
   "source": [
    "### Flow conservation"
   ]
  },
  {
   "cell_type": "code",
   "execution_count": 113,
   "id": "f6515c14",
   "metadata": {},
   "outputs": [],
   "source": [
    "M = total_demand"
   ]
  },
  {
   "cell_type": "code",
   "execution_count": 114,
   "id": "384629f2",
   "metadata": {},
   "outputs": [],
   "source": [
    "# Restrições de Z (só posso usar um armazém se ele estiver aberto)\n",
    "for w in warehouses:\n",
    "    for p in plants:\n",
    "        # NOTE: the C[p] here is working as the big-M\n",
    "        m.addConstr(\n",
    "            X[p, w] <= M * Z[w],\n",
    "            name=f\"openWarehouse_{w},{p}\",\n",
    "        )\n",
    "    for d in demand_centers:\n",
    "        # NOTE: the S[d] here is working as the big-M\n",
    "        m.addConstr(\n",
    "            Y[w, d] <= M * Z[w],\n",
    "            name=f\"openWarehouse_{w},{d}\",\n",
    "        )"
   ]
  },
  {
   "cell_type": "markdown",
   "id": "295c838a",
   "metadata": {},
   "source": [
    "## Solver"
   ]
  },
  {
   "cell_type": "code",
   "execution_count": 115,
   "id": "83f70009",
   "metadata": {},
   "outputs": [],
   "source": [
    "# NOTE: precisou ser o formato .rlp pois algumas variáveis têm espaço\n",
    "m.write(\"model-baseline.rlp\")\n",
    "# m.write(\"model-baseline.lp\")"
   ]
  },
  {
   "cell_type": "code",
   "execution_count": 116,
   "id": "172a7261",
   "metadata": {},
   "outputs": [
    {
     "name": "stdout",
     "output_type": "stream",
     "text": [
      "Set parameter TimeLimit to value 600\n"
     ]
    }
   ],
   "source": [
    "m.params.TimeLimit = 600  # seconds"
   ]
  },
  {
   "cell_type": "code",
   "execution_count": 117,
   "id": "58c4c206",
   "metadata": {},
   "outputs": [
    {
     "name": "stdout",
     "output_type": "stream",
     "text": [
      "Gurobi Optimizer version 11.0.3 build v11.0.3rc0 (win64 - Windows 11+.0 (26100.2))\n",
      "\n",
      "CPU model: AMD Ryzen 7 7730U with Radeon Graphics, instruction set [SSE2|AVX|AVX2]\n",
      "Thread count: 8 physical cores, 16 logical processors, using up to 16 threads\n",
      "\n",
      "Presolve added 106 rows and 3322 columns\n",
      "Presolve time: 0.06s\n"
     ]
    },
    {
     "data": {
      "text/plain": [
       "<gurobi.Model MIP instance UsemoreWarehousing_pre: 2538 constrs, 5720 vars, Parameter changes: TimeLimit=600.0, Username=(user-defined), NonConvex=2>"
      ]
     },
     "execution_count": 117,
     "metadata": {},
     "output_type": "execute_result"
    }
   ],
   "source": [
    "m.presolve()"
   ]
  },
  {
   "cell_type": "code",
   "execution_count": 118,
   "id": "2dd56a49",
   "metadata": {},
   "outputs": [
    {
     "name": "stdout",
     "output_type": "stream",
     "text": [
      "Gurobi Optimizer version 11.0.3 build v11.0.3rc0 (win64 - Windows 11+.0 (26100.2))\n",
      "\n",
      "CPU model: AMD Ryzen 7 7730U with Radeon Graphics, instruction set [SSE2|AVX|AVX2]\n",
      "Thread count: 8 physical cores, 16 logical processors, using up to 16 threads\n",
      "\n",
      "Optimize a model with 1288 rows, 1254 columns and 7826 nonzeros\n",
      "Model fingerprint: 0xe976db95\n",
      "Model has 1144 quadratic objective terms\n",
      "Model has 44 general constraints\n",
      "Variable types: 1232 continuous, 22 integer (22 binary)\n",
      "Coefficient statistics:\n",
      "  Matrix range     [1e+00, 1e+06]\n",
      "  Objective range  [2e+00, 3e+02]\n",
      "  QObjective range [2e-01, 7e+00]\n",
      "  Bounds range     [1e+00, 1e+00]\n",
      "  RHS range        [1e+03, 6e+05]\n",
      "Presolve added 106 rows and 3322 columns\n",
      "Presolve time: 0.05s\n",
      "Presolved: 2538 rows, 5720 columns, 18128 nonzeros\n",
      "Presolved model has 44 SOS constraint(s)\n",
      "Variable types: 5698 continuous, 22 integer (22 binary)\n",
      "\n",
      "Root relaxation: objective 4.417745e+07, 510 iterations, 0.02 seconds (0.01 work units)\n",
      "\n",
      "    Nodes    |    Current Node    |     Objective Bounds      |     Work\n",
      " Expl Unexpl |  Obj  Depth IntInf | Incumbent    BestBd   Gap | It/Node Time\n",
      "\n",
      "     0     0 4.4177e+07    0   20          - 4.4177e+07      -     -    0s\n",
      "     0     0 4.4178e+07    0   20          - 4.4178e+07      -     -    0s\n",
      "     0     0 4.4269e+07    0   20          - 4.4269e+07      -     -    0s\n",
      "     0     0 4.4366e+07    0   20          - 4.4366e+07      -     -    0s\n",
      "     0     0 4.4430e+07    0   20          - 4.4430e+07      -     -    0s\n",
      "     0     0 4.4462e+07    0   20          - 4.4462e+07      -     -    0s\n",
      "     0     0 4.4496e+07    0   20          - 4.4496e+07      -     -    0s\n",
      "     0     0 4.4533e+07    0   20          - 4.4533e+07      -     -    0s\n",
      "     0     0 4.4573e+07    0   20          - 4.4573e+07      -     -    0s\n",
      "     0     0 4.4591e+07    0   20          - 4.4591e+07      -     -    0s\n",
      "     0     0 4.4754e+07    0   20          - 4.4754e+07      -     -    0s\n",
      "     0     2 4.4754e+07    0   20          - 4.4754e+07      -     -    0s\n",
      "* 3072   469             217    4.619519e+07 4.4813e+07  2.99%   4.2    1s\n",
      "  3598   527 4.5447e+07   20  264 4.6195e+07 4.5064e+07  2.45%   6.4    5s\n",
      "* 3988   558              65    4.600449e+07 4.5064e+07  2.04%   7.4    6s\n",
      "H 4029   529                    4.594552e+07 4.5064e+07  1.92%   7.5    6s\n",
      "* 4039   505              58    4.594532e+07 4.5064e+07  1.92%   7.5    6s\n",
      "H 4124   481                    4.575974e+07 4.5064e+07  1.52%   7.6    6s\n",
      "* 4167   440              64    4.575974e+07 4.5064e+07  1.52%   7.6    7s\n",
      "H 4195   419                    4.574728e+07 4.5064e+07  1.49%   7.7    7s\n",
      "H 4197   401                    4.569303e+07 4.5064e+07  1.38%   7.7    7s\n",
      "H 4203   383                    4.562909e+07 4.5064e+07  1.24%   7.7    7s\n",
      "H 4245   367                    4.557739e+07 4.5083e+07  1.09%   7.8    8s\n",
      "H 4246   353                    4.551263e+07 4.5083e+07  0.95%   7.8    8s\n",
      "H 4316   342                    4.550176e+07 4.5083e+07  0.92%   8.0    8s\n",
      "  4892   442 4.5306e+07   22  406 4.5502e+07 4.5179e+07  0.71%   8.6   10s\n",
      " 12216  2255 4.5474e+07   27  463 4.5502e+07 4.5417e+07  0.19%   9.4   15s\n",
      " 14535  2425 4.5480e+07   45  323 4.5502e+07 4.5433e+07  0.15%   9.3   21s\n",
      " 14915  2418     cutoff   44      4.5502e+07 4.5433e+07  0.15%  10.0   25s\n",
      " 16900  2422 4.5433e+07   48  190 4.5502e+07 4.5433e+07  0.15%   9.9   30s\n",
      " 20141  2760 4.5464e+07   59  187 4.5502e+07 4.5433e+07  0.15%   9.8   35s\n",
      " 24209  3043 4.5478e+07   70  131 4.5502e+07 4.5433e+07  0.15%   9.6   40s\n",
      " 27692  2125 infeasible   53      4.5502e+07 4.5452e+07  0.11%   9.4   45s\n",
      "\n",
      "Explored 31854 nodes (289294 simplex iterations) in 48.67 seconds (16.89 work units)\n",
      "Thread count was 16 (of 16 available processors)\n",
      "\n",
      "Solution count 10: 4.55018e+07 4.55126e+07 4.55774e+07 ... 4.60045e+07\n",
      "\n",
      "Optimal solution found (tolerance 1.00e-04)\n",
      "Warning: max constraint violation (1.8166e+00) exceeds tolerance\n",
      "Warning: max general constraint violation (1.8166e+00) exceeds tolerance\n",
      "  Piecewise linearization of function constraints often causes big violation.\n",
      "  Try to adjust the settings of the related parameters, such as FuncPieces.\n",
      "Best objective 4.550175800033e+07, best bound 4.550175800033e+07, gap 0.0000%\n"
     ]
    }
   ],
   "source": [
    "m.optimize()"
   ]
  },
  {
   "cell_type": "code",
   "execution_count": 119,
   "id": "67930de6",
   "metadata": {},
   "outputs": [
    {
     "name": "stdout",
     "output_type": "stream",
     "text": [
      "\n",
      "Statistics for model UsemoreWarehousing:\n",
      "  Linear constraint matrix    : 1288 Constrs, 1254 Vars, 7826 NZs\n",
      "  Variable types              : 1232 Continuous,\n",
      "22 Integer (22 Binary)\n",
      "  General constraints         : 44 Constrs\n",
      "  Matrix coefficient range    : [ 1, 1.47703e+06 ]\n",
      "  Objective coefficient range : [ 1.73, 293.8 ]\n",
      "  Variable bound range        : [ 1, 1 ]\n",
      "  RHS coefficient range       : [ 1004, 620000 ]\n"
     ]
    }
   ],
   "source": [
    "m.printStats()"
   ]
  },
  {
   "cell_type": "code",
   "execution_count": 120,
   "id": "7197a372",
   "metadata": {},
   "outputs": [
    {
     "name": "stdout",
     "output_type": "stream",
     "text": [
      "\n",
      "Solution quality statistics for model UsemoreWarehousing :\n",
      "  Maximum violation:\n",
      "    Bound       : 0.00000000e+00\n",
      "    Constraint  : 1.81663197e+00 (inventory_pow_Covington)\n",
      "    Integrality : 0.00000000e+00\n"
     ]
    }
   ],
   "source": [
    "m.printQuality()"
   ]
  },
  {
   "cell_type": "markdown",
   "id": "afde0f08",
   "metadata": {},
   "source": [
    "## Visualize results"
   ]
  },
  {
   "cell_type": "markdown",
   "id": "e852cd0e",
   "metadata": {},
   "source": [
    "### Costs"
   ]
  },
  {
   "cell_type": "code",
   "execution_count": 121,
   "id": "711eb929",
   "metadata": {},
   "outputs": [
    {
     "name": "stdout",
     "output_type": "stream",
     "text": [
      "Objective function final value: $45,501,758.00\n"
     ]
    }
   ],
   "source": [
    "# Print the solution objective value\n",
    "print(f\"Objective function final value: ${m.objVal:,.2f}\")"
   ]
  },
  {
   "cell_type": "code",
   "execution_count": 122,
   "id": "d0821ff4",
   "metadata": {},
   "outputs": [
    {
     "name": "stdout",
     "output_type": "stream",
     "text": [
      "\n",
      "=================================================================\n",
      "                         COST BREAKDOWN                          \n",
      "=================================================================\n",
      "Cost Component                         Amount ($)   Percentage\n",
      "-----------------------------------------------------------------\n",
      "Inbound transport cost           $       945,970.51        2.08%\n",
      "Outbound transport cost          $     9,363,451.41       20.58%\n",
      "Production costs                 $    30,675,786.60       67.42%\n",
      "Storage costs                    $     2,376,084.73        5.22%\n",
      "Handling costs                   $     1,544,196.00        3.39%\n",
      "Stock order processing costs     $        65,727.45        0.14%\n",
      "Customer order processing costs  $       245,411.14        0.54%\n",
      "Inventory Carrying Costs         $       285,130.17        0.63%\n",
      "-----------------------------------------------------------------\n",
      "TOTAL COST                       $    45,501,758.00      100.00%\n",
      "=================================================================\n"
     ]
    }
   ],
   "source": [
    "def display_cost_components():\n",
    "    \"\"\"Calculate and display all cost components\"\"\"\n",
    "\n",
    "    # Get cost values from the model\n",
    "    costs = {\n",
    "        \"Inbound transport cost\": inbound_transport_cost.getValue(),\n",
    "        \"Outbound transport cost\": outbound_transport_cost.getValue(),\n",
    "        \"Production costs\": production_costs.getValue(),\n",
    "        \"Storage costs\": storage_costs.getValue(),\n",
    "        \"Handling costs\": handling_costs.getValue(),\n",
    "        \"Stock order processing costs\": stock_order_processing_costs.getValue(),\n",
    "        \"Customer order processing costs\": customer_order_processing_costs.getValue(),\n",
    "        \"Inventory Carrying Costs\": inventory_costs.getValue(),\n",
    "    }\n",
    "\n",
    "    # Calculate total cost\n",
    "    total = sum(costs.values())\n",
    "\n",
    "    # Print the cost components in a formatted table\n",
    "    print(\"\\n\" + \"=\" * 65)\n",
    "    print(f\"{'COST BREAKDOWN':^65}\")\n",
    "    print(\"=\" * 65)\n",
    "    print(f\"{'Cost Component':<30} {'Amount ($)':>18} {'Percentage':>12}\")\n",
    "    print(\"-\" * 65)\n",
    "\n",
    "    try:\n",
    "        for name, value in costs.items():\n",
    "            percentage = (value / total) * 100\n",
    "            print(f\"{name:<32} ${value:>17,.2f} {percentage:>11.2f}%\")\n",
    "    except ZeroDivisionError:\n",
    "        pass\n",
    "\n",
    "    print(\"-\" * 65)\n",
    "    print(f\"{'TOTAL COST':<32} ${total:>17,.2f} {100:>11.2f}%\")\n",
    "    print(\"=\" * 65)\n",
    "\n",
    "\n",
    "# Call the function to display costs\n",
    "display_cost_components()"
   ]
  },
  {
   "cell_type": "markdown",
   "id": "5898928a",
   "metadata": {},
   "source": [
    "### Locations"
   ]
  },
  {
   "cell_type": "code",
   "execution_count": 123,
   "id": "9c435c29",
   "metadata": {},
   "outputs": [
    {
     "name": "stdout",
     "output_type": "stream",
     "text": [
      "Number of open warehouses 🏭: 7 \n",
      "Number of closed warehouses 🔒: 15 \n",
      "Percentage of warehouses open: 31.8% 📊\n",
      "\n",
      "------------------ Warehouse openings ------------------\n",
      " Open warehouse at       Covington (450000.00 cwt)\n",
      " Open warehouse at        New York (380000.00 cwt)\n",
      " Open warehouse at       Arlington (140000.00 cwt)\n",
      " Open warehouse at      Long Beach (180000.00 cwt)\n",
      " Open warehouse at         Atlanta (207076.00 cwt)\n",
      " Open warehouse at       Baltimore ( 50000.00 cwt)\n",
      " Open warehouse at        Portland ( 69950.00 cwt)\n",
      "\n",
      "------------------ Warehouse closings ------------------\n",
      " Closed warehouse at        Boston (     0.00 cwt)\n",
      " Closed warehouse at       Buffalo (     0.00 cwt)\n",
      " Closed warehouse at       Chicago (     0.00 cwt)\n",
      " Closed warehouse at     Cleveland (     0.00 cwt)\n",
      " Closed warehouse at     Davenport (     0.00 cwt)\n",
      " Closed warehouse at       Detroit (     0.00 cwt)\n",
      " Closed warehouse at  Grand Rapids (     0.00 cwt)\n",
      " Closed warehouse at    Greensboro (     0.00 cwt)\n",
      " Closed warehouse at   Kansas City (     0.00 cwt)\n",
      " Closed warehouse at       Memphis (     0.00 cwt)\n",
      " Closed warehouse at     Milwaukee (     0.00 cwt)\n",
      " Closed warehouse at       Orlando (     0.00 cwt)\n",
      " Closed warehouse at    Pittsburgh (     0.00 cwt)\n",
      " Closed warehouse at  W Sacramento (     0.00 cwt)\n",
      " Closed warehouse at     W Chester (     0.00 cwt)\n"
     ]
    }
   ],
   "source": [
    "open_w = [w for w in warehouses if Z[w].X > 0.1]\n",
    "closed_w = [w for w in warehouses if Z[w].X < 0.1]\n",
    "\n",
    "print(f\"Number of open warehouses 🏭: {len(open_w)} \")\n",
    "print(f\"Number of closed warehouses 🔒: {len(closed_w)} \")\n",
    "\n",
    "# Calculate percentage of open warehouses\n",
    "percentage_open = (len(open_w) / len(warehouses)) * 100\n",
    "print(f\"Percentage of warehouses open: {percentage_open:.1f}% 📊\")\n",
    "\n",
    "\n",
    "print(\"\\n------------------ Warehouse openings ------------------\")\n",
    "for w in open_w:\n",
    "    volume = X.sum(\"*\", w).getValue()\n",
    "    print(f\" Open warehouse at {w:>15} ({volume:>9.2f} cwt)\")\n",
    "\n",
    "if len(closed_w) > 0:\n",
    "    print(\"\\n------------------ Warehouse closings ------------------\")\n",
    "    for w in closed_w:\n",
    "        volume = X.sum(\"*\", w).getValue()\n",
    "        print(f\" Closed warehouse at {w:>13} ({volume:>9.2f} cwt)\")"
   ]
  },
  {
   "cell_type": "markdown",
   "id": "17322c4d",
   "metadata": {},
   "source": [
    "### Service level results"
   ]
  },
  {
   "cell_type": "code",
   "execution_count": 124,
   "id": "bc12b20e",
   "metadata": {},
   "outputs": [
    {
     "name": "stdout",
     "output_type": "stream",
     "text": [
      "============================================================\n",
      "                    Service Level Curve                     \n",
      "============================================================\n",
      "Distance (miles)                       Service Level (%)\n",
      "------------------------------------------------------------\n",
      "                  30                      1.31\n",
      "                 100                     19.53\n",
      "                 300                     65.91\n",
      "                 600                     92.73\n",
      "                1000                     99.55\n",
      "                1500                    100.00\n"
     ]
    }
   ],
   "source": [
    "# Calculate and print cumulative service level curve\n",
    "\n",
    "service_levels = [\n",
    "    (30, service_level_30.getValue()),\n",
    "    (100, service_level_100.getValue()),\n",
    "    (300, service_level_300.getValue()),\n",
    "    (600, service_level_600.getValue()),\n",
    "    (1000, service_level_1000.getValue()),\n",
    "    (1500, service_level_1500.getValue()),\n",
    "]\n",
    "\n",
    "print(\"=\" * 60)\n",
    "print(f\"{'Service Level Curve':^60}\")\n",
    "print(\"=\" * 60)\n",
    "print(f\"{'Distance (miles)':<20} {'Service Level (%)':>35}\")\n",
    "print(\"-\" * 60)\n",
    "for dist, level in service_levels:\n",
    "    print(f\"{dist:>20} {100 * level:25.2f}\")\n",
    "# print(\"-\" * 60)"
   ]
  },
  {
   "cell_type": "code",
   "execution_count": 125,
   "id": "5370736b",
   "metadata": {},
   "outputs": [
    {
     "data": {
      "image/png": "[encoded data removed]",
      "text/plain": [
       "<Figure size 600x300 with 1 Axes>"
      ]
     },
     "metadata": {},
     "output_type": "display_data"
    }
   ],
   "source": [
    "# Optionally, plot the cumulative curve if matplotlib is available\n",
    "\n",
    "\n",
    "distances = [d for d, _ in service_levels]\n",
    "levels = [100 * sl for _, sl in service_levels]\n",
    "\n",
    "plt.figure(figsize=(6, 3))\n",
    "plt.plot(distances, levels, marker=\"o\", linestyle=\"-\", color=\"royalblue\")\n",
    "plt.title(\"Cumulative Service Level Curve\")\n",
    "plt.xlabel(\"Distance (miles)\")\n",
    "plt.ylabel(\"Cumulative Service Level (%)\")\n",
    "plt.grid(True, linestyle=\"--\", alpha=0.6)\n",
    "plt.ylim(0, 105)\n",
    "plt.xlim(0, max(distances) + 50)\n",
    "plt.tight_layout()\n",
    "plt.show()"
   ]
  },
  {
   "cell_type": "code",
   "execution_count": 126,
   "id": "a33151a2",
   "metadata": {},
   "outputs": [],
   "source": [
    "# TODO: Salvar os open warehouses em um arquivo\n"
   ]
  },
  {
   "cell_type": "markdown",
   "id": "954322d2",
   "metadata": {},
   "source": [
    "### Production"
   ]
  },
  {
   "cell_type": "code",
   "execution_count": 127,
   "id": "e49c5648",
   "metadata": {},
   "outputs": [
    {
     "name": "stdout",
     "output_type": "stream",
     "text": [
      "\n",
      "------------------ Plant production ----------------------\n",
      " Plant       Covington production: 620,000.00 cwt (42.0%)\n",
      " Plant        New York production: 430,000.00 cwt (29.1%)\n",
      " Plant       Arlington production: 177,076.00 cwt (12.0%)\n",
      " Plant      Long Beach production: 249,950.00 cwt (16.9%)\n",
      "----------------------------------------------------------\n",
      "Total production: 1,477,026.00 cwt\n"
     ]
    }
   ],
   "source": [
    "plant_production = {}\n",
    "\n",
    "for p in plants:\n",
    "    plant_production[p] = sum(X[p, w].X for w in warehouses if Z[w].X > 0.1)\n",
    "\n",
    "print(\"\\n------------------ Plant production ----------------------\")\n",
    "total_production = sum(plant_production.values())\n",
    "for p in plants:\n",
    "    percentage = (plant_production[p] / total_production) * 100\n",
    "    print(\n",
    "        f\" Plant {p:>15} production: {plant_production[p]:,.2f} cwt ({percentage:>4.1f}%)\"\n",
    "    )\n",
    "print(\"----------------------------------------------------------\")\n",
    "print(f\"Total production: {total_production:,.2f} cwt\")"
   ]
  },
  {
   "cell_type": "markdown",
   "id": "0a03ed66",
   "metadata": {},
   "source": [
    "### Flows"
   ]
  },
  {
   "cell_type": "code",
   "execution_count": 128,
   "id": "77b025c7",
   "metadata": {},
   "outputs": [
    {
     "name": "stdout",
     "output_type": "stream",
     "text": [
      "\n",
      "---------- Plant → Warehouse flows -------------\n",
      "       Covington → Covington       = 450000 cwt\n",
      "       Covington → Atlanta         = 170000 cwt\n",
      "        New York → New York        = 380000 cwt\n",
      "        New York → Baltimore       =  50000 cwt\n",
      "       Arlington → Arlington       = 140000 cwt\n",
      "       Arlington → Atlanta         =  37076 cwt\n",
      "      Long Beach → Long Beach      = 180000 cwt\n",
      "      Long Beach → Portland        =  69950 cwt\n"
     ]
    }
   ],
   "source": [
    "print(\"\\n---------- Plant → Warehouse flows -------------\")\n",
    "for p, w in X.keys():\n",
    "    if X[p, w].X > 1e-6:\n",
    "        print(f\" {p:>15} → {w:<15} = {X[p, w].X:>6.0f} cwt\")"
   ]
  },
  {
   "cell_type": "code",
   "execution_count": 129,
   "id": "06f4069b",
   "metadata": {},
   "outputs": [
    {
     "name": "stdout",
     "output_type": "stream",
     "text": [
      "\n",
      "------- Warehouse → Demand flows ---\n",
      "        Covington → ND:   5703 cwt\n",
      "        Covington → MN:   5633 cwt\n",
      "        Covington → IA:  32175 cwt\n",
      "        Covington → MO:  14234 cwt\n",
      "        Covington → WI:  37448 cwt\n",
      "        Covington → IL:  72839 cwt\n",
      "        Covington → MI:  78981 cwt\n",
      "        Covington → IN:  43994 cwt\n",
      "        Covington → KY:   3870 cwt\n",
      "        Covington → OH: 155123 cwt\n",
      "         New York → MI:  26200 cwt\n",
      "         New York → ME:  15829 cwt\n",
      "         New York → NH:   4546 cwt\n",
      "         New York → RI:  17000 cwt\n",
      "         New York → NJ:  21154 cwt\n",
      "         New York → NY: 160917 cwt\n",
      "         New York → PA:  65108 cwt\n",
      "         New York → CT:  26187 cwt\n",
      "         New York → MA:  37087 cwt\n",
      "         New York → VT:   2928 cwt\n",
      "         New York → DE:   3044 cwt\n",
      "        Arlington → CO:  10767 cwt\n",
      "        Arlington → SD:   1049 cwt\n",
      "        Arlington → NE:   7347 cwt\n",
      "        Arlington → KS:   6961 cwt\n",
      "        Arlington → TX:  80438 cwt\n",
      "        Arlington → OK:  13517 cwt\n",
      "        Arlington → AR:   4910 cwt\n",
      "        Arlington → LA:  15011 cwt\n",
      "       Long Beach → CA: 135116 cwt\n",
      "       Long Beach → NV:  16755 cwt\n",
      "       Long Beach → AZ:   9063 cwt\n",
      "       Long Beach → ID:   5145 cwt\n",
      "       Long Beach → UT:   9001 cwt\n",
      "       Long Beach → WY:   1004 cwt\n",
      "       Long Beach → CO:    380 cwt\n",
      "       Long Beach → NM:   3536 cwt\n",
      "          Atlanta → MO:  27446 cwt\n",
      "          Atlanta → TN:  42479 cwt\n",
      "          Atlanta → MS:  15205 cwt\n",
      "          Atlanta → AL:  15835 cwt\n",
      "          Atlanta → GA:  29559 cwt\n",
      "          Atlanta → FL:  46405 cwt\n",
      "          Atlanta → SC:   5680 cwt\n",
      "          Atlanta → NC:  24467 cwt\n",
      "        Baltimore → VA:  17667 cwt\n",
      "        Baltimore → WV:   9168 cwt\n",
      "        Baltimore → MD:  19284 cwt\n",
      "        Baltimore → NC:   3881 cwt\n",
      "         Portland → WA:  32437 cwt\n",
      "         Portland → OR:  31365 cwt\n",
      "         Portland → ID:   2008 cwt\n",
      "         Portland → MT:   4140 cwt\n"
     ]
    }
   ],
   "source": [
    "print(\"\\n------- Warehouse → Demand flows ---\")\n",
    "for w, j in Y.keys():\n",
    "    if Y[w, j].X > 1e-6:\n",
    "        print(f\" {w:>16} → {j}: {Y[w, j].X:>6.0f} cwt\")"
   ]
  }
 ],
 "metadata": {
  "kernelspec": {
   "display_name": ".venv",
   "language": "python",
   "name": "python3"
  },
  "language_info": {
   "codemirror_mode": {
    "name": "ipython",
    "version": 3
   },
   "file_extension": ".py",
   "mimetype": "text/x-python",
   "name": "python",
   "nbconvert_exporter": "python",
   "pygments_lexer": "ipython3",
   "version": "3.11.0"
  }
 },
 "nbformat": 4,
 "nbformat_minor": 5
}
