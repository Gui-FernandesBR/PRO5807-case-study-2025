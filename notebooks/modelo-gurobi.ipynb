{
 "cells": [
  {
   "cell_type": "markdown",
   "id": "71f38f09",
   "metadata": {},
   "source": [
    "# Usermore soap case study\n",
    "\n",
    "Guilherme Fernandes e Lauro Solia"
   ]
  },
  {
   "cell_type": "code",
   "execution_count": 26,
   "id": "471bf414",
   "metadata": {},
   "outputs": [],
   "source": [
    "from pprint import pprint\n",
    "\n",
    "import gurobipy\n",
    "from gurobipy import Model, GRB\n",
    "\n",
    "import pandas as pd"
   ]
  },
  {
   "cell_type": "markdown",
   "id": "c5b0ef47",
   "metadata": {},
   "source": [
    "## 1. Defining the sets"
   ]
  },
  {
   "cell_type": "code",
   "execution_count": 27,
   "id": "895a366f",
   "metadata": {},
   "outputs": [],
   "source": [
    "plants = [\n",
    "    \"Covington, KY\",\n",
    "    \"New York, NY\",\n",
    "    \"Arlington, TX\",\n",
    "    \"Long Beach, CA\",\n",
    "]\n",
    "\n",
    "existing_warehouses = [\n",
    "    \"Atlanta\",\n",
    "    \"Boston\",\n",
    "    \"Buffalo\",\n",
    "    \"Chicago\",\n",
    "    \"Cleveland\",\n",
    "    \"Davenport\",\n",
    "    \"Detroit\",\n",
    "    \"Grand Rapids\",\n",
    "    \"Greensboro\",\n",
    "    \"Kansas City\",\n",
    "    \"Baltimore\",\n",
    "    \"Memphis\",\n",
    "    \"Milwaukee\",\n",
    "    \"Orlando\",\n",
    "    \"Pittsburgh\",\n",
    "    \"Portland\",\n",
    "    \"W Sacramento\",\n",
    "    \"W Chester\",\n",
    "]\n",
    "\n",
    "potential_warehouses = [\n",
    "    \"Albuquerque\",\n",
    "    \"Billings\",\n",
    "    \"Denver\",\n",
    "    \"El Paso\",\n",
    "    \"Camp Hill\",\n",
    "    \"Houston\",\n",
    "    \"Las Vegas\",\n",
    "    \"Minneapolis\",\n",
    "    \"New Orleans\",\n",
    "    \"Phoenix\",\n",
    "    \"Richmond\",\n",
    "    \"St Louis\",\n",
    "    \"Salt Lake City\",\n",
    "    \"San Antonio\",\n",
    "    \"Seattle\",\n",
    "    \"Spokane\",\n",
    "    \"San Francisco\",\n",
    "    \"Indianapolis\",\n",
    "    \"Louisville\",\n",
    "    \"Columbus\",\n",
    "    \"New York\",\n",
    "    \"Hartford\",\n",
    "    \"Miami\",\n",
    "    \"Mobile\",\n",
    "    \"Memphis *\",\n",
    "    \"Chicago *\",\n",
    "]\n",
    "\n",
    "# Merge existing + potential\n",
    "warehouses = existing_warehouses + potential_warehouses"
   ]
  },
  {
   "cell_type": "code",
   "execution_count": 28,
   "id": "97d3b15b",
   "metadata": {},
   "outputs": [
    {
     "name": "stdout",
     "output_type": "stream",
     "text": [
      "Number of plants:  4\n",
      "Number of existing warehouses:  18\n",
      "Number of potential warehouses:  26\n",
      "Number of total warehouses:  44\n",
      "Obs.: Each plant is also an existing warehouse\n"
     ]
    }
   ],
   "source": [
    "print(\"Number of plants: \", len(plants))\n",
    "print(\"Number of existing warehouses: \", len(existing_warehouses))\n",
    "print(\"Number of potential warehouses: \", len(potential_warehouses))\n",
    "print(\"Number of total warehouses: \", len(warehouses))\n",
    "print(\"Obs.: Each plant is also an existing warehouse\")"
   ]
  },
  {
   "cell_type": "markdown",
   "id": "712fcd56",
   "metadata": {},
   "source": [
    "## 2. Parameters"
   ]
  },
  {
   "cell_type": "code",
   "execution_count": 29,
   "id": "8fae0141",
   "metadata": {},
   "outputs": [
    {
     "name": "stdout",
     "output_type": "stream",
     "text": [
      "Total states number:  48\n",
      "Total demand:  1477026\n",
      "Each state represents a demand center\n"
     ]
    }
   ],
   "source": [
    "# read state demands from Figure 1\n",
    "state_demand = {\n",
    "    # West region:\n",
    "    \"WA\": 32437,  # Washington\n",
    "    \"OR\": 31365,  # Oregon\n",
    "    \"CA\": 135_116,  # California\n",
    "    \"NV\": 16755,  # Nevada\n",
    "    \"AZ\": 9063,  # Arizona\n",
    "    \"ID\": 7153,  # Idaho\n",
    "    # Northwest region:\n",
    "    \"UT\": 9001,  # Utah\n",
    "    \"MT\": 4140,  # Montana\n",
    "    \"ND\": 5703,  # North Dakota\n",
    "    \"WY\": 1004,  # Wyoming\n",
    "    \"CO\": 11147,  # Colorado\n",
    "    \"SD\": 1049,  # South Dakota\n",
    "    \"NE\": 7347,  # Nebraska\n",
    "    \"KS\": 6961,  # Kansas\n",
    "    \"MN\": 5633,  # Minnesota\n",
    "    \"IA\": 32175,  # Iowa\n",
    "    \"MO\": 41680,  # Missouri\n",
    "    # Southwest region:\n",
    "    \"NM\": 3536,  # New Mexico\n",
    "    \"TX\": 80438,  # Texas\n",
    "    \"OK\": 13517,  # Oklahoma\n",
    "    \"AR\": 4910,  # Arkansas\n",
    "    \"LA\": 15011,  # Louisiana\n",
    "    # Midwest region:\n",
    "    \"WI\": 37448,  # Wisconsin\n",
    "    \"IL\": 72839,  # Illinois\n",
    "    \"MI\": 105_181,  # Michigan\n",
    "    \"IN\": 43994,  # Indiana\n",
    "    \"KY\": 3870,  # Kentucky\n",
    "    \"OH\": 155_123,  # Ohio\n",
    "    # Northeast region:\n",
    "    \"ME\": 15829,  # Maine\n",
    "    \"NH\": 4546,  # New Hampshire\n",
    "    \"RI\": 17000,  # Rhode Island\n",
    "    \"NJ\": 21154,  # New Jersey\n",
    "    \"NY\": 160_917,  # New York\n",
    "    \"PA\": 65108,  # Pennsylvania\n",
    "    \"CT\": 26_187,  # Connecticut\n",
    "    \"MA\": 37087,  # Massachusetts\n",
    "    \"VA\": 17667,  # Virginia\n",
    "    \"WV\": 9168,  # West Virginia\n",
    "    \"MD\": 19284,  # Maryland\n",
    "    \"VT\": 2928,  # Vermont\n",
    "    \"DE\": 3044,  # Delaware\n",
    "    # Southeast region:\n",
    "    \"TN\": 42479,  # Tennessee\n",
    "    \"MS\": 15_205,  # Mississippi\n",
    "    \"AL\": 15835,  # Alabama\n",
    "    \"GA\": 29559,  # Georgia\n",
    "    \"FL\": 46405,  # Florida\n",
    "    \"SC\": 5680,  # South Carolina\n",
    "    \"NC\": 28_348,  # North Carolina\n",
    "}\n",
    "S = state_demand  # Sales\n",
    "\n",
    "print(\"Total states number: \", len(S))\n",
    "print(\"Total demand: \", sum(S.values()))\n",
    "print(\"Each state represents a demand center\")\n",
    "\n",
    "# TODO: falta alguém ler e verificar os dados (o input foi feito de forma manual)\n",
    "\n",
    "# NOTE: Valor total deve ser 1_477_026, então precisa ajustar NY (que nao tem na foto) pra bater o valor final."
   ]
  },
  {
   "cell_type": "code",
   "execution_count": 30,
   "id": "2cb6fe3c",
   "metadata": {},
   "outputs": [
    {
     "name": "stdout",
     "output_type": "stream",
     "text": [
      "\n",
      "    The company has more than 70,000 individual customer accounts, and these are aggregated into 191 active demand centers.\n",
      "    A demand center is a grouping of zip code areas into a zip sectional center as the focus of the collected demand.\n",
      "    These demand centers, along with how they are currently being served, are given in Table 3\n",
      "    \n"
     ]
    }
   ],
   "source": [
    "demand_centers = [f\"{s}\" for s in state_demand.keys()]\n",
    "\n",
    "# pprint(demand_centers)\n",
    "\n",
    "print(\n",
    "    \"\"\"\n",
    "    The company has more than 70,000 individual customer accounts, and these are aggregated into 191 active demand centers.\n",
    "    A demand center is a grouping of zip code areas into a zip sectional center as the focus of the collected demand.\n",
    "    These demand centers, along with how they are currently being served, are given in Table 3\n",
    "    \"\"\"\n",
    ")"
   ]
  },
  {
   "cell_type": "code",
   "execution_count": 31,
   "id": "345ddc87",
   "metadata": {},
   "outputs": [],
   "source": [
    "# 2.2 Plant current capacities C[p]\n",
    "C = {\n",
    "    \"Covington, KY\": 620_000,\n",
    "    \"New York, NY\": 430_000,\n",
    "    \"Arlington, TX\": 300_000,\n",
    "    \"Long Beach, CA\": 280_000,\n",
    "}\n",
    "\n",
    "# Plant stocking capacities C'[p]\n",
    "C_prime = {\n",
    "    \"Covington, KY\": 450_000,\n",
    "    \"New York, NY\": 380_000,\n",
    "    \"Arlington, TX\": 140_000,\n",
    "    \"Long Beach, CA\": 180_000,\n",
    "}"
   ]
  },
  {
   "cell_type": "code",
   "execution_count": 32,
   "id": "892c708f",
   "metadata": {},
   "outputs": [],
   "source": [
    "# 2.3 Unit production cost v[p] (variable production cost)\n",
    "rho = {\n",
    "    \"Covington, KY\": 21.0,\n",
    "    \"New York, NY\": 19.9,\n",
    "    \"Arlington, TX\": 21.6,\n",
    "    \"Long Beach, CA\": 21.1,\n",
    "}"
   ]
  },
  {
   "cell_type": "code",
   "execution_count": 33,
   "id": "1b656977",
   "metadata": {},
   "outputs": [],
   "source": [
    "# 2.4 Distance matrices (in miles)\n",
    "#     d_pw[p][w] = distance plant → warehouse\n",
    "#     d_ws[w][d] = distance warehouse → demand center\n",
    "#     d_pd[p][d] = distance plant → demand center\n",
    "\n",
    "df_pw = pd.read_excel(\n",
    "    \"../distances/distance_matrix.xlsx\", sheet_name=\"d_pw\", index_col=0\n",
    ")\n",
    "df_ws = pd.read_excel(\n",
    "    \"../distances/distance_matrix.xlsx\", sheet_name=\"d_ws\", index_col=0\n",
    ")\n",
    "df_pd = pd.read_excel(\n",
    "    \"../distances/distance_matrix.xlsx\", sheet_name=\"d_pd\", index_col=0\n",
    ")\n",
    "\n",
    "d_pw = df_pw.to_dict()\n",
    "d_ws = df_ws.to_dict()\n",
    "d_pd = df_pd.to_dict()"
   ]
  },
  {
   "cell_type": "code",
   "execution_count": 34,
   "id": "4c433b74",
   "metadata": {},
   "outputs": [],
   "source": [
    "# print(\"Distance matrices:\")\n",
    "# print(\"d_pw (plant to warehouse):\")\n",
    "# pprint(d_pw)\n",
    "# print(\"d_wd (warehouse to demand center):\")\n",
    "# pprint(d_ws)\n",
    "# print(\"d_pd (plant to demand center):\")\n",
    "# pprint(d_pd)"
   ]
  },
  {
   "cell_type": "code",
   "execution_count": 35,
   "id": "d9f49045",
   "metadata": {},
   "outputs": [],
   "source": [
    "# 2.5 Inbound cost c_in[p][w] = 0.92 + 0.0034*d_pw\n",
    "c_in = {p: {w: 0.92 + 0.0034 * d_pw[p][w] for w in warehouses} for p in plants}\n",
    "\n",
    "# c_in"
   ]
  },
  {
   "cell_type": "code",
   "execution_count": 36,
   "id": "6f4161bb",
   "metadata": {},
   "outputs": [
    {
     "data": {
      "application/vnd.microsoft.datawrangler.viewer.v0+json": {
       "columns": [
        {
         "name": "index",
         "rawType": "int64",
         "type": "integer"
        },
        {
         "name": "Warehouse No.",
         "rawType": "int64",
         "type": "integer"
        },
        {
         "name": "Storage ($/$)",
         "rawType": "float64",
         "type": "float"
        },
        {
         "name": "Handling ($/cwt)",
         "rawType": "float64",
         "type": "float"
        },
        {
         "name": "Stock Order Processing ($/order)",
         "rawType": "int64",
         "type": "integer"
        },
        {
         "name": "Stock Order Size",
         "rawType": "int64",
         "type": "integer"
        },
        {
         "name": "Customer Order Processing ($/order)",
         "rawType": "float64",
         "type": "float"
        },
        {
         "name": "Customer Order size (cwt/order)",
         "rawType": "float64",
         "type": "float"
        },
        {
         "name": "Local delivery rate ($/cwt)",
         "rawType": "float64",
         "type": "float"
        }
       ],
       "conversionMethod": "pd.DataFrame",
       "ref": "6273c8fb-9f57-4655-a08a-bc4ea8958b61",
       "rows": [
        [
         "0",
         "1",
         "0.0672",
         "0.46",
         "18",
         "400",
         "1.79",
         "9.05",
         "1.9"
        ],
        [
         "1",
         "2",
         "0.0567",
         "0.54",
         "18",
         "400",
         "1.74",
         "10.92",
         "3.89"
        ],
        [
         "2",
         "3",
         "0.0755",
         "0.38",
         "18",
         "400",
         "2.71",
         "11.59",
         "2.02"
        ],
        [
         "3",
         "4",
         "0.0735",
         "0.59",
         "18",
         "400",
         "1.74",
         "11.3",
         "4.31"
        ],
        [
         "4",
         "5",
         "0.0946",
         "0.5",
         "18",
         "401",
         "0.83",
         "9.31",
         "1.89"
        ]
       ],
       "shape": {
        "columns": 8,
        "rows": 5
       }
      },
      "text/html": [
       "<div>\n",
       "<style scoped>\n",
       "    .dataframe tbody tr th:only-of-type {\n",
       "        vertical-align: middle;\n",
       "    }\n",
       "\n",
       "    .dataframe tbody tr th {\n",
       "        vertical-align: top;\n",
       "    }\n",
       "\n",
       "    .dataframe thead th {\n",
       "        text-align: right;\n",
       "    }\n",
       "</style>\n",
       "<table border=\"1\" class=\"dataframe\">\n",
       "  <thead>\n",
       "    <tr style=\"text-align: right;\">\n",
       "      <th></th>\n",
       "      <th>Warehouse No.</th>\n",
       "      <th>Storage ($/$)</th>\n",
       "      <th>Handling ($/cwt)</th>\n",
       "      <th>Stock Order Processing ($/order)</th>\n",
       "      <th>Stock Order Size</th>\n",
       "      <th>Customer Order Processing ($/order)</th>\n",
       "      <th>Customer Order size (cwt/order)</th>\n",
       "      <th>Local delivery rate ($/cwt)</th>\n",
       "    </tr>\n",
       "  </thead>\n",
       "  <tbody>\n",
       "    <tr>\n",
       "      <th>0</th>\n",
       "      <td>1</td>\n",
       "      <td>0.0672</td>\n",
       "      <td>0.46</td>\n",
       "      <td>18</td>\n",
       "      <td>400</td>\n",
       "      <td>1.79</td>\n",
       "      <td>9.05</td>\n",
       "      <td>1.90</td>\n",
       "    </tr>\n",
       "    <tr>\n",
       "      <th>1</th>\n",
       "      <td>2</td>\n",
       "      <td>0.0567</td>\n",
       "      <td>0.54</td>\n",
       "      <td>18</td>\n",
       "      <td>400</td>\n",
       "      <td>1.74</td>\n",
       "      <td>10.92</td>\n",
       "      <td>3.89</td>\n",
       "    </tr>\n",
       "    <tr>\n",
       "      <th>2</th>\n",
       "      <td>3</td>\n",
       "      <td>0.0755</td>\n",
       "      <td>0.38</td>\n",
       "      <td>18</td>\n",
       "      <td>400</td>\n",
       "      <td>2.71</td>\n",
       "      <td>11.59</td>\n",
       "      <td>2.02</td>\n",
       "    </tr>\n",
       "    <tr>\n",
       "      <th>3</th>\n",
       "      <td>4</td>\n",
       "      <td>0.0735</td>\n",
       "      <td>0.59</td>\n",
       "      <td>18</td>\n",
       "      <td>400</td>\n",
       "      <td>1.74</td>\n",
       "      <td>11.30</td>\n",
       "      <td>4.31</td>\n",
       "    </tr>\n",
       "    <tr>\n",
       "      <th>4</th>\n",
       "      <td>5</td>\n",
       "      <td>0.0946</td>\n",
       "      <td>0.50</td>\n",
       "      <td>18</td>\n",
       "      <td>401</td>\n",
       "      <td>0.83</td>\n",
       "      <td>9.31</td>\n",
       "      <td>1.89</td>\n",
       "    </tr>\n",
       "  </tbody>\n",
       "</table>\n",
       "</div>"
      ],
      "text/plain": [
       "   Warehouse No.  Storage ($/$)  Handling ($/cwt)  \\\n",
       "0              1         0.0672              0.46   \n",
       "1              2         0.0567              0.54   \n",
       "2              3         0.0755              0.38   \n",
       "3              4         0.0735              0.59   \n",
       "4              5         0.0946              0.50   \n",
       "\n",
       "   Stock Order Processing ($/order)  Stock Order Size  \\\n",
       "0                                18               400   \n",
       "1                                18               400   \n",
       "2                                18               400   \n",
       "3                                18               400   \n",
       "4                                18               401   \n",
       "\n",
       "   Customer Order Processing ($/order)  Customer Order size (cwt/order)  \\\n",
       "0                                 1.79                             9.05   \n",
       "1                                 1.74                            10.92   \n",
       "2                                 2.71                            11.59   \n",
       "3                                 1.74                            11.30   \n",
       "4                                 0.83                             9.31   \n",
       "\n",
       "   Local delivery rate ($/cwt)  \n",
       "0                         1.90  \n",
       "1                         3.89  \n",
       "2                         2.02  \n",
       "3                         4.31  \n",
       "4                         1.89  "
      ]
     },
     "execution_count": 36,
     "metadata": {},
     "output_type": "execute_result"
    }
   ],
   "source": [
    "# Ler tabela 3 do excel\n",
    "table3 = pd.read_excel(\n",
    "    \"../misc/tabelas.xlsx\",\n",
    "    sheet_name=\"table3\",\n",
    ")\n",
    "table3.head()"
   ]
  },
  {
   "cell_type": "code",
   "execution_count": 37,
   "id": "b962c21f",
   "metadata": {},
   "outputs": [],
   "source": [
    "# 2.6 Outbound cost c_out[w][j]:\n",
    "local_rate = {i: v for i, v in enumerate(table3[\"Local delivery rate ($/cwt)\"])}\n",
    "\n",
    "c_out = {}\n",
    "for i, w in enumerate(warehouses):\n",
    "    c_out[w] = {}\n",
    "    for s in demand_centers:\n",
    "        d = d_ws[w][s]\n",
    "        if d <= 30:\n",
    "            # if d<=30: use local cartage rate from Table 3\n",
    "            c_out[w][s] = local_rate[i]\n",
    "        else:\n",
    "            # else use 5.45 + 0.0037*d\n",
    "            c_out[w][s] = 5.45 + 0.0037 * d\n",
    "\n",
    "# c_out"
   ]
  },
  {
   "cell_type": "code",
   "execution_count": 38,
   "id": "82dbd5c1",
   "metadata": {},
   "outputs": [],
   "source": [
    "# custos de transporte da fabrica direto para o demand center.\n",
    "c_out_prime = {}\n",
    "\n",
    "for p in plants:\n",
    "    c_out_prime[p] = {}\n",
    "    for j in demand_centers:\n",
    "        try:\n",
    "            d = d_pd[p][j]\n",
    "        except KeyError:\n",
    "            print(f\"{p} or {j} not found in d_pd\")\n",
    "            break\n",
    "        if d <= 30:\n",
    "            # if d<=30: use local cartage rate from Table 3\n",
    "            # c_out_prime[p][j] = local_rate[p]\n",
    "            c_out_prime[p][j] = 0\n",
    "\n",
    "            # TODO: verify this.\n",
    "        else:\n",
    "            # else use 5.45 + 0.0037*d\n",
    "            c_out_prime[p][j] = 5.45 + 0.0037 * d"
   ]
  },
  {
   "cell_type": "code",
   "execution_count": 39,
   "id": "3ca9351f",
   "metadata": {},
   "outputs": [
    {
     "data": {
      "text/plain": [
       "108.32578438023434"
      ]
     },
     "execution_count": 39,
     "metadata": {},
     "output_type": "execute_result"
    }
   ],
   "source": [
    "# Quanto representa 1 cwt. em $? Dividimos as vendas totais ($) pela demand total (cwt)\n",
    "Gamma = 160_000_000 / 1_477_026  # ($ / cwt)\n",
    "Gamma"
   ]
  },
  {
   "cell_type": "code",
   "execution_count": 40,
   "id": "d01193db",
   "metadata": {},
   "outputs": [],
   "source": [
    "# Custo de estocagem do armazém w\n",
    "tau = {}\n",
    "\n",
    "for i, w in enumerate(warehouses):\n",
    "    # Fiz o casting para evitar o np.float64 nos prints, mas nao precisava\n",
    "    tau[w] = float(table3[\"Storage ($/$)\"][i])"
   ]
  },
  {
   "cell_type": "code",
   "execution_count": 41,
   "id": "17fb051d",
   "metadata": {},
   "outputs": [],
   "source": [
    "# Custo de handling do armazém w (epsilon)\n",
    "\n",
    "epsilons = {}\n",
    "\n",
    "for i, w in enumerate(warehouses):\n",
    "    epsilons[w] = float(table3[\"Handling ($/cwt)\"][i])"
   ]
  },
  {
   "cell_type": "code",
   "execution_count": 42,
   "id": "36356669",
   "metadata": {},
   "outputs": [],
   "source": [
    "# gamma\n",
    "\n",
    "gammas = {}\n",
    "\n",
    "for i, w in enumerate(warehouses):\n",
    "    gammas[w] = float(table3[\"Stock Order Processing ($/order)\"][i])"
   ]
  },
  {
   "cell_type": "code",
   "execution_count": 43,
   "id": "21c47618",
   "metadata": {},
   "outputs": [],
   "source": [
    "# delta\n",
    "\n",
    "deltas = {}\n",
    "\n",
    "for i, w in enumerate(warehouses):\n",
    "    deltas[w] = float(table3[\"Stock Order Size\"][i])"
   ]
  },
  {
   "cell_type": "code",
   "execution_count": 44,
   "id": "208afc04",
   "metadata": {},
   "outputs": [],
   "source": [
    "# omega\n",
    "\n",
    "omegas = {}\n",
    "\n",
    "for i, w in enumerate(warehouses):\n",
    "    omegas[w] = float(table3[\"Customer Order size (cwt/order)\"][i])"
   ]
  },
  {
   "cell_type": "code",
   "execution_count": 45,
   "id": "9e20b289",
   "metadata": {},
   "outputs": [],
   "source": [
    "# phi\n",
    "\n",
    "phi = {}\n",
    "for i, w in enumerate(warehouses):\n",
    "    phi[w] = float(table3[\"Customer Order Processing ($/order)\"][i])"
   ]
  },
  {
   "cell_type": "markdown",
   "id": "43956ff6",
   "metadata": {},
   "source": [
    "## 3. Defining the model"
   ]
  },
  {
   "cell_type": "code",
   "execution_count": 46,
   "id": "8b899605",
   "metadata": {},
   "outputs": [],
   "source": [
    "m = Model(name=\"UsemoreWarehousing\")"
   ]
  },
  {
   "cell_type": "markdown",
   "id": "34721080",
   "metadata": {},
   "source": [
    "### Decision variables"
   ]
  },
  {
   "cell_type": "code",
   "execution_count": 47,
   "id": "c0647710",
   "metadata": {},
   "outputs": [],
   "source": [
    "Z = m.addVars(warehouses, vtype=GRB.BINARY, name=\"z\")\n",
    "X = m.addVars(plants, warehouses, vtype=GRB.CONTINUOUS, name=\"x\")\n",
    "Y = m.addVars(warehouses, demand_centers, vtype=GRB.CONTINUOUS, name=\"y\")\n",
    "W = m.addVars(plants, demand_centers, vtype=GRB.CONTINUOUS, name=\"w\")"
   ]
  },
  {
   "cell_type": "markdown",
   "id": "8c028c86",
   "metadata": {},
   "source": [
    "## 4. Objective Function"
   ]
  },
  {
   "cell_type": "markdown",
   "id": "feeacd5c",
   "metadata": {},
   "source": [
    "### Define all the costs components"
   ]
  },
  {
   "cell_type": "code",
   "execution_count": 48,
   "id": "6039e81c",
   "metadata": {},
   "outputs": [],
   "source": [
    "# inbound transport (from plants to warehouses)\n",
    "inbound__transport_cost = gurobipy.quicksum(\n",
    "    c_in[i][j] * X[i, j] for i in plants for j in warehouses\n",
    ")\n",
    "\n",
    "# outbound transport (from warehouses to demand nodes)\n",
    "outbound_transport_cost = gurobipy.quicksum(\n",
    "    c_out[j][k] * Y[j, k] for j in warehouses for k in demand_centers\n",
    ")\n",
    "\n",
    "# transport cost from plants to demand centers\n",
    "direct_transport_cost = gurobipy.quicksum(\n",
    "    c_out_prime[i][k] * W[i, k] for i in plants for k in demand_centers\n",
    ")\n",
    "\n",
    "# production cost\n",
    "# production_costs = gurobipy.quicksum(\n",
    "#     rho[p] * (X[p, w] + W[p, d])\n",
    "#     for p in plants\n",
    "#     for w in warehouses\n",
    "#     for d in demand_centers\n",
    "# )\n",
    "production_costs1 = gurobipy.quicksum(\n",
    "    rho[p] * (X[p, w]) for p in plants for w in warehouses\n",
    ")\n",
    "production_costs2 = gurobipy.quicksum(\n",
    "    rho[p] * (W[p, d]) for p in plants for d in demand_centers\n",
    ")\n",
    "\n",
    "# storage cost in warehouses\n",
    "storage_costs = gurobipy.quicksum(\n",
    "    X[p, w] * Gamma * tau[w] for p in plants for w in warehouses\n",
    ")\n",
    "\n",
    "# custo de handling nos armazéns\n",
    "handling_costs = gurobipy.quicksum(\n",
    "    2 * Z[w] * epsilons[w] * X[p, w] for p in plants for w in warehouses\n",
    ")\n",
    "\n",
    "# custo de processamento do pedido de estoque\n",
    "stock_order_processing_costs = gurobipy.quicksum(\n",
    "    X[p, w] * (gammas[w] / deltas[w]) * Z[w] for p in plants for w in warehouses\n",
    ")\n",
    "\n",
    "# custo de processamento do pedido do cliente\n",
    "customer_order_processing_costs = gurobipy.quicksum(\n",
    "    Y[w, d] * (phi[w] / omegas[w]) * Z[w] for w in warehouses for d in demand_centers\n",
    ")"
   ]
  },
  {
   "cell_type": "markdown",
   "id": "84efd89e",
   "metadata": {},
   "source": [
    "#### Define the objective function"
   ]
  },
  {
   "cell_type": "code",
   "execution_count": 49,
   "id": "b16d62cc",
   "metadata": {},
   "outputs": [],
   "source": [
    "m.setObjective(\n",
    "    inbound__transport_cost\n",
    "    + outbound_transport_cost\n",
    "    + direct_transport_cost\n",
    "    + production_costs1\n",
    "    + production_costs2\n",
    "    + storage_costs\n",
    "    + handling_costs\n",
    "    + stock_order_processing_costs\n",
    "    + customer_order_processing_costs,\n",
    "    sense=GRB.MINIMIZE,\n",
    ")"
   ]
  },
  {
   "cell_type": "markdown",
   "id": "38970eb8",
   "metadata": {},
   "source": [
    "## Constraints"
   ]
  },
  {
   "cell_type": "code",
   "execution_count": 50,
   "id": "52a8bbf1",
   "metadata": {},
   "outputs": [],
   "source": [
    "# Demand satisfaction (OK)\n",
    "\n",
    "for d in demand_centers:\n",
    "    m.addConstr(\n",
    "        gurobipy.quicksum(Y[w, d] for w in warehouses)\n",
    "        + gurobipy.quicksum(W[p, d] for p in plants)\n",
    "        == S[d],\n",
    "        name=f\"demand_{d}\",\n",
    "    )"
   ]
  },
  {
   "cell_type": "code",
   "execution_count": 51,
   "id": "f9f96e52",
   "metadata": {},
   "outputs": [],
   "source": [
    "# Plant production capacity (OK)\n",
    "\n",
    "for p in plants:\n",
    "    m.addConstr(\n",
    "        gurobipy.quicksum(X[p, w] for w in warehouses)\n",
    "        + gurobipy.quicksum(W[p, d] for d in demand_centers)\n",
    "        <= C[p],\n",
    "        name=f\"plantCap_{p}\",\n",
    "    )"
   ]
  },
  {
   "cell_type": "code",
   "execution_count": 52,
   "id": "0505374d",
   "metadata": {},
   "outputs": [],
   "source": [
    "# restrição dos 10400 (OK)\n",
    "\n",
    "for w in warehouses:\n",
    "    # Um armazém só pode ser aberto se houver demanda de pelo menos 10_400 cwt\n",
    "    m.addConstr(\n",
    "        gurobipy.quicksum(Y[w, d] for d in demand_centers) >= 10_400 * Z[w],\n",
    "        name=f\"minThroughput_{w}\",\n",
    "    )"
   ]
  },
  {
   "cell_type": "code",
   "execution_count": 53,
   "id": "ba45baee",
   "metadata": {},
   "outputs": [],
   "source": [
    "# restrições doe armazenagem de cada planta (OK)\n",
    "\n",
    "for p in plants:\n",
    "    m.addConstr(\n",
    "        gurobipy.quicksum(W[p, d] for d in demand_centers) <= C_prime[p],\n",
    "    )"
   ]
  },
  {
   "cell_type": "code",
   "execution_count": 54,
   "id": "e206713e",
   "metadata": {},
   "outputs": [],
   "source": [
    "# Flow balance at each warehouse (OK)\n",
    "\n",
    "for w in warehouses:\n",
    "    # Tudo que entra no armazém deve ser igual a tudo que sai\n",
    "    m.addConstr(\n",
    "        gurobipy.quicksum(X[p, w] for p in plants)\n",
    "        == gurobipy.quicksum(Y[w, d] for d in demand_centers),\n",
    "        name=f\"flowBalance_{w}\",\n",
    "    )"
   ]
  },
  {
   "cell_type": "code",
   "execution_count": 55,
   "id": "384629f2",
   "metadata": {},
   "outputs": [],
   "source": [
    "# Restrições de Z (só posso usar um armazém se ele estiver aberto) (OK)\n",
    "for w in warehouses:\n",
    "    for p in plants:\n",
    "        # NOTE: the C[p] here is working as the big-M\n",
    "        m.addConstr(\n",
    "            X[p, w] <= C[p] * Z[w],\n",
    "            name=f\"openWarehouse_{w},{p}\",\n",
    "        )\n",
    "    for d in demand_centers:\n",
    "        # NOTE: the S[d] here is working as the big-M\n",
    "        m.addConstr(\n",
    "            Y[w, d] <= S[d] * Z[w],\n",
    "            name=f\"openWarehouse_{w},{d}\",\n",
    "        )"
   ]
  },
  {
   "cell_type": "markdown",
   "id": "295c838a",
   "metadata": {},
   "source": [
    "## Solver"
   ]
  },
  {
   "cell_type": "code",
   "execution_count": 56,
   "id": "83f70009",
   "metadata": {},
   "outputs": [],
   "source": [
    "# NOTE: precisou ser o formato .rlp pois algumas variáveis têm espaço\n",
    "m.write(\"model-baseline.rlp\")"
   ]
  },
  {
   "cell_type": "code",
   "execution_count": 57,
   "id": "2dd56a49",
   "metadata": {},
   "outputs": [
    {
     "name": "stdout",
     "output_type": "stream",
     "text": [
      "Set parameter TimeLimit to value 300\n",
      "Gurobi Optimizer version 11.0.3 build v11.0.3rc0 (win64 - Windows 11+.0 (26100.2))\n",
      "\n",
      "CPU model: AMD Ryzen 7 7730U with Radeon Graphics, instruction set [SSE2|AVX|AVX2]\n",
      "Thread count: 8 physical cores, 16 logical processors, using up to 16 threads\n",
      "\n",
      "Optimize a model with 2432 rows, 2524 columns and 11884 nonzeros\n",
      "Model fingerprint: 0xd9a267eb\n",
      "Model has 2288 quadratic objective terms\n",
      "Variable types: 2480 continuous, 44 integer (44 binary)\n",
      "Coefficient statistics:\n",
      "  Matrix range     [1e+00, 6e+05]\n",
      "  Objective range  [8e-01, 1e+02]\n",
      "  QObjective range [2e-01, 2e+01]\n",
      "  Bounds range     [1e+00, 1e+00]\n",
      "  RHS range        [1e+03, 6e+05]\n",
      "Found heuristic solution: objective 5.809556e+07\n",
      "Presolve time: 0.01s\n",
      "Presolved: 4720 rows, 4812 columns, 18748 nonzeros\n",
      "Variable types: 4768 continuous, 44 integer (44 binary)\n",
      "\n",
      "Root relaxation: objective 4.381531e+07, 343 iterations, 0.01 seconds (0.01 work units)\n",
      "\n",
      "    Nodes    |    Current Node    |     Objective Bounds      |     Work\n",
      " Expl Unexpl |  Obj  Depth IntInf | Incumbent    BestBd   Gap | It/Node Time\n",
      "\n",
      "*    0     0               0    4.381531e+07 4.3815e+07  0.00%     -    0s\n",
      "\n",
      "Explored 1 nodes (343 simplex iterations) in 0.09 seconds (0.06 work units)\n",
      "Thread count was 16 (of 16 available processors)\n",
      "\n",
      "Solution count 2: 4.38153e+07 5.80956e+07 \n",
      "\n",
      "Optimal solution found (tolerance 1.00e-04)\n",
      "Best objective 4.381530672990e+07, best bound 4.381530672990e+07, gap 0.0000%\n"
     ]
    }
   ],
   "source": [
    "m.params.TimeLimit = 300  # seconds\n",
    "\n",
    "m.optimize()"
   ]
  },
  {
   "cell_type": "code",
   "execution_count": 58,
   "id": "67930de6",
   "metadata": {},
   "outputs": [
    {
     "name": "stdout",
     "output_type": "stream",
     "text": [
      "\n",
      "Statistics for model UsemoreWarehousing:\n",
      "  Linear constraint matrix    : 2432 Constrs, 2524 Vars, 11884 NZs\n",
      "  Variable types              : 2480 Continuous,\n",
      "44 Integer (44 Binary)\n",
      "  Matrix coefficient range    : [ 1, 620000 ]\n",
      "  Objective coefficient range : [ 0.8, 138.191 ]\n",
      "  Variable bound range        : [ 1, 1 ]\n",
      "  RHS coefficient range       : [ 1004, 620000 ]\n"
     ]
    }
   ],
   "source": [
    "m.printStats()"
   ]
  },
  {
   "cell_type": "code",
   "execution_count": 59,
   "id": "7197a372",
   "metadata": {},
   "outputs": [
    {
     "name": "stdout",
     "output_type": "stream",
     "text": [
      "\n",
      "Solution quality statistics for model UsemoreWarehousing :\n",
      "  Maximum violation:\n",
      "    Bound       : 0.00000000e+00\n",
      "    Constraint  : 0.00000000e+00\n",
      "    Integrality : 0.00000000e+00\n"
     ]
    }
   ],
   "source": [
    "m.printQuality()"
   ]
  },
  {
   "cell_type": "markdown",
   "id": "afde0f08",
   "metadata": {},
   "source": [
    "## Visualize results"
   ]
  },
  {
   "cell_type": "markdown",
   "id": "e852cd0e",
   "metadata": {},
   "source": [
    "### Costs"
   ]
  },
  {
   "cell_type": "code",
   "execution_count": 60,
   "id": "711eb929",
   "metadata": {},
   "outputs": [
    {
     "name": "stdout",
     "output_type": "stream",
     "text": [
      "Objective function final value: $43,815,306.73\n"
     ]
    }
   ],
   "source": [
    "# Print the solution objective value\n",
    "print(f\"Objective function final value: ${m.objVal:,.2f}\")"
   ]
  },
  {
   "cell_type": "code",
   "execution_count": 61,
   "id": "d0821ff4",
   "metadata": {},
   "outputs": [
    {
     "name": "stdout",
     "output_type": "stream",
     "text": [
      "\n",
      "=================================================================\n",
      "                         COST BREAKDOWN                          \n",
      "=================================================================\n",
      "Cost Component                         Amount ($)   Percentage\n",
      "-----------------------------------------------------------------\n",
      "Inbound transport cost           $       663,067.42        1.51%\n",
      "Outbound transport cost          $     2,016,312.34        4.60%\n",
      "Direct transport cost            $     7,674,679.37       17.52%\n",
      "Production costs                 $    30,710,761.60       70.09%\n",
      "Storage costs                    $     2,332,626.62        5.32%\n",
      "Handling costs                   $       325,578.86        0.74%\n",
      "Stock order processing costs     $        24,276.63        0.06%\n",
      "Customer order processing costs  $        68,003.90        0.16%\n",
      "-----------------------------------------------------------------\n",
      "TOTAL COST                       $    43,815,306.73      100.00%\n",
      "=================================================================\n"
     ]
    }
   ],
   "source": [
    "def display_cost_components():\n",
    "    \"\"\"Calculate and display all cost components\"\"\"\n",
    "\n",
    "    # Get cost values from the model\n",
    "    costs = {\n",
    "        \"Inbound transport cost\": inbound__transport_cost.getValue(),\n",
    "        \"Outbound transport cost\": outbound_transport_cost.getValue(),\n",
    "        \"Direct transport cost\": direct_transport_cost.getValue(),\n",
    "        \"Production costs\": production_costs1.getValue() + production_costs2.getValue(),\n",
    "        \"Storage costs\": storage_costs.getValue(),\n",
    "        \"Handling costs\": handling_costs.getValue(),\n",
    "        \"Stock order processing costs\": stock_order_processing_costs.getValue(),\n",
    "        \"Customer order processing costs\": customer_order_processing_costs.getValue(),\n",
    "    }\n",
    "\n",
    "    # Calculate total cost\n",
    "    total = sum(costs.values())\n",
    "\n",
    "    # Print the cost components in a formatted table\n",
    "    print(\"\\n\" + \"=\" * 65)\n",
    "    print(f\"{'COST BREAKDOWN':^65}\")\n",
    "    print(\"=\" * 65)\n",
    "    print(f\"{'Cost Component':<30} {'Amount ($)':>18} {'Percentage':>12}\")\n",
    "    print(\"-\" * 65)\n",
    "\n",
    "    for name, value in costs.items():\n",
    "        percentage = (value / total) * 100\n",
    "        print(f\"{name:<32} ${value:>17,.2f} {percentage:>11.2f}%\")\n",
    "\n",
    "    print(\"-\" * 65)\n",
    "    print(f\"{'TOTAL COST':<32} ${total:>17,.2f} {100:>11.2f}%\")\n",
    "    print(\"=\" * 65)\n",
    "\n",
    "\n",
    "# Call the function to display costs\n",
    "display_cost_components()"
   ]
  },
  {
   "cell_type": "markdown",
   "id": "5898928a",
   "metadata": {},
   "source": [
    "### Locations"
   ]
  },
  {
   "cell_type": "code",
   "execution_count": 62,
   "id": "9c435c29",
   "metadata": {},
   "outputs": [
    {
     "name": "stdout",
     "output_type": "stream",
     "text": [
      "Number of open warehouses 🏭: 4 \n",
      "Number of closed warehouses 🔒: 40 \n",
      "Percentage of warehouses open: 9.1% 📊\n",
      "\n",
      "--- Warehouse openings ---\n",
      " Open warehouse at Atlanta\n",
      " Open warehouse at Boston\n",
      " Open warehouse at Chicago\n",
      " Open warehouse at Houston\n",
      "\n",
      "--- Warehouse closings ---\n",
      " Closed warehouse at Buffalo\n",
      " Closed warehouse at Cleveland\n",
      " Closed warehouse at Davenport\n",
      " Closed warehouse at Detroit\n",
      " Closed warehouse at Grand Rapids\n",
      " Closed warehouse at Greensboro\n",
      " Closed warehouse at Kansas City\n",
      " Closed warehouse at Baltimore\n",
      " Closed warehouse at Memphis\n",
      " Closed warehouse at Milwaukee\n",
      " Closed warehouse at Orlando\n",
      " Closed warehouse at Pittsburgh\n",
      " Closed warehouse at Portland\n",
      " Closed warehouse at W Sacramento\n",
      " Closed warehouse at W Chester\n",
      " Closed warehouse at Albuquerque\n",
      " Closed warehouse at Billings\n",
      " Closed warehouse at Denver\n",
      " Closed warehouse at El Paso\n",
      " Closed warehouse at Camp Hill\n",
      " Closed warehouse at Las Vegas\n",
      " Closed warehouse at Minneapolis\n",
      " Closed warehouse at New Orleans\n",
      " Closed warehouse at Phoenix\n",
      " Closed warehouse at Richmond\n",
      " Closed warehouse at St Louis\n",
      " Closed warehouse at Salt Lake City\n",
      " Closed warehouse at San Antonio\n",
      " Closed warehouse at Seattle\n",
      " Closed warehouse at Spokane\n",
      " Closed warehouse at San Francisco\n",
      " Closed warehouse at Indianapolis\n",
      " Closed warehouse at Louisville\n",
      " Closed warehouse at Columbus\n",
      " Closed warehouse at New York\n",
      " Closed warehouse at Hartford\n",
      " Closed warehouse at Miami\n",
      " Closed warehouse at Mobile\n",
      " Closed warehouse at Memphis *\n",
      " Closed warehouse at Chicago *\n"
     ]
    }
   ],
   "source": [
    "open_w = [w for w in warehouses if Z[w].X > 0.1]\n",
    "closed_w = [w for w in warehouses if Z[w].X < 0.1]\n",
    "\n",
    "print(f\"Number of open warehouses 🏭: {len(open_w)} \")\n",
    "print(f\"Number of closed warehouses 🔒: {len(closed_w)} \")\n",
    "\n",
    "# Calculate percentage of open warehouses\n",
    "percentage_open = (len(open_w) / len(warehouses)) * 100\n",
    "print(f\"Percentage of warehouses open: {percentage_open:.1f}% 📊\")\n",
    "\n",
    "print(\"\\n--- Warehouse openings ---\")\n",
    "for w in open_w:\n",
    "    print(f\" Open warehouse at {w}\")\n",
    "\n",
    "if len(closed_w) > 0:\n",
    "    print(\"\\n--- Warehouse closings ---\")\n",
    "    for w in closed_w:\n",
    "        print(f\" Closed warehouse at {w}\")"
   ]
  },
  {
   "cell_type": "markdown",
   "id": "954322d2",
   "metadata": {},
   "source": [
    "### Production"
   ]
  },
  {
   "cell_type": "code",
   "execution_count": 63,
   "id": "e49c5648",
   "metadata": {},
   "outputs": [
    {
     "name": "stdout",
     "output_type": "stream",
     "text": [
      "\n",
      "------------------ Plant production ----------------------\n",
      " Plant   Covington, KY production: 620,000.00 cwt (42.0%)\n",
      " Plant    New York, NY production: 430,000.00 cwt (29.1%)\n",
      " Plant   Arlington, TX production: 247,026.00 cwt (16.7%)\n",
      " Plant  Long Beach, CA production: 180,000.00 cwt (12.2%)\n"
     ]
    }
   ],
   "source": [
    "plant_production = {}\n",
    "\n",
    "for p in plants:\n",
    "    plant_production[p] = sum(X[p, w].X for w in warehouses if Z[w].X > 0.1) + sum(\n",
    "        W[p, d].X for d in demand_centers if d in S and S[d] > 0 and W[p, d].X > 0.1\n",
    "    )\n",
    "\n",
    "print(\"\\n------------------ Plant production ----------------------\")\n",
    "total_production = sum(plant_production.values())\n",
    "for p in plants:\n",
    "    percentage = (plant_production[p] / total_production) * 100\n",
    "    print(\n",
    "        f\" Plant {p:>15} production: {plant_production[p]:,.2f} cwt ({percentage:>4.1f}%)\"\n",
    "    )"
   ]
  },
  {
   "cell_type": "markdown",
   "id": "0a03ed66",
   "metadata": {},
   "source": [
    "### Flows"
   ]
  },
  {
   "cell_type": "code",
   "execution_count": 64,
   "id": "77b025c7",
   "metadata": {},
   "outputs": [
    {
     "name": "stdout",
     "output_type": "stream",
     "text": [
      "\n",
      "---------- Plant → Warehouse flows -------------\n",
      "   Covington, KY → Atlanta          = 97479 cwt\n",
      "   Covington, KY → Chicago          = 72521 cwt\n",
      "    New York, NY → Boston           = 50000 cwt\n",
      "   Arlington, TX → Houston          = 107026 cwt\n"
     ]
    }
   ],
   "source": [
    "print(\"\\n---------- Plant → Warehouse flows -------------\")\n",
    "for p, w in X.keys():\n",
    "    if X[p, w].X > 1e-6:\n",
    "        print(f\" {p:>15} → {w:<16} = {X[p, w].X:>5.0f} cwt\")"
   ]
  },
  {
   "cell_type": "code",
   "execution_count": 65,
   "id": "3ad699e6",
   "metadata": {},
   "outputs": [
    {
     "name": "stdout",
     "output_type": "stream",
     "text": [
      "\n",
      "---------- Plant → Demand flows ---\n",
      "   Covington, KY → IA:    8438 cwt\n",
      "   Covington, KY → MO:   19809 cwt\n",
      "   Covington, KY → IL:   72839 cwt\n",
      "   Covington, KY → MI:  103448 cwt\n",
      "   Covington, KY → IN:   43994 cwt\n",
      "   Covington, KY → KY:    3870 cwt\n",
      "   Covington, KY → OH:  155123 cwt\n",
      "   Covington, KY → TN:   42479 cwt\n",
      "    New York, NY → MI:    1733 cwt\n",
      "    New York, NY → ME:    2916 cwt\n",
      "    New York, NY → NH:    4546 cwt\n",
      "    New York, NY → RI:   17000 cwt\n",
      "    New York, NY → NJ:   21154 cwt\n",
      "    New York, NY → NY:  160917 cwt\n",
      "    New York, NY → PA:   65108 cwt\n",
      "    New York, NY → CT:   26187 cwt\n",
      "    New York, NY → VA:   17667 cwt\n",
      "    New York, NY → WV:    9168 cwt\n",
      "    New York, NY → MD:   19284 cwt\n",
      "    New York, NY → VT:    2928 cwt\n",
      "    New York, NY → DE:    3044 cwt\n",
      "    New York, NY → NC:   28348 cwt\n",
      "   Arlington, TX → WA:   32437 cwt\n",
      "   Arlington, TX → OR:    3236 cwt\n",
      "   Arlington, TX → AZ:    9063 cwt\n",
      "   Arlington, TX → ID:    7153 cwt\n",
      "   Arlington, TX → UT:    9001 cwt\n",
      "   Arlington, TX → MT:    4140 cwt\n",
      "   Arlington, TX → WY:    1004 cwt\n",
      "   Arlington, TX → CO:   11147 cwt\n",
      "   Arlington, TX → SD:    1049 cwt\n",
      "   Arlington, TX → NE:    7347 cwt\n",
      "   Arlington, TX → KS:    6961 cwt\n",
      "   Arlington, TX → MO:   21871 cwt\n",
      "   Arlington, TX → NM:    3536 cwt\n",
      "   Arlington, TX → TX:    3628 cwt\n",
      "   Arlington, TX → OK:   13517 cwt\n",
      "   Arlington, TX → AR:    4910 cwt\n",
      "  Long Beach, CA → OR:   28129 cwt\n",
      "  Long Beach, CA → CA:  135116 cwt\n",
      "  Long Beach, CA → NV:   16755 cwt\n"
     ]
    }
   ],
   "source": [
    "print(\"\\n---------- Plant → Demand flows ---\")\n",
    "for w, j in W.keys():\n",
    "    if W[w, j].X > 1e-6:\n",
    "        print(f\" {w:>15} → {j}: {W[w, j].X:>7.0f} cwt\")"
   ]
  },
  {
   "cell_type": "code",
   "execution_count": 66,
   "id": "06f4069b",
   "metadata": {},
   "outputs": [
    {
     "name": "stdout",
     "output_type": "stream",
     "text": [
      "\n",
      "------- Warehouse → Demand flows ---\n",
      "          Atlanta → AL: 15835 cwt\n",
      "          Atlanta → GA: 29559 cwt\n",
      "          Atlanta → FL: 46405 cwt\n",
      "          Atlanta → SC:  5680 cwt\n",
      "           Boston → ME: 12913 cwt\n",
      "           Boston → MA: 37087 cwt\n",
      "          Chicago → ND:  5703 cwt\n",
      "          Chicago → MN:  5633 cwt\n",
      "          Chicago → IA: 23737 cwt\n",
      "          Chicago → WI: 37448 cwt\n",
      "          Houston → TX: 76810 cwt\n",
      "          Houston → LA: 15011 cwt\n",
      "          Houston → MS: 15205 cwt\n"
     ]
    }
   ],
   "source": [
    "print(\"\\n------- Warehouse → Demand flows ---\")\n",
    "for w, j in Y.keys():\n",
    "    if Y[w, j].X > 1e-6:\n",
    "        print(f\" {w:>16} → {j}: {Y[w, j].X:>5.0f} cwt\")"
   ]
  }
 ],
 "metadata": {
  "kernelspec": {
   "display_name": ".venv",
   "language": "python",
   "name": "python3"
  },
  "language_info": {
   "codemirror_mode": {
    "name": "ipython",
    "version": 3
   },
   "file_extension": ".py",
   "mimetype": "text/x-python",
   "name": "python",
   "nbconvert_exporter": "python",
   "pygments_lexer": "ipython3",
   "version": "3.11.0"
  }
 },
 "nbformat": 4,
 "nbformat_minor": 5
}
