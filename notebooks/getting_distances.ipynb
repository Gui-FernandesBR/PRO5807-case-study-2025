{
 "cells": [
  {
   "cell_type": "code",
   "execution_count": 1,
   "id": "27995d9d",
   "metadata": {},
   "outputs": [],
   "source": [
    "from geopy.distance import geodesic\n",
    "\n",
    "import pandas as pd"
   ]
  },
  {
   "cell_type": "code",
   "execution_count": 2,
   "id": "8c4f1465",
   "metadata": {},
   "outputs": [
    {
     "name": "stdout",
     "output_type": "stream",
     "text": [
      "(35.491035, -119.347852)\n",
      "(41.8781, -87.6298)\n",
      "(40.7128, -74.006)\n"
     ]
    }
   ],
   "source": [
    "# load your data\n",
    "df = pd.read_csv(\"states_centers.csv\")\n",
    "\n",
    "# build dict: key = ST2, value = (LATITUDE, LONGITUDE)\n",
    "state_coords = dict(zip(df[\"ST2\"], zip(df[\"LATITUDE\"], df[\"LONGITUDE\"])))\n",
    "\n",
    "# example usage\n",
    "print(state_coords[\"CA\"])  # -> (35.491035, -119.347852)\n",
    "\n",
    "\n",
    "df2 = pd.read_excel(\"tabelas.xlsx\", sheet_name=\"table1\")\n",
    "df3 = pd.read_excel(\"tabelas.xlsx\", sheet_name=\"tableb\")\n",
    "\n",
    "warehouse_coords = dict(\n",
    "    zip(df2[\"Location (city)\"], zip(df2[\"Latitude\"], df2[\"Longitude\"]))\n",
    ")\n",
    "\n",
    "print(warehouse_coords[\"Chicago\"])  # -> (41.8781, -87.6298)\n",
    "\n",
    "plants_coords = dict(zip(df3[\"Plant\"], zip(df3[\"Latitude\"], df3[\"Longitude\"])))\n",
    "print(plants_coords[\"New York, NY\"])  # -> (40.7128, -74.006)"
   ]
  },
  {
   "cell_type": "code",
   "execution_count": 3,
   "id": "3459a08b",
   "metadata": {},
   "outputs": [],
   "source": [
    "df_plants = pd.DataFrame(\n",
    "    index=warehouse_coords.keys(), columns=plants_coords.keys(), dtype=float\n",
    ")\n",
    "for plant, p_coord in plants_coords.items():\n",
    "    for wh, w_coord in warehouse_coords.items():\n",
    "        df_plants.at[wh, plant] = geodesic(p_coord, w_coord).miles\n",
    "df_plants.index.name = \"Warehouse Location\""
   ]
  },
  {
   "cell_type": "code",
   "execution_count": 4,
   "id": "173edd39",
   "metadata": {},
   "outputs": [],
   "source": [
    "df_states = pd.DataFrame(\n",
    "    index=state_coords.keys(), columns=warehouse_coords.keys(), dtype=float\n",
    ")\n",
    "for state, s_coord in state_coords.items():\n",
    "    for wh, w_coord in warehouse_coords.items():\n",
    "        df_states.at[wh, state] = geodesic(s_coord, w_coord).miles\n",
    "df_states.index.name = \"Warehouse Location\""
   ]
  },
  {
   "cell_type": "code",
   "execution_count": 5,
   "id": "5afee256",
   "metadata": {},
   "outputs": [],
   "source": [
    "df_p_d = pd.DataFrame(\n",
    "    index=state_coords.keys(), columns=plants_coords.keys(), dtype=float\n",
    ")\n",
    "for plant, p_coord in plants_coords.items():\n",
    "    for state, s_coord in state_coords.items():\n",
    "        df_p_d.at[state, plant] = geodesic(p_coord, s_coord).miles\n",
    "df_p_d.index.name = \"State\""
   ]
  },
  {
   "cell_type": "code",
   "execution_count": 6,
   "id": "982f358e",
   "metadata": {},
   "outputs": [],
   "source": [
    "with pd.ExcelWriter(\"distance_matrix.xlsx\", engine=\"openpyxl\") as writer:\n",
    "    df_plants.to_excel(writer, sheet_name=\"d_pw\")\n",
    "    df_states.to_excel(writer, sheet_name=\"d_ws\")\n",
    "    df_p_d.to_excel(writer, sheet_name=\"d_pd\")"
   ]
  }
 ],
 "metadata": {
  "kernelspec": {
   "display_name": "Python 3",
   "language": "python",
   "name": "python3"
  },
  "language_info": {
   "codemirror_mode": {
    "name": "ipython",
    "version": 3
   },
   "file_extension": ".py",
   "mimetype": "text/x-python",
   "name": "python",
   "nbconvert_exporter": "python",
   "pygments_lexer": "ipython3",
   "version": "3.13.3"
  }
 },
 "nbformat": 4,
 "nbformat_minor": 5
}
