{
 "cells": [
  {
   "cell_type": "markdown",
   "id": "71f38f09",
   "metadata": {},
   "source": [
    "# Usermore soap case study\n",
    "\n",
    "Guilherme Fernandes e Lauro Solia"
   ]
  },
  {
   "cell_type": "code",
   "execution_count": 96,
   "id": "471bf414",
   "metadata": {},
   "outputs": [],
   "source": [
    "from pprint import pprint\n",
    "\n",
    "import gurobipy\n",
    "from gurobipy import Model, GRB\n",
    "import matplotlib.pyplot as plt\n",
    "import numpy as np\n",
    "import pandas as pd"
   ]
  },
  {
   "cell_type": "markdown",
   "id": "c5b0ef47",
   "metadata": {},
   "source": [
    "## 1. Defining the sets"
   ]
  },
  {
   "cell_type": "code",
   "execution_count": 97,
   "id": "895a366f",
   "metadata": {},
   "outputs": [],
   "source": [
    "plants = [\n",
    "    \"Covington\",\n",
    "    \"New York\",\n",
    "    \"Arlington\",\n",
    "    \"Long Beach\",\n",
    "    \"Memphis\",\n",
    "    \"Chicago\",\n",
    "]\n",
    "\n",
    "existing_warehouses = [\n",
    "    \"Atlanta\",\n",
    "    \"Boston\",\n",
    "    \"Buffalo\",\n",
    "    \"Cleveland\",\n",
    "    \"Davenport\",\n",
    "    \"Detroit\",\n",
    "    \"Grand Rapids\",\n",
    "    \"Greensboro\",\n",
    "    \"Kansas City\",\n",
    "    \"Baltimore\",\n",
    "    \"Milwaukee\",\n",
    "    \"Orlando\",\n",
    "    \"Pittsburgh\",\n",
    "    \"Portland\",\n",
    "    \"W Sacramento\",\n",
    "    \"W Chester\",\n",
    "]\n",
    "\n",
    "potential_warehouses = [\n",
    "    \"Albuquerque\",\n",
    "    \"Billings\",\n",
    "    \"Denver\",\n",
    "    \"El Paso\",\n",
    "    \"Camp Hill\",\n",
    "    \"Houston\",\n",
    "    \"Las Vegas\",\n",
    "    \"Minneapolis\",\n",
    "    \"New Orleans\",\n",
    "    \"Phoenix\",\n",
    "    \"Richmond\",\n",
    "    \"St Louis\",\n",
    "    \"Salt Lake City\",\n",
    "    \"San Antonio\",\n",
    "    \"Seattle\",\n",
    "    \"Spokane\",\n",
    "    \"San Francisco\",\n",
    "    \"Indianapolis\",\n",
    "    \"Louisville\",\n",
    "    \"Columbus\",\n",
    "    \"New York-\",\n",
    "    \"Hartford\",\n",
    "    \"Miami\",\n",
    "    \"Mobile\",\n",
    "]\n",
    "\n",
    "warehouses = plants + existing_warehouses + potential_warehouses"
   ]
  },
  {
   "cell_type": "code",
   "execution_count": 98,
   "id": "97d3b15b",
   "metadata": {},
   "outputs": [
    {
     "name": "stdout",
     "output_type": "stream",
     "text": [
      "Number of plants:  6\n",
      "Number of existing warehouses:  16\n",
      "Number of potential warehouses:  24\n",
      "Number of total available warehouses for this case:  46\n",
      "Obs.: Each plant is also an existing warehouse\n"
     ]
    }
   ],
   "source": [
    "print(\"Number of plants: \", len(plants))\n",
    "print(\"Number of existing warehouses: \", len(existing_warehouses))\n",
    "print(\"Number of potential warehouses: \", len(potential_warehouses))\n",
    "print(\"Number of total available warehouses for this case: \", len(warehouses))\n",
    "print(\"Obs.: Each plant is also an existing warehouse\")"
   ]
  },
  {
   "cell_type": "markdown",
   "id": "712fcd56",
   "metadata": {},
   "source": [
    "## 2. Parameters"
   ]
  },
  {
   "cell_type": "markdown",
   "id": "c257a2d6",
   "metadata": {},
   "source": [
    "### Demand"
   ]
  },
  {
   "cell_type": "code",
   "execution_count": 99,
   "id": "8fae0141",
   "metadata": {},
   "outputs": [],
   "source": [
    "# read state demands from Figure 1\n",
    "state_demand = {\n",
    "    # West region:\n",
    "    \"WA\": 32_437,  # Washington\n",
    "    \"OR\": 31_365,  # Oregon\n",
    "    \"CA\": 135_116,  # California\n",
    "    \"NV\": 16755,  # Nevada\n",
    "    \"AZ\": 9063,  # Arizona\n",
    "    \"ID\": 7153,  # Idaho\n",
    "    # Northwest region:\n",
    "    \"UT\": 9001,  # Utah\n",
    "    \"MT\": 4140,  # Montana\n",
    "    \"ND\": 5703,  # North Dakota\n",
    "    \"WY\": 1004,  # Wyoming\n",
    "    \"CO\": 11147,  # Colorado\n",
    "    \"SD\": 1049,  # South Dakota\n",
    "    \"NE\": 7347,  # Nebraska\n",
    "    \"KS\": 6961,  # Kansas\n",
    "    \"MN\": 5633,  # Minnesota\n",
    "    \"IA\": 32175,  # Iowa\n",
    "    \"MO\": 41680,  # Missouri\n",
    "    # Southwest region:\n",
    "    \"NM\": 3536,  # New Mexico\n",
    "    \"TX\": 80438,  # Texas\n",
    "    \"OK\": 13517,  # Oklahoma\n",
    "    \"AR\": 4910,  # Arkansas\n",
    "    \"LA\": 15011,  # Louisiana\n",
    "    # Midwest region:\n",
    "    \"WI\": 37448,  # Wisconsin\n",
    "    \"IL\": 72839,  # Illinois\n",
    "    \"MI\": 105_181,  # Michigan\n",
    "    \"IN\": 43994,  # Indiana\n",
    "    \"KY\": 3870,  # Kentucky\n",
    "    \"OH\": 155_123,  # Ohio\n",
    "    # Northeast region:\n",
    "    \"ME\": 15829,  # Maine\n",
    "    \"NH\": 4546,  # New Hampshire\n",
    "    \"RI\": 17000,  # Rhode Island\n",
    "    \"NJ\": 21154,  # New Jersey\n",
    "    \"NY\": 160_917,  # New York\n",
    "    \"PA\": 65108,  # Pennsylvania\n",
    "    \"CT\": 26_187,  # Connecticut\n",
    "    \"MA\": 37087,  # Massachusetts\n",
    "    \"VA\": 17667,  # Virginia\n",
    "    \"WV\": 9168,  # West Virginia\n",
    "    \"MD\": 19_284,  # Maryland\n",
    "    \"VT\": 2_928,  # Vermont\n",
    "    \"DE\": 3_044,  # Delaware\n",
    "    # Southeast region:\n",
    "    \"TN\": 42_479,  # Tennessee\n",
    "    \"MS\": 15_205,  # Mississippi\n",
    "    \"AL\": 15_835,  # Alabama\n",
    "    \"GA\": 29_559,  # Georgia\n",
    "    \"FL\": 46_405,  # Florida\n",
    "    \"SC\": 5_680,  # South Carolina\n",
    "    \"NC\": 28_348,  # North Carolina\n",
    "}\n",
    "\n",
    "for state, value in state_demand.items():\n",
    "    # West region\n",
    "    if state in [\"WA\", \"OR\", \"CA\", \"NV\", \"AZ\", \"ID\"]:\n",
    "        state_demand[state] = value * 1.35\n",
    "    # Northwest region\n",
    "    if state in [\"UT\", \"MT\", \"ND\", \"WY\", \"CO\", \"SD\", \"NE\", \"KS\", \"MN\", \"IA\", \"MO\"]:\n",
    "        state_demand[state] = value * 1.20\n",
    "    # Southwest region\n",
    "    if state in [\"NM\", \"TX\", \"OK\", \"AR\", \"LA\"]:\n",
    "        state_demand[state] = value * 1.15\n",
    "    # Midwest region\n",
    "    if state in [\"WI\", \"IL\", \"MI\", \"IN\", \"KY\", \"OH\"]:\n",
    "        state_demand[state] = value * 1.25\n",
    "    # Northeast region\n",
    "    if state in [\n",
    "        \"ME\",\n",
    "        \"NH\",\n",
    "        \"RI\",\n",
    "        \"NJ\",\n",
    "        \"NY\",\n",
    "        \"PA\",\n",
    "        \"CT\",\n",
    "        \"MA\",\n",
    "        \"VA\",\n",
    "        \"WV\",\n",
    "        \"MD\",\n",
    "        \"VT\",\n",
    "        \"DE\",\n",
    "    ]:\n",
    "        state_demand[state] = value * 1.20\n",
    "    # Southeast region\n",
    "    if state in [\"TN\", \"MS\", \"AL\", \"GA\", \"FL\", \"SC\", \"NC\"]:\n",
    "        state_demand[state] = value * 1.45"
   ]
  },
  {
   "cell_type": "code",
   "execution_count": 100,
   "id": "a790486c",
   "metadata": {},
   "outputs": [
    {
     "name": "stdout",
     "output_type": "stream",
     "text": [
      "Total states number:  48\n",
      "Total demand:  1868144.4500000004\n",
      "Each state represents a demand center\n"
     ]
    }
   ],
   "source": [
    "S = state_demand  # Sales\n",
    "total_demand = sum(S.values())\n",
    "\n",
    "print(\"Total states number: \", len(S))\n",
    "print(\"Total demand: \", total_demand)\n",
    "print(\"Each state represents a demand center\")\n",
    "\n",
    "# NOTE: Valor total deve ser 1_477_026, então precisei ajustar NY (que nao tem na foto) pra bater o valor final."
   ]
  },
  {
   "cell_type": "code",
   "execution_count": 101,
   "id": "2cb6fe3c",
   "metadata": {},
   "outputs": [],
   "source": [
    "demand_centers = [f\"{s}\" for s in state_demand.keys()]\n",
    "\n",
    "# pprint(demand_centers)"
   ]
  },
  {
   "cell_type": "markdown",
   "id": "7fe915ca",
   "metadata": {},
   "source": [
    "### Capacities"
   ]
  },
  {
   "cell_type": "code",
   "execution_count": 102,
   "id": "65f5001a",
   "metadata": {},
   "outputs": [],
   "source": [
    "# Plants current capacities C[p]\n",
    "C = {\n",
    "    \"Covington\": 620_000,\n",
    "    \"New York\": 430_000,\n",
    "    \"Arlington\": 300_000,\n",
    "    \"Long Beach\": 280_000,\n",
    "    \"Memphis\": 0,\n",
    "    \"Chicago\": 0,\n",
    "}\n",
    "\n",
    "ADDITIONAL_CAPACITY = 1_000_000\n",
    "ADDITIONAL_CAPACITY_COST = 4_000_000"
   ]
  },
  {
   "cell_type": "code",
   "execution_count": 103,
   "id": "345ddc87",
   "metadata": {},
   "outputs": [],
   "source": [
    "# Warehouse/Plant stocking capacities C'[p]\n",
    "# (plants have capacity to stock, but the public warehouses do not)\n",
    "C_prime = {\n",
    "    \"Covington\": 450_000,\n",
    "    \"New York\": 380_000,\n",
    "    \"Arlington\": 140_000,\n",
    "    \"Long Beach\": 180_000,\n",
    "    \"Memphis\": total_demand,\n",
    "    \"Chicago\": total_demand,\n",
    "}"
   ]
  },
  {
   "cell_type": "markdown",
   "id": "63d7e624",
   "metadata": {},
   "source": [
    "### Distances"
   ]
  },
  {
   "cell_type": "code",
   "execution_count": 104,
   "id": "1b656977",
   "metadata": {},
   "outputs": [],
   "source": [
    "# Distance matrices (in miles)\n",
    "#     d_pw[p][w] = distance plant → warehouse\n",
    "#     d_wd[w][d] = distance warehouse → demand center\n",
    "\n",
    "df_pw = pd.read_excel(\n",
    "    \"../distances/distance_matrix.xlsx\",\n",
    "    sheet_name=\"d_pw\",\n",
    "    index_col=0,\n",
    ")\n",
    "df_wd = pd.read_excel(\n",
    "    \"../distances/distance_matrix.xlsx\",\n",
    "    sheet_name=\"d_ws\",\n",
    "    index_col=0,\n",
    ")\n",
    "\n",
    "d_pw = df_pw.to_dict()\n",
    "d_wd = df_wd.to_dict()"
   ]
  },
  {
   "cell_type": "code",
   "execution_count": 105,
   "id": "4c433b74",
   "metadata": {},
   "outputs": [],
   "source": [
    "# print(\"Distance matrices:\")\n",
    "# print(\"d_pw (plant to warehouse):\")\n",
    "# pprint(d_pw)\n",
    "# print(\"d_wd (warehouse to demand center):\")\n",
    "# pprint(d_wd)\n"
   ]
  },
  {
   "cell_type": "markdown",
   "id": "cdae9faa",
   "metadata": {},
   "source": [
    "### Costs"
   ]
  },
  {
   "cell_type": "code",
   "execution_count": 106,
   "id": "892c708f",
   "metadata": {},
   "outputs": [],
   "source": [
    "# Unit production cost (variable production cost)\n",
    "rho = {\n",
    "    \"Covington\": 21.0,\n",
    "    \"New York\": 19.9,\n",
    "    \"Arlington\": 21.6,\n",
    "    \"Long Beach\": 21.1,\n",
    "    \"Memphis\": 20.6,\n",
    "    \"Chicago\": 21.0,\n",
    "}"
   ]
  },
  {
   "cell_type": "code",
   "execution_count": 107,
   "id": "d9f49045",
   "metadata": {},
   "outputs": [],
   "source": [
    "# Inbound cost c_in[p][w] = 0.92 + 0.0034*d_pw\n",
    "# Represents costs from plants to warehouses\n",
    "c_in = {\n",
    "    p: {w: 0.92 + 0.0034 * d_pw[p][w.replace(\"-\", \"\")] for w in warehouses}\n",
    "    for p in plants\n",
    "}\n",
    "\n",
    "# c_in"
   ]
  },
  {
   "cell_type": "code",
   "execution_count": 108,
   "id": "6f4161bb",
   "metadata": {},
   "outputs": [
    {
     "data": {
      "application/vnd.microsoft.datawrangler.viewer.v0+json": {
       "columns": [
        {
         "name": "index",
         "rawType": "int64",
         "type": "integer"
        },
        {
         "name": "Warehouse No.",
         "rawType": "int64",
         "type": "integer"
        },
        {
         "name": "Storage ($/$)",
         "rawType": "float64",
         "type": "float"
        },
        {
         "name": "Handling ($/cwt)",
         "rawType": "float64",
         "type": "float"
        },
        {
         "name": "Stock Order Processing ($/order)",
         "rawType": "int64",
         "type": "integer"
        },
        {
         "name": "Stock Order Size",
         "rawType": "int64",
         "type": "integer"
        },
        {
         "name": "Customer Order Processing ($/order)",
         "rawType": "float64",
         "type": "float"
        },
        {
         "name": "Customer Order size (cwt/order)",
         "rawType": "float64",
         "type": "float"
        },
        {
         "name": "Local delivery rate ($/cwt)",
         "rawType": "float64",
         "type": "float"
        }
       ],
       "conversionMethod": "pd.DataFrame",
       "ref": "009199ff-a086-4c5f-baf5-e2890a94323d",
       "rows": [
        [
         "0",
         "1",
         "0.0672",
         "0.46",
         "18",
         "400",
         "1.79",
         "9.05",
         "1.9"
        ],
        [
         "1",
         "2",
         "0.0567",
         "0.54",
         "18",
         "400",
         "1.74",
         "10.92",
         "3.89"
        ],
        [
         "2",
         "3",
         "0.0755",
         "0.38",
         "18",
         "400",
         "2.71",
         "11.59",
         "2.02"
        ],
        [
         "3",
         "4",
         "0.0735",
         "0.59",
         "18",
         "400",
         "1.74",
         "11.3",
         "4.31"
        ],
        [
         "4",
         "5",
         "0.0946",
         "0.5",
         "18",
         "401",
         "0.83",
         "9.31",
         "1.89"
        ]
       ],
       "shape": {
        "columns": 8,
        "rows": 5
       }
      },
      "text/html": [
       "<div>\n",
       "<style scoped>\n",
       "    .dataframe tbody tr th:only-of-type {\n",
       "        vertical-align: middle;\n",
       "    }\n",
       "\n",
       "    .dataframe tbody tr th {\n",
       "        vertical-align: top;\n",
       "    }\n",
       "\n",
       "    .dataframe thead th {\n",
       "        text-align: right;\n",
       "    }\n",
       "</style>\n",
       "<table border=\"1\" class=\"dataframe\">\n",
       "  <thead>\n",
       "    <tr style=\"text-align: right;\">\n",
       "      <th></th>\n",
       "      <th>Warehouse No.</th>\n",
       "      <th>Storage ($/$)</th>\n",
       "      <th>Handling ($/cwt)</th>\n",
       "      <th>Stock Order Processing ($/order)</th>\n",
       "      <th>Stock Order Size</th>\n",
       "      <th>Customer Order Processing ($/order)</th>\n",
       "      <th>Customer Order size (cwt/order)</th>\n",
       "      <th>Local delivery rate ($/cwt)</th>\n",
       "    </tr>\n",
       "  </thead>\n",
       "  <tbody>\n",
       "    <tr>\n",
       "      <th>0</th>\n",
       "      <td>1</td>\n",
       "      <td>0.0672</td>\n",
       "      <td>0.46</td>\n",
       "      <td>18</td>\n",
       "      <td>400</td>\n",
       "      <td>1.79</td>\n",
       "      <td>9.05</td>\n",
       "      <td>1.90</td>\n",
       "    </tr>\n",
       "    <tr>\n",
       "      <th>1</th>\n",
       "      <td>2</td>\n",
       "      <td>0.0567</td>\n",
       "      <td>0.54</td>\n",
       "      <td>18</td>\n",
       "      <td>400</td>\n",
       "      <td>1.74</td>\n",
       "      <td>10.92</td>\n",
       "      <td>3.89</td>\n",
       "    </tr>\n",
       "    <tr>\n",
       "      <th>2</th>\n",
       "      <td>3</td>\n",
       "      <td>0.0755</td>\n",
       "      <td>0.38</td>\n",
       "      <td>18</td>\n",
       "      <td>400</td>\n",
       "      <td>2.71</td>\n",
       "      <td>11.59</td>\n",
       "      <td>2.02</td>\n",
       "    </tr>\n",
       "    <tr>\n",
       "      <th>3</th>\n",
       "      <td>4</td>\n",
       "      <td>0.0735</td>\n",
       "      <td>0.59</td>\n",
       "      <td>18</td>\n",
       "      <td>400</td>\n",
       "      <td>1.74</td>\n",
       "      <td>11.30</td>\n",
       "      <td>4.31</td>\n",
       "    </tr>\n",
       "    <tr>\n",
       "      <th>4</th>\n",
       "      <td>5</td>\n",
       "      <td>0.0946</td>\n",
       "      <td>0.50</td>\n",
       "      <td>18</td>\n",
       "      <td>401</td>\n",
       "      <td>0.83</td>\n",
       "      <td>9.31</td>\n",
       "      <td>1.89</td>\n",
       "    </tr>\n",
       "  </tbody>\n",
       "</table>\n",
       "</div>"
      ],
      "text/plain": [
       "   Warehouse No.  Storage ($/$)  Handling ($/cwt)  \\\n",
       "0              1         0.0672              0.46   \n",
       "1              2         0.0567              0.54   \n",
       "2              3         0.0755              0.38   \n",
       "3              4         0.0735              0.59   \n",
       "4              5         0.0946              0.50   \n",
       "\n",
       "   Stock Order Processing ($/order)  Stock Order Size  \\\n",
       "0                                18               400   \n",
       "1                                18               400   \n",
       "2                                18               400   \n",
       "3                                18               400   \n",
       "4                                18               401   \n",
       "\n",
       "   Customer Order Processing ($/order)  Customer Order size (cwt/order)  \\\n",
       "0                                 1.79                             9.05   \n",
       "1                                 1.74                            10.92   \n",
       "2                                 2.71                            11.59   \n",
       "3                                 1.74                            11.30   \n",
       "4                                 0.83                             9.31   \n",
       "\n",
       "   Local delivery rate ($/cwt)  \n",
       "0                         1.90  \n",
       "1                         3.89  \n",
       "2                         2.02  \n",
       "3                         4.31  \n",
       "4                         1.89  "
      ]
     },
     "execution_count": 108,
     "metadata": {},
     "output_type": "execute_result"
    }
   ],
   "source": [
    "# Ler tabela 3 do excel\n",
    "table3 = pd.read_excel(\"../misc/tabelas.xlsx\", sheet_name=\"table3\")\n",
    "\n",
    "table3.head()"
   ]
  },
  {
   "cell_type": "code",
   "execution_count": 109,
   "id": "0471466a",
   "metadata": {},
   "outputs": [],
   "source": [
    "# NOTE: usamos esse código so pra checar se existem valores abaixo de 30 milhas\n",
    "# for k, v in d_ws.items():\n",
    "#     for k2, v2 in v.items():\n",
    "#         if v2 <= 30:\n",
    "#             print(k, k2, v2)"
   ]
  },
  {
   "cell_type": "code",
   "execution_count": 110,
   "id": "b962c21f",
   "metadata": {},
   "outputs": [],
   "source": [
    "# Outbound cost c_out[w][j]:\n",
    "# Custo de enviar do warehouse para o demand center\n",
    "\n",
    "local_rate = {i: v for i, v in enumerate(table3[\"Local delivery rate ($/cwt)\"])}\n",
    "\n",
    "c_out = {}\n",
    "for i, w in enumerate(warehouses):\n",
    "    w = w.replace(\"-\", \"\")\n",
    "    c_out[w] = {}\n",
    "    for s in demand_centers:\n",
    "        d = d_wd[w][s]\n",
    "        if d <= 30:\n",
    "            # if d<=30: use local cartage rate from Table 3\n",
    "            c_out[w][s] = local_rate[i]\n",
    "        else:\n",
    "            # else use 5.45 + 0.0037*d\n",
    "            c_out[w][s] = 5.45 + 0.0037 * d\n",
    "\n",
    "# c_out"
   ]
  },
  {
   "cell_type": "code",
   "execution_count": 111,
   "id": "3ca9351f",
   "metadata": {},
   "outputs": [],
   "source": [
    "# Conversão de unidades:\n",
    "# Quanto representa 1 cwt. em $?\n",
    "# Dividimos as vendas totais ($) pela demand total (cwt)\n",
    "# Gamma = 160_000_000 /(1_477_026 + 7500_00)  # ($ / cwt)\n",
    "# Gamma"
   ]
  },
  {
   "cell_type": "code",
   "execution_count": 112,
   "id": "d01193db",
   "metadata": {},
   "outputs": [],
   "source": [
    "# Custo de estocagem do armazém w (Storage rate)\n",
    "tau = {}\n",
    "\n",
    "for i, w in enumerate(warehouses):\n",
    "    # Fiz o casting para evitar o np.float64 nos prints, mas nao precisava\n",
    "    tau[w] = float(table3[\"Storage ($/$)\"][i])"
   ]
  },
  {
   "cell_type": "code",
   "execution_count": 113,
   "id": "17fb051d",
   "metadata": {},
   "outputs": [],
   "source": [
    "# Custo de handling do armazém w (epsilon)\n",
    "\n",
    "epsilons = {}\n",
    "\n",
    "for i, w in enumerate(warehouses):\n",
    "    epsilons[w] = float(table3[\"Handling ($/cwt)\"][i])"
   ]
  },
  {
   "cell_type": "code",
   "execution_count": 114,
   "id": "36356669",
   "metadata": {},
   "outputs": [],
   "source": [
    "# gamma\n",
    "\n",
    "gammas = {}\n",
    "\n",
    "for i, w in enumerate(warehouses):\n",
    "    gammas[w] = float(table3[\"Stock Order Processing ($/order)\"][i])"
   ]
  },
  {
   "cell_type": "code",
   "execution_count": 115,
   "id": "21c47618",
   "metadata": {},
   "outputs": [],
   "source": [
    "# delta\n",
    "\n",
    "deltas = {}\n",
    "\n",
    "for i, w in enumerate(warehouses):\n",
    "    deltas[w] = float(table3[\"Stock Order Size\"][i])"
   ]
  },
  {
   "cell_type": "code",
   "execution_count": 116,
   "id": "208afc04",
   "metadata": {},
   "outputs": [],
   "source": [
    "# omega\n",
    "\n",
    "omegas = {}\n",
    "\n",
    "for i, w in enumerate(warehouses):\n",
    "    omegas[w] = float(table3[\"Customer Order size (cwt/order)\"][i])"
   ]
  },
  {
   "cell_type": "code",
   "execution_count": 117,
   "id": "9e20b289",
   "metadata": {},
   "outputs": [],
   "source": [
    "# phi\n",
    "\n",
    "phi = {}\n",
    "for i, w in enumerate(warehouses):\n",
    "    phi[w] = float(table3[\"Customer Order Processing ($/order)\"][i])"
   ]
  },
  {
   "cell_type": "markdown",
   "id": "43956ff6",
   "metadata": {},
   "source": [
    "## 3. Defining the model"
   ]
  },
  {
   "cell_type": "code",
   "execution_count": 118,
   "id": "8b899605",
   "metadata": {},
   "outputs": [],
   "source": [
    "m = Model(name=\"UsemoreWarehousing\")"
   ]
  },
  {
   "cell_type": "markdown",
   "id": "00f83997",
   "metadata": {},
   "source": [
    "### Indices"
   ]
  },
  {
   "cell_type": "code",
   "execution_count": 119,
   "id": "466ef614",
   "metadata": {},
   "outputs": [
    {
     "name": "stdout",
     "output_type": "stream",
     "text": [
      "['Covington', 'New York', 'Arlington', 'Long Beach', 'Memphis', 'Chicago']\n",
      "['Covington', 'New York', 'Arlington', 'Long Beach', 'Memphis', 'Chicago', 'Atlanta', 'Boston', 'Buffalo', 'Cleveland', 'Davenport', 'Detroit', 'Grand Rapids', 'Greensboro', 'Kansas City', 'Baltimore', 'Milwaukee', 'Orlando', 'Pittsburgh', 'Portland', 'W Sacramento', 'W Chester', 'Albuquerque', 'Billings', 'Denver', 'El Paso', 'Camp Hill', 'Houston', 'Las Vegas', 'Minneapolis', 'New Orleans', 'Phoenix', 'Richmond', 'St Louis', 'Salt Lake City', 'San Antonio', 'Seattle', 'Spokane', 'San Francisco', 'Indianapolis', 'Louisville', 'Columbus', 'New York-', 'Hartford', 'Miami', 'Mobile']\n",
      "['WA', 'OR', 'CA', 'NV', 'AZ', 'ID', 'UT', 'MT', 'ND', 'WY', 'CO', 'SD', 'NE', 'KS', 'MN', 'IA', 'MO', 'NM', 'TX', 'OK', 'AR', 'LA', 'WI', 'IL', 'MI', 'IN', 'KY', 'OH', 'ME', 'NH', 'RI', 'NJ', 'NY', 'PA', 'CT', 'MA', 'VA', 'WV', 'MD', 'VT', 'DE', 'TN', 'MS', 'AL', 'GA', 'FL', 'SC', 'NC']\n"
     ]
    }
   ],
   "source": [
    "print(plants)\n",
    "print(warehouses)\n",
    "# NOTE: tem que ver se o \"New York-\" não vai dar bug quando permitirmos os potentials\n",
    "print(demand_centers)"
   ]
  },
  {
   "cell_type": "markdown",
   "id": "34721080",
   "metadata": {},
   "source": [
    "### Decision variables"
   ]
  },
  {
   "cell_type": "code",
   "execution_count": 120,
   "id": "c0647710",
   "metadata": {},
   "outputs": [],
   "source": [
    "# Se eu uso um armazém: Z[w] = 1\n",
    "Z = m.addVars(warehouses, vtype=GRB.BINARY, name=\"z\")\n",
    "\n",
    "# Quanto de volume mando de p para w\n",
    "X = m.addVars(plants, warehouses, vtype=GRB.CONTINUOUS, name=\"x\")\n",
    "\n",
    "# Quanto de volume mando de w para d\n",
    "Y = m.addVars(warehouses, demand_centers, vtype=GRB.CONTINUOUS, name=\"y\")\n",
    "\n",
    "# Se a gente expande (mi mi mi) uma planta ou não\n",
    "V = m.addVars(plants, vtype=GRB.BINARY, name=\"v\")"
   ]
  },
  {
   "cell_type": "markdown",
   "id": "8c028c86",
   "metadata": {},
   "source": [
    "## 4. Objective Function"
   ]
  },
  {
   "cell_type": "markdown",
   "id": "feeacd5c",
   "metadata": {},
   "source": [
    "### Define all the costs components"
   ]
  },
  {
   "cell_type": "code",
   "execution_count": 121,
   "id": "ff018f64",
   "metadata": {},
   "outputs": [],
   "source": [
    "# inbound transport (from plants to warehouses)\n",
    "# NOTE: coloquei esse if w != p porque nao ha custo de transporte para levar da planta para o seu próprio armazém\n",
    "inbound_transport_cost = gurobipy.quicksum(\n",
    "    c_in[p][w] * X[p, w] for p in plants for w in warehouses if w != p\n",
    ")"
   ]
  },
  {
   "cell_type": "code",
   "execution_count": 122,
   "id": "1c92b2c4",
   "metadata": {},
   "outputs": [],
   "source": [
    "# outbound transport (from warehouses to demand nodes)\n",
    "outbound_transport_cost = gurobipy.quicksum(\n",
    "    c_out[w.replace(\"-\", \"\")][d] * Y[w, d] for w in warehouses for d in demand_centers\n",
    ")"
   ]
  },
  {
   "cell_type": "code",
   "execution_count": 123,
   "id": "f1b5fab2",
   "metadata": {},
   "outputs": [],
   "source": [
    "# production cost\n",
    "production_costs = gurobipy.quicksum(\n",
    "    rho[p] * (X[p, w]) for p in plants for w in warehouses\n",
    ")"
   ]
  },
  {
   "cell_type": "code",
   "execution_count": 124,
   "id": "9fca0791",
   "metadata": {},
   "outputs": [
    {
     "name": "stdout",
     "output_type": "stream",
     "text": [
      "Set parameter NonConvex to value 2\n"
     ]
    }
   ],
   "source": [
    "# Storage cost in warehouses\n",
    "# Para cada armazém, calcula o custo de estocagem individualmente e soma todos\n",
    "\n",
    "m.Params.NonConvex = 2\n",
    "\n",
    "storage_pow = {}\n",
    "storage_costs = []\n",
    "\n",
    "for w in warehouses:\n",
    "    # total de saída do armazém w\n",
    "    totX_w = m.addVar(name=f\"totX_{w}\")\n",
    "\n",
    "    m.addConstr(\n",
    "        totX_w == gurobipy.quicksum(Y[w, d] for d in demand_centers),\n",
    "        name=f\"define_totX_{w}\",\n",
    "    )\n",
    "\n",
    "    # variável para totX_w^0.58\n",
    "    storage_pow[w] = m.addVar(name=f\"storage_pow_{w}\")\n",
    "\n",
    "    m.addGenConstrPow(totX_w, storage_pow[w], 0.58, name=f\"storage_pow_{w}\")\n",
    "\n",
    "    # custo de estocagem para o armazém w\n",
    "    storage_costs.append(26 * 11.3 * storage_pow[w] * tau[w])\n",
    "\n",
    "# soma total dos custos de estocagem\n",
    "storage_costs = gurobipy.quicksum(storage_costs)"
   ]
  },
  {
   "cell_type": "code",
   "execution_count": 125,
   "id": "88baef63",
   "metadata": {},
   "outputs": [],
   "source": [
    "# INVENTORY\n",
    "inventory_pow = {}\n",
    "inventory_costs = []\n",
    "\n",
    "for w in warehouses:\n",
    "    # total de saída do armazém w\n",
    "    totX_w = m.addVar(name=f\"totX_{w}\")\n",
    "\n",
    "    m.addConstr(\n",
    "        totX_w == gurobipy.quicksum(Y[w, d] for d in demand_centers),\n",
    "        name=f\"define_totX_{w}\",\n",
    "    )\n",
    "\n",
    "    # variável para totX_w^0.58\n",
    "    inventory_pow[w] = m.addVar(name=f\"inventory_pow_{w}\")\n",
    "\n",
    "    m.addGenConstrPow(totX_w, inventory_pow[w], 0.58, name=f\"inventory_pow_{w}\")\n",
    "\n",
    "    # custo de Inventory para o armazém w\n",
    "    inventory_costs.append(26 * 0.12 * 11.3 * inventory_pow[w])\n",
    "\n",
    "# soma total dos custos de estocagem\n",
    "inventory_costs = gurobipy.quicksum(inventory_costs)"
   ]
  },
  {
   "cell_type": "code",
   "execution_count": 126,
   "id": "ade54837",
   "metadata": {},
   "outputs": [],
   "source": [
    "# custo de handling nos armazéns\n",
    "handling_costs = gurobipy.quicksum(\n",
    "    2 * Z[w] * X[p, w] * epsilons[w] for p in plants for w in warehouses\n",
    ")"
   ]
  },
  {
   "cell_type": "code",
   "execution_count": 127,
   "id": "844c68e5",
   "metadata": {},
   "outputs": [],
   "source": [
    "# custo de processamento do pedido de estoque\n",
    "stock_order_processing_costs = gurobipy.quicksum(\n",
    "    Z[w] * X[p, w] * (gammas[w] / deltas[w]) for p in plants for w in warehouses\n",
    ")"
   ]
  },
  {
   "cell_type": "code",
   "execution_count": 128,
   "id": "6039e81c",
   "metadata": {},
   "outputs": [],
   "source": [
    "# custo de processamento do pedido do cliente\n",
    "customer_order_processing_costs = gurobipy.quicksum(\n",
    "    Z[w] * Y[w, d] * (phi[w] / omegas[w]) for w in warehouses for d in demand_centers\n",
    ")"
   ]
  },
  {
   "cell_type": "code",
   "execution_count": 129,
   "id": "21f69af4",
   "metadata": {},
   "outputs": [],
   "source": [
    "# Custo por abertura/expansão de fábricas\n",
    "expansion_costs = gurobipy.quicksum(V[p] * ADDITIONAL_CAPACITY_COST for p in plants)"
   ]
  },
  {
   "cell_type": "markdown",
   "id": "84efd89e",
   "metadata": {},
   "source": [
    "### Define the objective function"
   ]
  },
  {
   "cell_type": "code",
   "execution_count": 130,
   "id": "b16d62cc",
   "metadata": {},
   "outputs": [],
   "source": [
    "m.setObjective(\n",
    "    inbound_transport_cost\n",
    "    + outbound_transport_cost\n",
    "    + production_costs\n",
    "    + storage_costs\n",
    "    + inventory_costs\n",
    "    + handling_costs\n",
    "    + stock_order_processing_costs\n",
    "    + customer_order_processing_costs\n",
    "    + expansion_costs,\n",
    "    sense=GRB.MINIMIZE,\n",
    ")"
   ]
  },
  {
   "cell_type": "markdown",
   "id": "38970eb8",
   "metadata": {},
   "source": [
    "## Constraints"
   ]
  },
  {
   "cell_type": "markdown",
   "id": "43e7af18",
   "metadata": {},
   "source": [
    "### Service level"
   ]
  },
  {
   "cell_type": "code",
   "execution_count": 131,
   "id": "07679891",
   "metadata": {},
   "outputs": [
    {
     "data": {
      "text/plain": [
       "<gurobi.Constr *Awaiting Model Update*>"
      ]
     },
     "execution_count": 131,
     "metadata": {},
     "output_type": "execute_result"
    }
   ],
   "source": [
    "# Porcentagem de volume atendidos a uma distância menor que SERVICE_LEVEL_DISTANCE milhas\n",
    "\n",
    "service_level_30 = gurobipy.quicksum(\n",
    "    Y[w, d] / total_demand\n",
    "    for w in warehouses\n",
    "    for d in demand_centers\n",
    "    if d_wd[w.replace(\"-\", \"\")][d] <= 30\n",
    ")\n",
    "service_level_100 = gurobipy.quicksum(\n",
    "    Y[w, d] / total_demand\n",
    "    for w in warehouses\n",
    "    for d in demand_centers\n",
    "    if d_wd[w.replace(\"-\", \"\")][d] <= 100\n",
    ")\n",
    "service_level_300 = gurobipy.quicksum(\n",
    "    Y[w, d] / total_demand\n",
    "    for w in warehouses\n",
    "    for d in demand_centers\n",
    "    if d_wd[w.replace(\"-\", \"\")][d] <= 300\n",
    ")\n",
    "service_level_600 = gurobipy.quicksum(\n",
    "    Y[w, d] / total_demand\n",
    "    for w in warehouses\n",
    "    for d in demand_centers\n",
    "    if d_wd[w.replace(\"-\", \"\")][d] <= 600\n",
    ")\n",
    "service_level_1000 = gurobipy.quicksum(\n",
    "    Y[w, d] / total_demand\n",
    "    for w in warehouses\n",
    "    for d in demand_centers\n",
    "    if d_wd[w.replace(\"-\", \"\")][d] <= 1000\n",
    ")\n",
    "service_level_1500 = gurobipy.quicksum(\n",
    "    Y[w, d] / total_demand\n",
    "    for w in warehouses\n",
    "    for d in demand_centers\n",
    "    if d_wd[w.replace(\"-\", \"\")][d] <= 1500\n",
    ")\n",
    "\n",
    "# Constrains\n",
    "m.addConstr(\n",
    "    service_level_300 >= 93 / 100,\n",
    "    name=\"service_level\",\n",
    ")"
   ]
  },
  {
   "cell_type": "code",
   "execution_count": 132,
   "id": "2c3795b8",
   "metadata": {},
   "outputs": [],
   "source": [
    "# Distancias medianas de um armazém para os centros de demanda\n",
    "\n",
    "# for w in d_wd.keys():\n",
    "#     q1 = np.percentile(list(d_wd[w].values()), 95)\n",
    "#       print(f\"{w:>20} {q1:>7.2f}\")"
   ]
  },
  {
   "cell_type": "markdown",
   "id": "5ede9a83",
   "metadata": {},
   "source": [
    "### Demand"
   ]
  },
  {
   "cell_type": "code",
   "execution_count": 133,
   "id": "52a8bbf1",
   "metadata": {},
   "outputs": [],
   "source": [
    "# Demand satisfaction\n",
    "\n",
    "for d in demand_centers:\n",
    "    m.addConstr(\n",
    "        gurobipy.quicksum(Y[w, d] for w in warehouses) == S[d],\n",
    "        name=f\"demand_{d}\",\n",
    "    )"
   ]
  },
  {
   "cell_type": "markdown",
   "id": "15f1160d",
   "metadata": {},
   "source": [
    "### Production"
   ]
  },
  {
   "cell_type": "code",
   "execution_count": 134,
   "id": "f9f96e52",
   "metadata": {},
   "outputs": [],
   "source": [
    "# Plant production capacity\n",
    "\n",
    "for p in plants:\n",
    "    m.addConstr(\n",
    "        gurobipy.quicksum(X[p, w] for w in warehouses)\n",
    "        <= C[p] + V[p] * ADDITIONAL_CAPACITY,\n",
    "        name=f\"plantCap_{p}\",\n",
    "    )"
   ]
  },
  {
   "cell_type": "markdown",
   "id": "3195b3c6",
   "metadata": {},
   "source": [
    "### Capacity"
   ]
  },
  {
   "cell_type": "code",
   "execution_count": 135,
   "id": "0505374d",
   "metadata": {},
   "outputs": [],
   "source": [
    "# restrição dos 10400\n",
    "\n",
    "for w in warehouses:\n",
    "    # Um armazém só pode ser aberto se houver demanda de pelo menos 10_400 cwt\n",
    "    m.addConstr(\n",
    "        gurobipy.quicksum(Y[w, d] for d in demand_centers) >= 10_400 * Z[w],\n",
    "        name=f\"minThroughput_{w}\",\n",
    "    )"
   ]
  },
  {
   "cell_type": "code",
   "execution_count": 136,
   "id": "ba45baee",
   "metadata": {},
   "outputs": [],
   "source": [
    "# restrições de armazenagem de cada planta\n",
    "\n",
    "for p1 in plants:\n",
    "    m.addConstr(\n",
    "        gurobipy.quicksum(X[p2, p1] for p2 in plants) <= C_prime[p1],\n",
    "        name=f\"plantStorageCap_{p1}\",\n",
    "    )"
   ]
  },
  {
   "cell_type": "markdown",
   "id": "cfbddb51",
   "metadata": {},
   "source": [
    "### Flow balance"
   ]
  },
  {
   "cell_type": "code",
   "execution_count": 137,
   "id": "e206713e",
   "metadata": {},
   "outputs": [],
   "source": [
    "# Flow balance at each warehouse (está quebrando o código...)\n",
    "\n",
    "for w in warehouses:\n",
    "    # Tudo que entra no armazém deve ser igual a tudo que sai\n",
    "    m.addConstr(\n",
    "        gurobipy.quicksum(X[p, w] for p in plants)\n",
    "        == gurobipy.quicksum(Y[w, d] for d in demand_centers),\n",
    "        name=f\"flowBalance_{w}\",\n",
    "    )"
   ]
  },
  {
   "cell_type": "markdown",
   "id": "194bf684",
   "metadata": {},
   "source": [
    "### Flow conservation"
   ]
  },
  {
   "cell_type": "code",
   "execution_count": 138,
   "id": "f6515c14",
   "metadata": {},
   "outputs": [],
   "source": [
    "M = total_demand"
   ]
  },
  {
   "cell_type": "code",
   "execution_count": 139,
   "id": "384629f2",
   "metadata": {},
   "outputs": [],
   "source": [
    "# Restrições de Z (só posso usar um armazém se ele estiver aberto)\n",
    "for w in warehouses:\n",
    "    for p in plants:\n",
    "        # NOTE: the C[p] here is working as the big-M\n",
    "        m.addConstr(\n",
    "            X[p, w] <= M * Z[w],\n",
    "            name=f\"openWarehouse_{w},{p}\",\n",
    "        )\n",
    "    for d in demand_centers:\n",
    "        # NOTE: the S[d] here is working as the big-M\n",
    "        m.addConstr(\n",
    "            Y[w, d] <= M * Z[w],\n",
    "            name=f\"openWarehouse_{w},{d}\",\n",
    "        )"
   ]
  },
  {
   "cell_type": "markdown",
   "id": "295c838a",
   "metadata": {},
   "source": [
    "## Solver"
   ]
  },
  {
   "cell_type": "code",
   "execution_count": 140,
   "id": "83f70009",
   "metadata": {},
   "outputs": [
    {
     "name": "stdout",
     "output_type": "stream",
     "text": [
      "Warning: variable name \"z[New York]\" has a space\n",
      "Warning: constraint name \"define_totX_New York\" has a space\n",
      "Warning: general constraint name \"storage_pow_New York\" has a space\n",
      "Warning: to let Gurobi read it back, use rlp format\n"
     ]
    }
   ],
   "source": [
    "# NOTE: precisou ser o formato .rlp pois algumas variáveis têm espaço (deixei o lp só pra ficar legível)\n",
    "m.write(\"model-baseline-p3.rlp\")\n",
    "m.write(\"model-baseline-p3.lp\")"
   ]
  },
  {
   "cell_type": "code",
   "execution_count": 141,
   "id": "172a7261",
   "metadata": {},
   "outputs": [
    {
     "name": "stdout",
     "output_type": "stream",
     "text": [
      "Set parameter TimeLimit to value 600\n"
     ]
    }
   ],
   "source": [
    "m.params.TimeLimit = 600  # seconds"
   ]
  },
  {
   "cell_type": "code",
   "execution_count": 142,
   "id": "58c4c206",
   "metadata": {},
   "outputs": [
    {
     "name": "stdout",
     "output_type": "stream",
     "text": [
      "Gurobi Optimizer version 11.0.3 build v11.0.3rc0 (win64 - Windows 11+.0 (26100.2))\n",
      "\n",
      "CPU model: AMD Ryzen 7 7730U with Radeon Graphics, instruction set [SSE2|AVX|AVX2]\n",
      "Thread count: 8 physical cores, 16 logical processors, using up to 16 threads\n",
      "\n",
      "Presolve added 224 rows and 6946 columns\n",
      "Presolve time: 0.09s\n"
     ]
    },
    {
     "data": {
      "text/plain": [
       "<gurobi.Model MIP instance UsemoreWarehousing_pre: 5437 constrs, 12150 vars, Parameter changes: TimeLimit=600.0, Username=(user-defined), NonConvex=2>"
      ]
     },
     "execution_count": 142,
     "metadata": {},
     "output_type": "execute_result"
    }
   ],
   "source": [
    "m.presolve()"
   ]
  },
  {
   "cell_type": "code",
   "execution_count": 143,
   "id": "2dd56a49",
   "metadata": {},
   "outputs": [
    {
     "name": "stdout",
     "output_type": "stream",
     "text": [
      "Gurobi Optimizer version 11.0.3 build v11.0.3rc0 (win64 - Windows 11+.0 (26100.2))\n",
      "\n",
      "CPU model: AMD Ryzen 7 7730U with Radeon Graphics, instruction set [SSE2|AVX|AVX2]\n",
      "Thread count: 8 physical cores, 16 logical processors, using up to 16 threads\n",
      "\n",
      "Optimize a model with 2729 rows, 2720 columns and 16911 nonzeros\n",
      "Model fingerprint: 0x944c3821\n",
      "Model has 2484 quadratic objective terms\n",
      "Model has 92 general constraints\n",
      "Variable types: 2668 continuous, 52 integer (52 binary)\n",
      "Coefficient statistics:\n",
      "  Matrix range     [5e-07, 2e+06]\n",
      "  Objective range  [5e-01, 4e+06]\n",
      "  QObjective range [2e-01, 2e+01]\n",
      "  Bounds range     [1e+00, 1e+00]\n",
      "  RHS range        [9e-01, 2e+06]\n",
      "Warning: Model contains large matrix coefficient range\n",
      "         Consider reformulating model or setting NumericFocus parameter\n",
      "         to avoid numerical issues.\n",
      "Presolve added 224 rows and 6946 columns\n",
      "Presolve time: 0.08s\n",
      "Presolved: 5437 rows, 12150 columns, 38725 nonzeros\n",
      "Presolved model has 92 SOS constraint(s)\n",
      "Variable types: 12098 continuous, 52 integer (52 binary)\n",
      "\n",
      "Root relaxation: objective 5.555402e+07, 899 iterations, 0.05 seconds (0.02 work units)\n",
      "\n",
      "    Nodes    |    Current Node    |     Objective Bounds      |     Work\n",
      " Expl Unexpl |  Obj  Depth IntInf | Incumbent    BestBd   Gap | It/Node Time\n",
      "\n",
      "     0     0 5.5554e+07    0   51          - 5.5554e+07      -     -    0s\n",
      "     0     0 5.5554e+07    0   51          - 5.5554e+07      -     -    0s\n",
      "     0     0 5.5567e+07    0   51          - 5.5567e+07      -     -    0s\n",
      "     0     0 5.5581e+07    0   51          - 5.5581e+07      -     -    0s\n",
      "     0     0 5.5590e+07    0   51          - 5.5590e+07      -     -    0s\n",
      "     0     0 5.5595e+07    0   51          - 5.5595e+07      -     -    0s\n",
      "     0     0 5.5601e+07    0   51          - 5.5601e+07      -     -    0s\n",
      "     0     0 5.5607e+07    0   51          - 5.5607e+07      -     -    0s\n",
      "     0     0 5.5613e+07    0   51          - 5.5613e+07      -     -    0s\n",
      "     0     0 5.5616e+07    0   51          - 5.5616e+07      -     -    0s\n",
      "     0     0 5.5619e+07    0   51          - 5.5619e+07      -     -    0s\n",
      "     0     0 5.5728e+07    0   48          - 5.5728e+07      -     -    0s\n",
      "     0     0 5.5839e+07    0   55          - 5.5839e+07      -     -    0s\n",
      "     0     0 5.5846e+07    0   56          - 5.5846e+07      -     -    0s\n",
      "     0     0 5.5846e+07    0   61          - 5.5846e+07      -     -    0s\n",
      "     0     0 5.5846e+07    0   59          - 5.5846e+07      -     -    1s\n",
      "     0     0 5.5848e+07    0   59          - 5.5848e+07      -     -    1s\n",
      "     0     0 5.5848e+07    0   59          - 5.5848e+07      -     -    1s\n",
      "     0     0 5.5858e+07    0   61          - 5.5858e+07      -     -    1s\n",
      "     0     0 5.5858e+07    0   63          - 5.5858e+07      -     -    1s\n",
      "     0     0 5.5858e+07    0   64          - 5.5858e+07      -     -    1s\n",
      "     0     0 5.5858e+07    0   64          - 5.5858e+07      -     -    1s\n",
      "     0     0 5.5858e+07    0   64          - 5.5858e+07      -     -    1s\n",
      "     0     2 5.5858e+07    0   64          - 5.5858e+07      -     -    1s\n",
      "  2034  1401 5.9498e+07  137   31          - 5.7101e+07      -   5.7    5s\n",
      "H 2044   859                    5.977865e+07 5.7101e+07  4.48%   5.7    5s\n",
      "H 2120   587                    5.957057e+07 5.7101e+07  4.14%   5.6    5s\n",
      "H 2121   443                    5.923162e+07 5.7101e+07  3.60%   5.6    5s\n",
      "  2398   407 5.8772e+07   21 1153 5.9232e+07 5.8737e+07  0.84%   8.9   10s\n",
      "  3374   721 5.9033e+07   96  533 5.9232e+07 5.8742e+07  0.83%   9.5   15s\n",
      "  5561  2148 infeasible  207      5.9232e+07 5.8742e+07  0.83%   9.5   20s\n",
      "* 5856  2160             233    5.919539e+07 5.8742e+07  0.77%   9.4   20s\n",
      "H 6074  2076                    5.915725e+07 5.8742e+07  0.70%   9.4   20s\n",
      "H 6359  2190                    5.915558e+07 5.8744e+07  0.70%   9.3   21s\n",
      "H 6485  1961                    5.914301e+07 5.8744e+07  0.67%   9.3   21s\n",
      "* 6542  1778             271    5.912189e+07 5.8744e+07  0.64%   9.3   21s\n",
      "H 6804  1857                    5.911927e+07 5.8744e+07  0.63%   9.2   22s\n",
      "H 6994  1695                    5.910170e+07 5.8744e+07  0.61%   9.1   24s\n",
      "  7230  1976 5.9055e+07   39  762 5.9102e+07 5.8768e+07  0.57%   9.0   25s\n",
      " 10777  4299 5.8909e+07   29 1000 5.9102e+07 5.8819e+07  0.48%   8.6   30s\n",
      " 14529  6623 5.8955e+07   44  679 5.9102e+07 5.8843e+07  0.44%   8.7   35s\n",
      " 17864  8602 5.8979e+07   37  847 5.9102e+07 5.8855e+07  0.42%   8.6   40s\n",
      "H20239  9529                    5.909832e+07 5.8862e+07  0.40%   8.6   43s\n",
      " 21064 10666 5.8896e+07   37  871 5.9098e+07 5.8864e+07  0.40%   8.5   45s\n",
      "H22471 11111                    5.909830e+07 5.8869e+07  0.39%   8.5   46s\n",
      "H23903 12078                    5.909781e+07 5.8875e+07  0.38%   8.5   49s\n",
      " 24051 12704     cutoff  107      5.9098e+07 5.8875e+07  0.38%   8.5   50s\n",
      " 25989 13210 5.9089e+07   65  656 5.9098e+07 5.8878e+07  0.37%   8.4   56s\n",
      " 28084 15159 5.8980e+07   39  763 5.9098e+07 5.8884e+07  0.36%   8.4   60s\n",
      " 31415 17462     cutoff   62      5.9098e+07 5.8891e+07  0.35%   8.4   66s\n",
      " 34988 19070 5.8924e+07   46  889 5.9098e+07 5.8898e+07  0.34%   8.3   70s\n",
      " 37869 21067 5.8980e+07   32  685 5.9098e+07 5.8904e+07  0.33%   8.3   75s\n",
      " 41372 22745 5.8962e+07   56  640 5.9098e+07 5.8909e+07  0.32%   8.3   80s\n",
      " 44484 24727 5.8969e+07   30  838 5.9098e+07 5.8912e+07  0.31%   8.4   86s\n",
      " 47448 26176 5.9096e+07   63  635 5.9098e+07 5.8915e+07  0.31%   8.3   90s\n",
      " 50989 28291 5.9031e+07   34  799 5.9098e+07 5.8919e+07  0.30%   8.3   95s\n",
      " 54868 29971     cutoff   47      5.9098e+07 5.8922e+07  0.30%   8.3  101s\n",
      " 57146 31380     cutoff  101      5.9098e+07 5.8925e+07  0.29%   8.3  105s\n",
      " 59845 32940 5.9096e+07   45  546 5.9098e+07 5.8928e+07  0.29%   8.3  110s\n",
      " 63015 34341 5.9089e+07   93  275 5.9098e+07 5.8931e+07  0.28%   8.3  115s\n",
      " 65436 35755 5.9046e+07   63  565 5.9098e+07 5.8933e+07  0.28%   8.3  120s\n",
      " 69102 37679 5.9086e+07   58  330 5.9098e+07 5.8936e+07  0.27%   8.3  127s\n",
      " 71682 38894 5.9080e+07   68  617 5.9098e+07 5.8938e+07  0.27%   8.3  131s\n",
      " 74285 40080 5.9081e+07   76  498 5.9098e+07 5.8939e+07  0.27%   8.3  137s\n",
      " 75633 40913 5.9020e+07   62  526 5.9098e+07 5.8940e+07  0.27%   8.3  141s\n",
      "H77852 41224                    5.909781e+07 5.8942e+07  0.26%   8.3  144s\n",
      " 78044 41763 5.9041e+07   41  654 5.9098e+07 5.8942e+07  0.26%   8.3  146s\n",
      "H79258 42333                    5.909687e+07 5.8943e+07  0.26%   8.3  149s\n",
      " 80557 42718 5.9029e+07   37  650 5.9097e+07 5.8944e+07  0.26%   8.3  152s\n",
      " 82585 44052 5.9037e+07   50  593 5.9097e+07 5.8945e+07  0.26%   8.4  158s\n",
      " 84229 44528 5.9097e+07   61  297 5.9097e+07 5.8946e+07  0.25%   8.3  160s\n",
      " 86716 45785 5.9059e+07   35  795 5.9097e+07 5.8948e+07  0.25%   8.4  166s\n",
      " 89756 47099     cutoff   49      5.9097e+07 5.8950e+07  0.25%   8.4  173s\n",
      " 91323 47624     cutoff   42      5.9097e+07 5.8951e+07  0.25%   8.4  176s\n",
      " 94079 48959 5.9065e+07   73  605 5.9097e+07 5.8953e+07  0.24%   8.4  181s\n",
      " 95190 49719     cutoff   40      5.9097e+07 5.8954e+07  0.24%   8.4  185s\n",
      " 97704 50618     cutoff   41      5.9097e+07 5.8956e+07  0.24%   8.4  190s\n",
      " 100464 51861 5.8992e+07   52  890 5.9097e+07 5.8957e+07  0.24%   8.4  196s\n",
      " 103070 52813 5.9092e+07   57  480 5.9097e+07 5.8959e+07  0.23%   8.4  202s\n",
      " 104085 53416     cutoff   66      5.9097e+07 5.8959e+07  0.23%   8.4  206s\n",
      " 105581 53882 5.9024e+07   64  427 5.9097e+07 5.8960e+07  0.23%   8.4  210s\n",
      " 108217 54935     cutoff   48      5.9097e+07 5.8962e+07  0.23%   8.5  216s\n",
      " 110934 56072 5.9093e+07   72  375 5.9097e+07 5.8964e+07  0.23%   8.5  223s\n",
      " 112516 56467     cutoff   51      5.9097e+07 5.8965e+07  0.22%   8.5  226s\n",
      " 113663 57181     cutoff   53      5.9097e+07 5.8965e+07  0.22%   8.5  230s\n",
      " 116348 58468 5.9048e+07   74  500 5.9097e+07 5.8966e+07  0.22%   8.5  237s\n",
      " 118000 58974 5.9047e+07   66  493 5.9097e+07 5.8967e+07  0.22%   8.5  240s\n",
      " 120542 60194 5.9079e+07   55  500 5.9097e+07 5.8968e+07  0.22%   8.5  247s\n",
      " 121772 60698     cutoff   31      5.9097e+07 5.8969e+07  0.22%   8.5  251s\n",
      " 122840 61279 5.9086e+07   74  541 5.9097e+07 5.8969e+07  0.22%   8.5  255s\n",
      " 124427 62150 5.9070e+07   69  386 5.9097e+07 5.8970e+07  0.21%   8.5  260s\n",
      " 126378 62269 5.8988e+07   52  534 5.9097e+07 5.8971e+07  0.21%   8.5  266s\n",
      " 126701 62801     cutoff   47      5.9097e+07 5.8971e+07  0.21%   8.5  270s\n",
      " 129560 64224 5.8994e+07   57  663 5.9097e+07 5.8972e+07  0.21%   8.6  279s\n",
      " 131411 64782 5.9051e+07   49  634 5.9097e+07 5.8973e+07  0.21%   8.5  283s\n",
      " 132752 65432 5.9010e+07   51  682 5.9097e+07 5.8974e+07  0.21%   8.6  288s\n",
      " 134305 65894 5.9048e+07   27 1044 5.9097e+07 5.8974e+07  0.21%   8.6  292s\n",
      " 135581 66524     cutoff   46      5.9097e+07 5.8975e+07  0.21%   8.6  298s\n",
      " 137275 66983     cutoff   81      5.9097e+07 5.8975e+07  0.21%   8.6  301s\n",
      " 138328 67417 5.9019e+07   72  654 5.9097e+07 5.8976e+07  0.20%   8.6  305s\n",
      " 140784 68344 5.9048e+07   47  527 5.9097e+07 5.8977e+07  0.20%   8.6  312s\n",
      " 141863 68914 5.9056e+07   49  639 5.9097e+07 5.8977e+07  0.20%   8.6  318s\n",
      " 143448 69360 5.9072e+07   77  543 5.9097e+07 5.8978e+07  0.20%   8.6  322s\n",
      " 144612 70188 5.9093e+07   52  355 5.9097e+07 5.8978e+07  0.20%   8.6  327s\n",
      " 146141 70737 5.9086e+07   83  271 5.9097e+07 5.8979e+07  0.20%   8.6  331s\n",
      " 147311 71409     cutoff   72      5.9097e+07 5.8979e+07  0.20%   8.6  336s\n",
      " 148758 71854 5.9081e+07   50  649 5.9097e+07 5.8980e+07  0.20%   8.6  340s\n",
      " 151038 72842 5.9009e+07   52  543 5.9097e+07 5.8981e+07  0.20%   8.6  350s\n",
      " 153723 73749 5.9046e+07   47  608 5.9097e+07 5.8982e+07  0.19%   8.6  359s\n",
      " 154995 74151 5.9083e+07   58  539 5.9097e+07 5.8982e+07  0.19%   8.6  363s\n",
      " 156088 74739 5.9073e+07   57  473 5.9097e+07 5.8983e+07  0.19%   8.7  369s\n",
      " 157577 75124     cutoff   48      5.9097e+07 5.8983e+07  0.19%   8.6  375s\n",
      " 158692 75612 5.9021e+07   52  476 5.9097e+07 5.8984e+07  0.19%   8.7  380s\n",
      " 159862 76158 5.9049e+07   74  518 5.9097e+07 5.8984e+07  0.19%   8.7  386s\n",
      " 161455 76571 5.9065e+07   58  612 5.9097e+07 5.8985e+07  0.19%   8.7  390s\n",
      " 163939 77645 5.9066e+07   54  539 5.9097e+07 5.8986e+07  0.19%   8.7  398s\n",
      " 165111 78219 5.9041e+07   69  567 5.9097e+07 5.8986e+07  0.19%   8.7  403s\n",
      " 166620 78643 5.9073e+07   45  511 5.9097e+07 5.8986e+07  0.19%   8.7  408s\n",
      " 167899 79081 5.9085e+07   60  502 5.9097e+07 5.8987e+07  0.19%   8.7  412s\n",
      " 169053 79681     cutoff   34      5.9097e+07 5.8987e+07  0.19%   8.7  418s\n",
      " 170874 80174 5.9038e+07   76  571 5.9097e+07 5.8988e+07  0.18%   8.7  422s\n",
      " 172063 80777 infeasible   74      5.9097e+07 5.8988e+07  0.18%   8.7  427s\n",
      " 173543 81189     cutoff   40      5.9097e+07 5.8989e+07  0.18%   8.7  431s\n",
      " 174701 81677 5.9088e+07   50  545 5.9097e+07 5.8989e+07  0.18%   8.7  435s\n",
      " 177462 82753 5.9020e+07   55  534 5.9097e+07 5.8990e+07  0.18%   8.7  443s\n",
      " 178676 83329     cutoff   89      5.9097e+07 5.8991e+07  0.18%   8.7  449s\n",
      " 180198 83704 5.9085e+07   65  403 5.9097e+07 5.8991e+07  0.18%   8.7  453s\n",
      " 181206 83703 infeasible   72      5.9097e+07 5.8991e+07  0.18%   8.7  600s\n",
      "\n",
      "Cutting planes:\n",
      "  MIR: 1\n",
      "  Flow cover: 8\n",
      "  Flow path: 10\n",
      "\n",
      "Explored 181207 nodes (1582003 simplex iterations) in 600.52 seconds (142.80 work units)\n",
      "Thread count was 16 (of 16 available processors)\n",
      "\n",
      "Solution count 10: 5.90969e+07 5.90978e+07 5.90983e+07 ... 5.91573e+07\n",
      "\n",
      "Time limit reached\n",
      "Warning: max constraint violation (1.1059e+00) exceeds tolerance\n",
      "Warning: max general constraint violation (1.1059e+00) exceeds tolerance\n",
      "  Piecewise linearization of function constraints often causes big violation.\n",
      "  Try to adjust the settings of the related parameters, such as FuncPieces.\n",
      "Best objective 5.909687290280e+07, best bound 5.899146665767e+07, gap 0.1784%\n"
     ]
    }
   ],
   "source": [
    "m.optimize()"
   ]
  },
  {
   "cell_type": "code",
   "execution_count": 144,
   "id": "67930de6",
   "metadata": {},
   "outputs": [
    {
     "name": "stdout",
     "output_type": "stream",
     "text": [
      "\n",
      "Statistics for model UsemoreWarehousing:\n",
      "  Linear constraint matrix    : 2729 Constrs, 2720 Vars, 16911 NZs\n",
      "  Variable types              : 2668 Continuous,\n",
      "52 Integer (52 Binary)\n",
      "  General constraints         : 92 Constrs\n",
      "  Matrix coefficient range    : [ 5.35291e-07, 1.86814e+06 ]\n",
      "  Objective coefficient range : [ 0.5, 4e+06 ]\n",
      "  Variable bound range        : [ 1, 1 ]\n",
      "  RHS coefficient range       : [ 0.93, 1.86814e+06 ]\n"
     ]
    }
   ],
   "source": [
    "m.printStats()"
   ]
  },
  {
   "cell_type": "code",
   "execution_count": 145,
   "id": "7197a372",
   "metadata": {},
   "outputs": [
    {
     "name": "stdout",
     "output_type": "stream",
     "text": [
      "\n",
      "Solution quality statistics for model UsemoreWarehousing :\n",
      "  Maximum violation:\n",
      "    Bound       : 0.00000000e+00\n",
      "    Constraint  : 1.10591024e+00 (storage_pow_Long Beach)\n",
      "    Integrality : 0.00000000e+00\n"
     ]
    }
   ],
   "source": [
    "m.printQuality()"
   ]
  },
  {
   "cell_type": "markdown",
   "id": "afde0f08",
   "metadata": {},
   "source": [
    "## Visualize results"
   ]
  },
  {
   "cell_type": "markdown",
   "id": "e852cd0e",
   "metadata": {},
   "source": [
    "### Costs"
   ]
  },
  {
   "cell_type": "code",
   "execution_count": 146,
   "id": "711eb929",
   "metadata": {},
   "outputs": [
    {
     "name": "stdout",
     "output_type": "stream",
     "text": [
      "Objective function final value: $59,096,872.90\n"
     ]
    }
   ],
   "source": [
    "# Print the solution objective value\n",
    "print(f\"Objective function final value: ${m.objVal:,.2f}\")"
   ]
  },
  {
   "cell_type": "code",
   "execution_count": 147,
   "id": "d0821ff4",
   "metadata": {},
   "outputs": [
    {
     "name": "stdout",
     "output_type": "stream",
     "text": [
      "\n",
      "=================================================================\n",
      "                         COST BREAKDOWN                          \n",
      "=================================================================\n",
      "Cost Component                         Amount ($)   Percentage\n",
      "-----------------------------------------------------------------\n",
      "Inbound transport cost           $     1,614,316.81        2.73%\n",
      "Outbound transport cost          $    10,898,159.21       18.44%\n",
      "Production costs                 $    38,889,492.30       65.81%\n",
      "Storage costs                    $       402,536.43        0.68%\n",
      "Handling costs                   $     2,351,635.66        3.98%\n",
      "Stock order processing costs     $        89,155.71        0.15%\n",
      "Customer order processing costs  $       398,415.53        0.67%\n",
      "Inventory Carrying Costs         $       453,161.24        0.77%\n",
      "Expansion costs                  $     4,000,000.00        6.77%\n",
      "-----------------------------------------------------------------\n",
      "TOTAL COST                       $    59,096,872.90      100.00%\n",
      "=================================================================\n"
     ]
    }
   ],
   "source": [
    "def display_cost_components():\n",
    "    \"\"\"Calculate and display all cost components\"\"\"\n",
    "\n",
    "    # Get cost values from the model\n",
    "    costs = {\n",
    "        \"Inbound transport cost\": inbound_transport_cost.getValue(),\n",
    "        \"Outbound transport cost\": outbound_transport_cost.getValue(),\n",
    "        \"Production costs\": production_costs.getValue(),\n",
    "        \"Storage costs\": storage_costs.getValue(),\n",
    "        \"Handling costs\": handling_costs.getValue(),\n",
    "        \"Stock order processing costs\": stock_order_processing_costs.getValue(),\n",
    "        \"Customer order processing costs\": customer_order_processing_costs.getValue(),\n",
    "        \"Inventory Carrying Costs\": inventory_costs.getValue(),\n",
    "        \"Expansion costs\": expansion_costs.getValue(),\n",
    "    }\n",
    "\n",
    "    # Calculate total cost\n",
    "    total = sum(costs.values())\n",
    "\n",
    "    # Print the cost components in a formatted table\n",
    "    print(\"\\n\" + \"=\" * 65)\n",
    "    print(f\"{'COST BREAKDOWN':^65}\")\n",
    "    print(\"=\" * 65)\n",
    "    print(f\"{'Cost Component':<30} {'Amount ($)':>18} {'Percentage':>12}\")\n",
    "    print(\"-\" * 65)\n",
    "\n",
    "    try:\n",
    "        for name, value in costs.items():\n",
    "            percentage = (value / total) * 100\n",
    "            print(f\"{name:<32} ${value:>17,.2f} {percentage:>11.2f}%\")\n",
    "    except ZeroDivisionError:\n",
    "        pass\n",
    "\n",
    "    print(\"-\" * 65)\n",
    "    print(f\"{'TOTAL COST':<32} ${total:>17,.2f} {100:>11.2f}%\")\n",
    "    print(\"=\" * 65)\n",
    "\n",
    "\n",
    "# Call the function to display costs\n",
    "display_cost_components()\n",
    "\n",
    "# 43,295,679.23\n",
    "\n",
    "# Distancia (x) | Nivel de servico (y) | custo total (z)"
   ]
  },
  {
   "cell_type": "markdown",
   "id": "5898928a",
   "metadata": {},
   "source": [
    "### Locations"
   ]
  },
  {
   "cell_type": "code",
   "execution_count": 148,
   "id": "9c435c29",
   "metadata": {},
   "outputs": [
    {
     "name": "stdout",
     "output_type": "stream",
     "text": [
      "Number of open warehouses 🏭: 19 \n",
      "Number of closed warehouses 🔒: 27 \n",
      "Percentage of warehouses open: 41.3% 📊\n",
      "\n",
      "------------------ Warehouse openings ------------------\n",
      " Open warehouse at       Covington (397805.09 cwt)\n",
      " Open warehouse at        New York (325066.80 cwt)\n",
      " Open warehouse at       Arlington (136018.77 cwt)\n",
      " Open warehouse at      Long Beach (180000.00 cwt)\n",
      " Open warehouse at         Memphis ( 27693.75 cwt)\n",
      " Open warehouse at         Chicago (277437.40 cwt)\n",
      " Open warehouse at         Atlanta ( 74057.30 cwt)\n",
      " Open warehouse at          Boston ( 44504.40 cwt)\n",
      " Open warehouse at       Davenport ( 54615.01 cwt)\n",
      " Open warehouse at     Kansas City ( 17169.60 cwt)\n",
      " Open warehouse at         Orlando ( 67287.25 cwt)\n",
      " Open warehouse at        Portland ( 84920.58 cwt)\n",
      " Open warehouse at        Billings ( 10400.00 cwt)\n",
      " Open warehouse at          Denver ( 13376.40 cwt)\n",
      " Open warehouse at       Camp Hill ( 99330.00 cwt)\n",
      " Open warehouse at       Las Vegas ( 25025.85 cwt)\n",
      " Open warehouse at     Minneapolis ( 10400.00 cwt)\n",
      " Open warehouse at         Phoenix ( 12235.05 cwt)\n",
      " Open warehouse at  Salt Lake City ( 10801.20 cwt)\n",
      "\n",
      "------------------ Warehouse closings ------------------\n",
      " Closed warehouse at       Buffalo (     0.00 cwt)\n",
      " Closed warehouse at     Cleveland (     0.00 cwt)\n",
      " Closed warehouse at       Detroit (     0.00 cwt)\n",
      " Closed warehouse at  Grand Rapids (     0.00 cwt)\n",
      " Closed warehouse at    Greensboro (     0.00 cwt)\n",
      " Closed warehouse at     Baltimore (     0.00 cwt)\n",
      " Closed warehouse at     Milwaukee (     0.00 cwt)\n",
      " Closed warehouse at    Pittsburgh (     0.00 cwt)\n",
      " Closed warehouse at  W Sacramento (     0.00 cwt)\n",
      " Closed warehouse at     W Chester (     0.00 cwt)\n",
      " Closed warehouse at   Albuquerque (     0.00 cwt)\n",
      " Closed warehouse at       El Paso (     0.00 cwt)\n",
      " Closed warehouse at       Houston (     0.00 cwt)\n",
      " Closed warehouse at   New Orleans (     0.00 cwt)\n",
      " Closed warehouse at      Richmond (     0.00 cwt)\n",
      " Closed warehouse at      St Louis (     0.00 cwt)\n",
      " Closed warehouse at   San Antonio (     0.00 cwt)\n",
      " Closed warehouse at       Seattle (     0.00 cwt)\n",
      " Closed warehouse at       Spokane (     0.00 cwt)\n",
      " Closed warehouse at San Francisco (     0.00 cwt)\n",
      " Closed warehouse at  Indianapolis (     0.00 cwt)\n",
      " Closed warehouse at    Louisville (     0.00 cwt)\n",
      " Closed warehouse at      Columbus (     0.00 cwt)\n",
      " Closed warehouse at     New York- (     0.00 cwt)\n",
      " Closed warehouse at      Hartford (     0.00 cwt)\n",
      " Closed warehouse at         Miami (     0.00 cwt)\n",
      " Closed warehouse at        Mobile (     0.00 cwt)\n"
     ]
    }
   ],
   "source": [
    "open_w = [w for w in warehouses if Z[w].X > 0.1]\n",
    "closed_w = [w for w in warehouses if Z[w].X < 0.1]\n",
    "\n",
    "print(f\"Number of open warehouses 🏭: {len(open_w)} \")\n",
    "print(f\"Number of closed warehouses 🔒: {len(closed_w)} \")\n",
    "\n",
    "# Calculate percentage of open warehouses\n",
    "percentage_open = (len(open_w) / len(warehouses)) * 100\n",
    "print(f\"Percentage of warehouses open: {percentage_open:.1f}% 📊\")\n",
    "\n",
    "\n",
    "print(\"\\n------------------ Warehouse openings ------------------\")\n",
    "for w in open_w:\n",
    "    volume = X.sum(\"*\", w).getValue()\n",
    "    print(f\" Open warehouse at {w:>15} ({volume:>9.2f} cwt)\")\n",
    "\n",
    "if len(closed_w) > 0:\n",
    "    print(\"\\n------------------ Warehouse closings ------------------\")\n",
    "    for w in closed_w:\n",
    "        volume = X.sum(\"*\", w).getValue()\n",
    "        print(f\" Closed warehouse at {w:>13} ({volume:>9.2f} cwt)\")"
   ]
  },
  {
   "cell_type": "markdown",
   "id": "17322c4d",
   "metadata": {},
   "source": [
    "### Service level results"
   ]
  },
  {
   "cell_type": "code",
   "execution_count": 149,
   "id": "bc12b20e",
   "metadata": {},
   "outputs": [
    {
     "name": "stdout",
     "output_type": "stream",
     "text": [
      "============================================================\n",
      "                    Service Level Curve                     \n",
      "============================================================\n",
      "Distance (miles)                       Service Level (%)\n",
      "------------------------------------------------------------\n",
      "                  30                      8.30\n",
      "                 100                     36.50\n",
      "                 300                     93.00\n",
      "                 600                     98.93\n",
      "                1000                     99.64\n",
      "                1500                     99.64\n"
     ]
    }
   ],
   "source": [
    "# Calculate and print cumulative service level curve\n",
    "\n",
    "service_levels = [\n",
    "    (30, service_level_30.getValue()),\n",
    "    (100, service_level_100.getValue()),\n",
    "    (300, service_level_300.getValue()),\n",
    "    (600, service_level_600.getValue()),\n",
    "    (1000, service_level_1000.getValue()),\n",
    "    (1500, service_level_1500.getValue()),\n",
    "]\n",
    "\n",
    "print(\"=\" * 60)\n",
    "print(f\"{'Service Level Curve':^60}\")\n",
    "print(\"=\" * 60)\n",
    "print(f\"{'Distance (miles)':<20} {'Service Level (%)':>35}\")\n",
    "print(\"-\" * 60)\n",
    "for dist, level in service_levels:\n",
    "    print(f\"{dist:>20} {100 * level:25.2f}\")\n",
    "# print(\"-\" * 60)"
   ]
  },
  {
   "cell_type": "code",
   "execution_count": 150,
   "id": "5370736b",
   "metadata": {},
   "outputs": [
    {
     "data": {
      "image/png": "[encoded data removed]",
      "text/plain": [
       "<Figure size 600x300 with 1 Axes>"
      ]
     },
     "metadata": {},
     "output_type": "display_data"
    }
   ],
   "source": [
    "# Optionally, plot the cumulative curve if matplotlib is available\n",
    "\n",
    "distances = [d for d, _ in service_levels]\n",
    "levels = [100 * sl for _, sl in service_levels]\n",
    "\n",
    "plt.figure(figsize=(6, 3))\n",
    "plt.plot(distances, levels, marker=\"o\", linestyle=\"-\", color=\"royalblue\")\n",
    "plt.title(\"Cumulative Service Level Curve\")\n",
    "plt.xlabel(\"Distance (miles)\")\n",
    "plt.ylabel(\"Cumulative Service Level (%)\")\n",
    "plt.grid(True, linestyle=\"--\", alpha=0.6)\n",
    "plt.ylim(0, 105)\n",
    "plt.xlim(0, max(distances) + 50)\n",
    "plt.tight_layout()\n",
    "plt.show()"
   ]
  },
  {
   "cell_type": "code",
   "execution_count": 151,
   "id": "a33151a2",
   "metadata": {},
   "outputs": [],
   "source": [
    "# TODO: Salvar os open warehouses em um arquivo\n"
   ]
  },
  {
   "cell_type": "markdown",
   "id": "954322d2",
   "metadata": {},
   "source": [
    "### Production"
   ]
  },
  {
   "cell_type": "code",
   "execution_count": null,
   "id": "e49c5648",
   "metadata": {},
   "outputs": [
    {
     "name": "stdout",
     "output_type": "stream",
     "text": [
      "\n",
      "------------------ Plant production ----------------------\n",
      " Plant       Covington production: 605,744.59 cwt (32.4%)\n",
      " Plant        New York production: 430,000.00 cwt (23.0%)\n",
      " Plant       Arlington production: 172,431.42 cwt ( 9.2%)\n",
      " Plant      Long Beach production: 280,000.00 cwt (15.0%)\n",
      " Plant         Memphis production: 0.00 cwt ( 0.0%)\n",
      " Plant         Chicago production: 379,968.44 cwt (20.3%)\n",
      "----------------------------------------------------------\n",
      "Total production: 1,868,144.45 cwt\n"
     ]
    }
   ],
   "source": [
    "plant_production = {}\n",
    "\n",
    "for p in plants:\n",
    "    plant_production[p] = sum(X[p, w].X for w in warehouses if Z[w].X > 0.1)\n",
    "\n",
    "print(\"\\n------------------ Plant production ----------------------\")\n",
    "total_production = sum(plant_production.values())\n",
    "for p in plants:\n",
    "    percentage = (plant_production[p] / total_production) * 100\n",
    "    print(\n",
    "        f\" Plant {p:>15} production: {plant_production[p]:,.2f} cwt \"\n",
    "        f\"({percentage:>4.1f}%)\"\n",
    "    )\n",
    "print(\"----------------------------------------------------------\")\n",
    "print(f\"Total production: {total_production:,.2f} cwt\")"
   ]
  },
  {
   "cell_type": "code",
   "execution_count": 156,
   "id": "111c23f4",
   "metadata": {},
   "outputs": [
    {
     "name": "stdout",
     "output_type": "stream",
     "text": [
      "Plant       Covington production: 0.00 cwt\n",
      "Plant        New York production: 0.00 cwt\n",
      "Plant       Arlington production: 0.00 cwt\n",
      "Plant      Long Beach production: 0.00 cwt\n",
      "Plant         Memphis production: 0.00 cwt\n",
      "Plant         Chicago production: 1.00 cwt\n"
     ]
    }
   ],
   "source": [
    "for p in plants:\n",
    "    print(f\"Plant {p:>15} production: {V[p].X:,.2f} cwt\")"
   ]
  },
  {
   "cell_type": "markdown",
   "id": "0a03ed66",
   "metadata": {},
   "source": [
    "### Flows"
   ]
  },
  {
   "cell_type": "code",
   "execution_count": 153,
   "id": "77b025c7",
   "metadata": {},
   "outputs": [
    {
     "name": "stdout",
     "output_type": "stream",
     "text": [
      "\n",
      "---------- Plant → Warehouse flows -------------\n",
      "       Covington → Covington       = 397805 cwt\n",
      "       Covington → Memphis         =  27694 cwt\n",
      "       Covington → Atlanta         =  74057 cwt\n",
      "       Covington → Orlando         =  67287 cwt\n",
      "       Covington → Camp Hill       =  38901 cwt\n",
      "        New York → New York        = 325067 cwt\n",
      "        New York → Boston          =  44504 cwt\n",
      "        New York → Camp Hill       =  60429 cwt\n",
      "       Arlington → Arlington       = 136019 cwt\n",
      "       Arlington → Denver          =  13376 cwt\n",
      "       Arlington → Phoenix         =  12235 cwt\n",
      "       Arlington → Salt Lake City  =  10801 cwt\n",
      "      Long Beach → Long Beach      = 180000 cwt\n",
      "      Long Beach → Portland        =  74974 cwt\n",
      "      Long Beach → Las Vegas       =  25026 cwt\n",
      "         Chicago → Chicago         = 277437 cwt\n",
      "         Chicago → Davenport       =  54615 cwt\n",
      "         Chicago → Kansas City     =  17170 cwt\n",
      "         Chicago → Portland        =   9946 cwt\n",
      "         Chicago → Billings        =  10400 cwt\n",
      "         Chicago → Minneapolis     =  10400 cwt\n"
     ]
    }
   ],
   "source": [
    "print(\"\\n---------- Plant → Warehouse flows -------------\")\n",
    "for p, w in X.keys():\n",
    "    if X[p, w].X > 1e-6:\n",
    "        print(f\" {p:>15} → {w:<15} = {X[p, w].X:>6.0f} cwt\")"
   ]
  },
  {
   "cell_type": "code",
   "execution_count": 154,
   "id": "06f4069b",
   "metadata": {},
   "outputs": [
    {
     "name": "stdout",
     "output_type": "stream",
     "text": [
      "\n",
      "------- Warehouse → Demand flows ---\n",
      "        Covington → MO:  30371 cwt\n",
      "        Covington → IN:  54992 cwt\n",
      "        Covington → KY:   4838 cwt\n",
      "        Covington → OH: 193904 cwt\n",
      "        Covington → WV:  11002 cwt\n",
      "        Covington → TN:  61595 cwt\n",
      "        Covington → NC:  41105 cwt\n",
      "         New York → ME:  18995 cwt\n",
      "         New York → NH:   5455 cwt\n",
      "         New York → RI:  20400 cwt\n",
      "         New York → NJ:  25385 cwt\n",
      "         New York → NY: 193100 cwt\n",
      "         New York → CT:  31424 cwt\n",
      "         New York → MD:  23141 cwt\n",
      "         New York → VT:   3514 cwt\n",
      "         New York → DE:   3653 cwt\n",
      "        Arlington → ID:   6641 cwt\n",
      "        Arlington → NM:   4066 cwt\n",
      "        Arlington → TX:  92504 cwt\n",
      "        Arlington → OK:  15545 cwt\n",
      "        Arlington → LA:  17263 cwt\n",
      "       Long Beach → CA: 180000 cwt\n",
      "          Memphis → AR:   5646 cwt\n",
      "          Memphis → MS:  22047 cwt\n",
      "          Chicago → ND:   6844 cwt\n",
      "          Chicago → SD:   1259 cwt\n",
      "          Chicago → WI:  46810 cwt\n",
      "          Chicago → IL:  91049 cwt\n",
      "          Chicago → MI: 131476 cwt\n",
      "          Atlanta → AL:  22961 cwt\n",
      "          Atlanta → GA:  42861 cwt\n",
      "          Atlanta → SC:   8236 cwt\n",
      "           Boston → MA:  44504 cwt\n",
      "        Davenport → IA:  34970 cwt\n",
      "        Davenport → MO:  19645 cwt\n",
      "      Kansas City → NE:   8816 cwt\n",
      "      Kansas City → KS:   8353 cwt\n",
      "          Orlando → FL:  67287 cwt\n",
      "         Portland → WA:  42578 cwt\n",
      "         Portland → OR:  42343 cwt\n",
      "         Billings → WA:   1212 cwt\n",
      "         Billings → ID:   3015 cwt\n",
      "         Billings → MT:   4968 cwt\n",
      "         Billings → WY:   1205 cwt\n",
      "           Denver → CO:  13376 cwt\n",
      "        Camp Hill → PA:  78130 cwt\n",
      "        Camp Hill → VA:  21200 cwt\n",
      "        Las Vegas → CA:   2407 cwt\n",
      "        Las Vegas → NV:  22619 cwt\n",
      "      Minneapolis → MN:   6760 cwt\n",
      "      Minneapolis → IA:   3640 cwt\n",
      "          Phoenix → AZ:  12235 cwt\n",
      "   Salt Lake City → UT:  10801 cwt\n"
     ]
    }
   ],
   "source": [
    "print(\"\\n------- Warehouse → Demand flows ---\")\n",
    "for w, j in Y.keys():\n",
    "    if Y[w, j].X > 1e-6:\n",
    "        print(f\" {w:>16} → {j}: {Y[w, j].X:>6.0f} cwt\")"
   ]
  }
 ],
 "metadata": {
  "kernelspec": {
   "display_name": ".venv",
   "language": "python",
   "name": "python3"
  },
  "language_info": {
   "codemirror_mode": {
    "name": "ipython",
    "version": 3
   },
   "file_extension": ".py",
   "mimetype": "text/x-python",
   "name": "python",
   "nbconvert_exporter": "python",
   "pygments_lexer": "ipython3",
   "version": "3.11.0"
  }
 },
 "nbformat": 4,
 "nbformat_minor": 5
}
