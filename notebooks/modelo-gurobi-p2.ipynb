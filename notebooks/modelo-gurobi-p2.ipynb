{
 "cells": [
  {
   "cell_type": "markdown",
   "id": "71f38f09",
   "metadata": {},
   "source": [
    "# Usermore soap case study\n",
    "\n",
    "Guilherme Fernandes e Lauro Solia"
   ]
  },
  {
   "cell_type": "code",
   "execution_count": 1,
   "id": "471bf414",
   "metadata": {},
   "outputs": [],
   "source": [
    "from pprint import pprint\n",
    "\n",
    "import gurobipy\n",
    "from gurobipy import Model, GRB\n",
    "import matplotlib.pyplot as plt\n",
    "import numpy as np\n",
    "import pandas as pd"
   ]
  },
  {
   "cell_type": "markdown",
   "id": "c5b0ef47",
   "metadata": {},
   "source": [
    "## 1. Defining the sets"
   ]
  },
  {
   "cell_type": "code",
   "execution_count": 2,
   "id": "895a366f",
   "metadata": {},
   "outputs": [],
   "source": [
    "plants = [\n",
    "    \"Covington\",\n",
    "    \"New York\",\n",
    "    \"Arlington\",\n",
    "    \"Long Beach\",\n",
    "]\n",
    "\n",
    "existing_warehouses = [\n",
    "    \"Atlanta\",\n",
    "    \"Boston\",\n",
    "    \"Buffalo\",\n",
    "    \"Chicago\",\n",
    "    \"Cleveland\",\n",
    "    \"Davenport\",\n",
    "    \"Detroit\",\n",
    "    \"Grand Rapids\",\n",
    "    \"Greensboro\",\n",
    "    \"Kansas City\",\n",
    "    \"Baltimore\",\n",
    "    \"Memphis\",\n",
    "    \"Milwaukee\",\n",
    "    \"Orlando\",\n",
    "    \"Pittsburgh\",\n",
    "    \"Portland\",\n",
    "    \"W Sacramento\",\n",
    "    \"W Chester\",\n",
    "]\n",
    "\n",
    "potential_warehouses = [\n",
    "    \"Albuquerque\",\n",
    "    \"Billings\",\n",
    "    \"Denver\",\n",
    "    \"El Paso\",\n",
    "    \"Camp Hill\",\n",
    "    \"Houston\",\n",
    "    \"Las Vegas\",\n",
    "    \"Minneapolis\",\n",
    "    \"New Orleans\",\n",
    "    \"Phoenix\",\n",
    "    \"Richmond\",\n",
    "    \"St Louis\",\n",
    "    \"Salt Lake City\",\n",
    "    \"San Antonio\",\n",
    "    \"Seattle\",\n",
    "    \"Spokane\",\n",
    "    \"San Francisco\",\n",
    "    \"Indianapolis\",\n",
    "    \"Louisville\",\n",
    "    \"Columbus\",\n",
    "    \"New York-\",\n",
    "    \"Hartford\",\n",
    "    \"Miami\",\n",
    "    \"Mobile\",\n",
    "    # \"Memphis *\",\n",
    "    # \"Chicago *\",\n",
    "]\n",
    "\n",
    "warehouses = plants + existing_warehouses + potential_warehouses"
   ]
  },
  {
   "cell_type": "code",
   "execution_count": 3,
   "id": "97d3b15b",
   "metadata": {},
   "outputs": [
    {
     "name": "stdout",
     "output_type": "stream",
     "text": [
      "Number of plants:  4\n",
      "Number of existing warehouses:  18\n",
      "Number of potential warehouses:  24\n",
      "Number of total available warehouses for this case:  46\n",
      "Obs.: Each plant is also an existing warehouse\n"
     ]
    }
   ],
   "source": [
    "print(\"Number of plants: \", len(plants))\n",
    "print(\"Number of existing warehouses: \", len(existing_warehouses))\n",
    "print(\"Number of potential warehouses: \", len(potential_warehouses))\n",
    "print(\"Number of total available warehouses for this case: \", len(warehouses))\n",
    "print(\"Obs.: Each plant is also an existing warehouse\")"
   ]
  },
  {
   "cell_type": "markdown",
   "id": "712fcd56",
   "metadata": {},
   "source": [
    "## 2. Parameters"
   ]
  },
  {
   "cell_type": "markdown",
   "id": "c257a2d6",
   "metadata": {},
   "source": [
    "### Demand"
   ]
  },
  {
   "cell_type": "code",
   "execution_count": 4,
   "id": "8fae0141",
   "metadata": {},
   "outputs": [],
   "source": [
    "# read state demands from Figure 1\n",
    "state_demand = {\n",
    "    # West region:\n",
    "    \"WA\": 32_437,  # Washington\n",
    "    \"OR\": 31_365,  # Oregon\n",
    "    \"CA\": 135_116,  # California\n",
    "    \"NV\": 16755,  # Nevada\n",
    "    \"AZ\": 9063,  # Arizona\n",
    "    \"ID\": 7153,  # Idaho\n",
    "    # Northwest region:\n",
    "    \"UT\": 9001,  # Utah\n",
    "    \"MT\": 4140,  # Montana\n",
    "    \"ND\": 5703,  # North Dakota\n",
    "    \"WY\": 1004,  # Wyoming\n",
    "    \"CO\": 11147,  # Colorado\n",
    "    \"SD\": 1049,  # South Dakota\n",
    "    \"NE\": 7347,  # Nebraska\n",
    "    \"KS\": 6961,  # Kansas\n",
    "    \"MN\": 5633,  # Minnesota\n",
    "    \"IA\": 32175,  # Iowa\n",
    "    \"MO\": 41680,  # Missouri\n",
    "    # Southwest region:\n",
    "    \"NM\": 3536,  # New Mexico\n",
    "    \"TX\": 80438,  # Texas\n",
    "    \"OK\": 13517,  # Oklahoma\n",
    "    \"AR\": 4910,  # Arkansas\n",
    "    \"LA\": 15011,  # Louisiana\n",
    "    # Midwest region:\n",
    "    \"WI\": 37448,  # Wisconsin\n",
    "    \"IL\": 72839,  # Illinois\n",
    "    \"MI\": 105_181,  # Michigan\n",
    "    \"IN\": 43994,  # Indiana\n",
    "    \"KY\": 3870,  # Kentucky\n",
    "    \"OH\": 155_123,  # Ohio\n",
    "    # Northeast region:\n",
    "    \"ME\": 15829,  # Maine\n",
    "    \"NH\": 4546,  # New Hampshire\n",
    "    \"RI\": 17000,  # Rhode Island\n",
    "    \"NJ\": 21154,  # New Jersey\n",
    "    \"NY\": 160_917,  # New York\n",
    "    \"PA\": 65108,  # Pennsylvania\n",
    "    \"CT\": 26_187,  # Connecticut\n",
    "    \"MA\": 37087,  # Massachusetts\n",
    "    \"VA\": 17667,  # Virginia\n",
    "    \"WV\": 9168,  # West Virginia\n",
    "    \"MD\": 19_284,  # Maryland\n",
    "    \"VT\": 2_928,  # Vermont\n",
    "    \"DE\": 3_044,  # Delaware\n",
    "    # Southeast region:\n",
    "    \"TN\": 42_479,  # Tennessee\n",
    "    \"MS\": 15_205,  # Mississippi\n",
    "    \"AL\": 15_835,  # Alabama\n",
    "    \"GA\": 29_559,  # Georgia\n",
    "    \"FL\": 46_405,  # Florida\n",
    "    \"SC\": 5_680,  # South Carolina\n",
    "    \"NC\": 28_348,  # North Carolina\n",
    "}"
   ]
  },
  {
   "cell_type": "code",
   "execution_count": 5,
   "id": "a790486c",
   "metadata": {},
   "outputs": [
    {
     "name": "stdout",
     "output_type": "stream",
     "text": [
      "Total states number:  48\n",
      "Total demand:  1477026\n",
      "Each state represents a demand center\n"
     ]
    }
   ],
   "source": [
    "S = state_demand  # Sales\n",
    "total_demand = sum(S.values())\n",
    "\n",
    "print(\"Total states number: \", len(S))\n",
    "print(\"Total demand: \", total_demand)\n",
    "print(\"Each state represents a demand center\")\n",
    "\n",
    "# NOTE: Valor total deve ser 1_477_026, então precisei ajustar NY (que nao tem na foto) pra bater o valor final."
   ]
  },
  {
   "cell_type": "code",
   "execution_count": 6,
   "id": "2cb6fe3c",
   "metadata": {},
   "outputs": [],
   "source": [
    "demand_centers = [f\"{s}\" for s in state_demand.keys()]\n",
    "\n",
    "# pprint(demand_centers)"
   ]
  },
  {
   "cell_type": "markdown",
   "id": "7fe915ca",
   "metadata": {},
   "source": [
    "### Capacities"
   ]
  },
  {
   "cell_type": "code",
   "execution_count": 7,
   "id": "65f5001a",
   "metadata": {},
   "outputs": [],
   "source": [
    "# Plants current capacities C[p]\n",
    "C = {\n",
    "    \"Covington\": 620_000,\n",
    "    \"New York\": 430_000,\n",
    "    \"Arlington\": 300_000,\n",
    "    \"Long Beach\": 280_000,\n",
    "}"
   ]
  },
  {
   "cell_type": "code",
   "execution_count": 8,
   "id": "345ddc87",
   "metadata": {},
   "outputs": [],
   "source": [
    "# Warehouse/Plant stocking capacities C'[p]\n",
    "# (plants have capacity to stock, but the public warehouses do not)\n",
    "C_prime = {\n",
    "    \"Covington\": 450_000,\n",
    "    \"New York\": 380_000,\n",
    "    \"Arlington\": 140_000,\n",
    "    \"Long Beach\": 180_000,\n",
    "}"
   ]
  },
  {
   "cell_type": "markdown",
   "id": "63d7e624",
   "metadata": {},
   "source": [
    "### Distances"
   ]
  },
  {
   "cell_type": "code",
   "execution_count": 9,
   "id": "1b656977",
   "metadata": {},
   "outputs": [],
   "source": [
    "# Distance matrices (in miles)\n",
    "#     d_pw[p][w] = distance plant → warehouse\n",
    "#     d_wd[w][d] = distance warehouse → demand center\n",
    "\n",
    "df_pw = pd.read_excel(\n",
    "    \"../distances/distance_matrix.xlsx\",\n",
    "    sheet_name=\"d_pw\",\n",
    "    index_col=0,\n",
    ")\n",
    "df_wd = pd.read_excel(\n",
    "    \"../distances/distance_matrix.xlsx\",\n",
    "    sheet_name=\"d_ws\",\n",
    "    index_col=0,\n",
    ")\n",
    "\n",
    "d_pw = df_pw.to_dict()\n",
    "d_wd = df_wd.to_dict()"
   ]
  },
  {
   "cell_type": "code",
   "execution_count": 10,
   "id": "4c433b74",
   "metadata": {},
   "outputs": [],
   "source": [
    "# print(\"Distance matrices:\")\n",
    "# print(\"d_pw (plant to warehouse):\")\n",
    "# pprint(d_pw)\n",
    "# print(\"d_wd (warehouse to demand center):\")\n",
    "# pprint(d_wd)\n"
   ]
  },
  {
   "cell_type": "markdown",
   "id": "cdae9faa",
   "metadata": {},
   "source": [
    "### Costs"
   ]
  },
  {
   "cell_type": "code",
   "execution_count": 11,
   "id": "892c708f",
   "metadata": {},
   "outputs": [],
   "source": [
    "# Unit production cost (variable production cost)\n",
    "rho = {\n",
    "    \"Covington\": 21.0,\n",
    "    \"New York\": 19.9,\n",
    "    \"Arlington\": 21.6,\n",
    "    \"Long Beach\": 21.1,\n",
    "}"
   ]
  },
  {
   "cell_type": "code",
   "execution_count": 12,
   "id": "d9f49045",
   "metadata": {},
   "outputs": [],
   "source": [
    "# Inbound cost c_in[p][w] = 0.92 + 0.0034*d_pw\n",
    "# Represents costs from plants to warehouses\n",
    "c_in = {\n",
    "    p: {w: 0.92 + 0.0034 * d_pw[p][w.replace(\"-\", \"\")] for w in warehouses}\n",
    "    for p in plants\n",
    "}\n",
    "\n",
    "# c_in"
   ]
  },
  {
   "cell_type": "code",
   "execution_count": 13,
   "id": "6f4161bb",
   "metadata": {},
   "outputs": [
    {
     "data": {
      "application/vnd.microsoft.datawrangler.viewer.v0+json": {
       "columns": [
        {
         "name": "index",
         "rawType": "int64",
         "type": "integer"
        },
        {
         "name": "Warehouse No.",
         "rawType": "int64",
         "type": "integer"
        },
        {
         "name": "Storage ($/$)",
         "rawType": "float64",
         "type": "float"
        },
        {
         "name": "Handling ($/cwt)",
         "rawType": "float64",
         "type": "float"
        },
        {
         "name": "Stock Order Processing ($/order)",
         "rawType": "int64",
         "type": "integer"
        },
        {
         "name": "Stock Order Size",
         "rawType": "int64",
         "type": "integer"
        },
        {
         "name": "Customer Order Processing ($/order)",
         "rawType": "float64",
         "type": "float"
        },
        {
         "name": "Customer Order size (cwt/order)",
         "rawType": "float64",
         "type": "float"
        },
        {
         "name": "Local delivery rate ($/cwt)",
         "rawType": "float64",
         "type": "float"
        }
       ],
       "conversionMethod": "pd.DataFrame",
       "ref": "aa7436ac-6201-4b6a-8b4c-799bac95b5e5",
       "rows": [
        [
         "0",
         "1",
         "0.0672",
         "0.46",
         "18",
         "400",
         "1.79",
         "9.05",
         "1.9"
        ],
        [
         "1",
         "2",
         "0.0567",
         "0.54",
         "18",
         "400",
         "1.74",
         "10.92",
         "3.89"
        ],
        [
         "2",
         "3",
         "0.0755",
         "0.38",
         "18",
         "400",
         "2.71",
         "11.59",
         "2.02"
        ],
        [
         "3",
         "4",
         "0.0735",
         "0.59",
         "18",
         "400",
         "1.74",
         "11.3",
         "4.31"
        ],
        [
         "4",
         "5",
         "0.0946",
         "0.5",
         "18",
         "401",
         "0.83",
         "9.31",
         "1.89"
        ]
       ],
       "shape": {
        "columns": 8,
        "rows": 5
       }
      },
      "text/html": [
       "<div>\n",
       "<style scoped>\n",
       "    .dataframe tbody tr th:only-of-type {\n",
       "        vertical-align: middle;\n",
       "    }\n",
       "\n",
       "    .dataframe tbody tr th {\n",
       "        vertical-align: top;\n",
       "    }\n",
       "\n",
       "    .dataframe thead th {\n",
       "        text-align: right;\n",
       "    }\n",
       "</style>\n",
       "<table border=\"1\" class=\"dataframe\">\n",
       "  <thead>\n",
       "    <tr style=\"text-align: right;\">\n",
       "      <th></th>\n",
       "      <th>Warehouse No.</th>\n",
       "      <th>Storage ($/$)</th>\n",
       "      <th>Handling ($/cwt)</th>\n",
       "      <th>Stock Order Processing ($/order)</th>\n",
       "      <th>Stock Order Size</th>\n",
       "      <th>Customer Order Processing ($/order)</th>\n",
       "      <th>Customer Order size (cwt/order)</th>\n",
       "      <th>Local delivery rate ($/cwt)</th>\n",
       "    </tr>\n",
       "  </thead>\n",
       "  <tbody>\n",
       "    <tr>\n",
       "      <th>0</th>\n",
       "      <td>1</td>\n",
       "      <td>0.0672</td>\n",
       "      <td>0.46</td>\n",
       "      <td>18</td>\n",
       "      <td>400</td>\n",
       "      <td>1.79</td>\n",
       "      <td>9.05</td>\n",
       "      <td>1.90</td>\n",
       "    </tr>\n",
       "    <tr>\n",
       "      <th>1</th>\n",
       "      <td>2</td>\n",
       "      <td>0.0567</td>\n",
       "      <td>0.54</td>\n",
       "      <td>18</td>\n",
       "      <td>400</td>\n",
       "      <td>1.74</td>\n",
       "      <td>10.92</td>\n",
       "      <td>3.89</td>\n",
       "    </tr>\n",
       "    <tr>\n",
       "      <th>2</th>\n",
       "      <td>3</td>\n",
       "      <td>0.0755</td>\n",
       "      <td>0.38</td>\n",
       "      <td>18</td>\n",
       "      <td>400</td>\n",
       "      <td>2.71</td>\n",
       "      <td>11.59</td>\n",
       "      <td>2.02</td>\n",
       "    </tr>\n",
       "    <tr>\n",
       "      <th>3</th>\n",
       "      <td>4</td>\n",
       "      <td>0.0735</td>\n",
       "      <td>0.59</td>\n",
       "      <td>18</td>\n",
       "      <td>400</td>\n",
       "      <td>1.74</td>\n",
       "      <td>11.30</td>\n",
       "      <td>4.31</td>\n",
       "    </tr>\n",
       "    <tr>\n",
       "      <th>4</th>\n",
       "      <td>5</td>\n",
       "      <td>0.0946</td>\n",
       "      <td>0.50</td>\n",
       "      <td>18</td>\n",
       "      <td>401</td>\n",
       "      <td>0.83</td>\n",
       "      <td>9.31</td>\n",
       "      <td>1.89</td>\n",
       "    </tr>\n",
       "  </tbody>\n",
       "</table>\n",
       "</div>"
      ],
      "text/plain": [
       "   Warehouse No.  Storage ($/$)  Handling ($/cwt)  \\\n",
       "0              1         0.0672              0.46   \n",
       "1              2         0.0567              0.54   \n",
       "2              3         0.0755              0.38   \n",
       "3              4         0.0735              0.59   \n",
       "4              5         0.0946              0.50   \n",
       "\n",
       "   Stock Order Processing ($/order)  Stock Order Size  \\\n",
       "0                                18               400   \n",
       "1                                18               400   \n",
       "2                                18               400   \n",
       "3                                18               400   \n",
       "4                                18               401   \n",
       "\n",
       "   Customer Order Processing ($/order)  Customer Order size (cwt/order)  \\\n",
       "0                                 1.79                             9.05   \n",
       "1                                 1.74                            10.92   \n",
       "2                                 2.71                            11.59   \n",
       "3                                 1.74                            11.30   \n",
       "4                                 0.83                             9.31   \n",
       "\n",
       "   Local delivery rate ($/cwt)  \n",
       "0                         1.90  \n",
       "1                         3.89  \n",
       "2                         2.02  \n",
       "3                         4.31  \n",
       "4                         1.89  "
      ]
     },
     "execution_count": 13,
     "metadata": {},
     "output_type": "execute_result"
    }
   ],
   "source": [
    "# Ler tabela 3 do excel\n",
    "table3 = pd.read_excel(\"../misc/tabelas.xlsx\", sheet_name=\"table3\")\n",
    "\n",
    "table3.head()"
   ]
  },
  {
   "cell_type": "code",
   "execution_count": 14,
   "id": "0471466a",
   "metadata": {},
   "outputs": [],
   "source": [
    "# NOTE: usamos esse código so pra checar se existem valores abaixo de 30 milhas\n",
    "# for k, v in d_ws.items():\n",
    "#     for k2, v2 in v.items():\n",
    "#         if v2 <= 30:\n",
    "#             print(k, k2, v2)"
   ]
  },
  {
   "cell_type": "code",
   "execution_count": 15,
   "id": "b962c21f",
   "metadata": {},
   "outputs": [],
   "source": [
    "# Outbound cost c_out[w][j]:\n",
    "# Custo de enviar do warehouse para o demand center\n",
    "\n",
    "local_rate = {i: v for i, v in enumerate(table3[\"Local delivery rate ($/cwt)\"])}\n",
    "\n",
    "c_out = {}\n",
    "for i, w in enumerate(warehouses):\n",
    "    w = w.replace(\"-\", \"\")\n",
    "    c_out[w] = {}\n",
    "    for s in demand_centers:\n",
    "        d = d_wd[w][s]\n",
    "        if d <= 30:\n",
    "            # if d<=30: use local cartage rate from Table 3\n",
    "            c_out[w][s] = local_rate[i]\n",
    "        else:\n",
    "            # else use 5.45 + 0.0037*d\n",
    "            c_out[w][s] = 5.45 + 0.0037 * d\n",
    "\n",
    "# c_out"
   ]
  },
  {
   "cell_type": "code",
   "execution_count": 16,
   "id": "3ca9351f",
   "metadata": {},
   "outputs": [],
   "source": [
    "# Conversão de unidades:\n",
    "# Quanto representa 1 cwt. em $?\n",
    "# Dividimos as vendas totais ($) pela demand total (cwt)\n",
    "# Gamma = 160_000_000 /(1_477_026 + 7500_00)  # ($ / cwt)\n",
    "# Gamma"
   ]
  },
  {
   "cell_type": "code",
   "execution_count": 17,
   "id": "d01193db",
   "metadata": {},
   "outputs": [],
   "source": [
    "# Custo de estocagem do armazém w (Storage rate)\n",
    "tau = {}\n",
    "\n",
    "for i, w in enumerate(warehouses):\n",
    "    # Fiz o casting para evitar o np.float64 nos prints, mas nao precisava\n",
    "    tau[w] = float(table3[\"Storage ($/$)\"][i])"
   ]
  },
  {
   "cell_type": "code",
   "execution_count": 18,
   "id": "17fb051d",
   "metadata": {},
   "outputs": [],
   "source": [
    "# Custo de handling do armazém w (epsilon)\n",
    "\n",
    "epsilons = {}\n",
    "\n",
    "for i, w in enumerate(warehouses):\n",
    "    epsilons[w] = float(table3[\"Handling ($/cwt)\"][i])"
   ]
  },
  {
   "cell_type": "code",
   "execution_count": 19,
   "id": "36356669",
   "metadata": {},
   "outputs": [],
   "source": [
    "# gamma\n",
    "\n",
    "gammas = {}\n",
    "\n",
    "for i, w in enumerate(warehouses):\n",
    "    gammas[w] = float(table3[\"Stock Order Processing ($/order)\"][i])"
   ]
  },
  {
   "cell_type": "code",
   "execution_count": 20,
   "id": "21c47618",
   "metadata": {},
   "outputs": [],
   "source": [
    "# delta\n",
    "\n",
    "deltas = {}\n",
    "\n",
    "for i, w in enumerate(warehouses):\n",
    "    deltas[w] = float(table3[\"Stock Order Size\"][i])"
   ]
  },
  {
   "cell_type": "code",
   "execution_count": 21,
   "id": "208afc04",
   "metadata": {},
   "outputs": [],
   "source": [
    "# omega\n",
    "\n",
    "omegas = {}\n",
    "\n",
    "for i, w in enumerate(warehouses):\n",
    "    omegas[w] = float(table3[\"Customer Order size (cwt/order)\"][i])"
   ]
  },
  {
   "cell_type": "code",
   "execution_count": 22,
   "id": "9e20b289",
   "metadata": {},
   "outputs": [],
   "source": [
    "# phi\n",
    "\n",
    "phi = {}\n",
    "for i, w in enumerate(warehouses):\n",
    "    phi[w] = float(table3[\"Customer Order Processing ($/order)\"][i])"
   ]
  },
  {
   "cell_type": "markdown",
   "id": "43956ff6",
   "metadata": {},
   "source": [
    "## 3. Defining the model"
   ]
  },
  {
   "cell_type": "code",
   "execution_count": 23,
   "id": "8b899605",
   "metadata": {},
   "outputs": [
    {
     "name": "stdout",
     "output_type": "stream",
     "text": [
      "Set parameter Username\n",
      "Academic license - for non-commercial use only - expires 2025-07-11\n"
     ]
    }
   ],
   "source": [
    "m = Model(name=\"UsemoreWarehousing\")"
   ]
  },
  {
   "cell_type": "markdown",
   "id": "00f83997",
   "metadata": {},
   "source": [
    "### Indices"
   ]
  },
  {
   "cell_type": "code",
   "execution_count": 24,
   "id": "466ef614",
   "metadata": {},
   "outputs": [
    {
     "name": "stdout",
     "output_type": "stream",
     "text": [
      "['Covington', 'New York', 'Arlington', 'Long Beach']\n",
      "['Covington', 'New York', 'Arlington', 'Long Beach', 'Atlanta', 'Boston', 'Buffalo', 'Chicago', 'Cleveland', 'Davenport', 'Detroit', 'Grand Rapids', 'Greensboro', 'Kansas City', 'Baltimore', 'Memphis', 'Milwaukee', 'Orlando', 'Pittsburgh', 'Portland', 'W Sacramento', 'W Chester', 'Albuquerque', 'Billings', 'Denver', 'El Paso', 'Camp Hill', 'Houston', 'Las Vegas', 'Minneapolis', 'New Orleans', 'Phoenix', 'Richmond', 'St Louis', 'Salt Lake City', 'San Antonio', 'Seattle', 'Spokane', 'San Francisco', 'Indianapolis', 'Louisville', 'Columbus', 'New York-', 'Hartford', 'Miami', 'Mobile']\n",
      "['WA', 'OR', 'CA', 'NV', 'AZ', 'ID', 'UT', 'MT', 'ND', 'WY', 'CO', 'SD', 'NE', 'KS', 'MN', 'IA', 'MO', 'NM', 'TX', 'OK', 'AR', 'LA', 'WI', 'IL', 'MI', 'IN', 'KY', 'OH', 'ME', 'NH', 'RI', 'NJ', 'NY', 'PA', 'CT', 'MA', 'VA', 'WV', 'MD', 'VT', 'DE', 'TN', 'MS', 'AL', 'GA', 'FL', 'SC', 'NC']\n"
     ]
    }
   ],
   "source": [
    "print(plants)\n",
    "print(warehouses)\n",
    "# NOTE: tem que ver se o \"New York-\" não vai dar bug quando permitirmos os potentials\n",
    "print(demand_centers)"
   ]
  },
  {
   "cell_type": "markdown",
   "id": "34721080",
   "metadata": {},
   "source": [
    "### Decision variables"
   ]
  },
  {
   "cell_type": "code",
   "execution_count": 25,
   "id": "c0647710",
   "metadata": {},
   "outputs": [],
   "source": [
    "# Se eu uso um armazém: Z[w] = 1\n",
    "Z = m.addVars(warehouses, vtype=GRB.BINARY, name=\"z\")\n",
    "\n",
    "# Quanto de volume mando de p para w\n",
    "X = m.addVars(plants, warehouses, vtype=GRB.CONTINUOUS, name=\"x\")\n",
    "\n",
    "# Quanto de volume mando de w para d\n",
    "Y = m.addVars(warehouses, demand_centers, vtype=GRB.CONTINUOUS, name=\"y\")"
   ]
  },
  {
   "cell_type": "markdown",
   "id": "8c028c86",
   "metadata": {},
   "source": [
    "## 4. Objective Function"
   ]
  },
  {
   "cell_type": "markdown",
   "id": "feeacd5c",
   "metadata": {},
   "source": [
    "### Define all the costs components"
   ]
  },
  {
   "cell_type": "code",
   "execution_count": 26,
   "id": "ff018f64",
   "metadata": {},
   "outputs": [],
   "source": [
    "# inbound transport (from plants to warehouses)\n",
    "# NOTE: coloquei esse if w != p porque nao ha custo de transporte para levar da planta para o seu próprio armazém\n",
    "inbound_transport_cost = gurobipy.quicksum(\n",
    "    c_in[p][w] * X[p, w] for p in plants for w in warehouses if w != p\n",
    ")"
   ]
  },
  {
   "cell_type": "code",
   "execution_count": 27,
   "id": "1c92b2c4",
   "metadata": {},
   "outputs": [],
   "source": [
    "# outbound transport (from warehouses to demand nodes)\n",
    "outbound_transport_cost = gurobipy.quicksum(\n",
    "    c_out[w.replace(\"-\", \"\")][d] * Y[w, d] for w in warehouses for d in demand_centers\n",
    ")"
   ]
  },
  {
   "cell_type": "code",
   "execution_count": 28,
   "id": "f1b5fab2",
   "metadata": {},
   "outputs": [],
   "source": [
    "# production cost\n",
    "production_costs = gurobipy.quicksum(\n",
    "    rho[p] * (X[p, w]) for p in plants for w in warehouses\n",
    ")"
   ]
  },
  {
   "cell_type": "code",
   "execution_count": 29,
   "id": "9fca0791",
   "metadata": {},
   "outputs": [
    {
     "name": "stdout",
     "output_type": "stream",
     "text": [
      "Set parameter NonConvex to value 2\n"
     ]
    }
   ],
   "source": [
    "# Storage cost in warehouses\n",
    "# Para cada armazém, calcula o custo de estocagem individualmente e soma todos\n",
    "\n",
    "m.Params.NonConvex = 2\n",
    "\n",
    "storage_pow = {}\n",
    "storage_costs = []\n",
    "\n",
    "for w in warehouses:\n",
    "    # total de saída do armazém w\n",
    "    totX_w = m.addVar(name=f\"totX_{w}\")\n",
    "\n",
    "    m.addConstr(\n",
    "        totX_w == gurobipy.quicksum(Y[w, d] for d in demand_centers),\n",
    "        name=f\"define_totX_{w}\",\n",
    "    )\n",
    "\n",
    "    # variável para totX_w^0.58\n",
    "    storage_pow[w] = m.addVar(name=f\"storage_pow_{w}\")\n",
    "\n",
    "    m.addGenConstrPow(totX_w, storage_pow[w], 0.58, name=f\"storage_pow_{w}\")\n",
    "\n",
    "    # custo de estocagem para o armazém w\n",
    "    storage_costs.append(26 * 11.3 * storage_pow[w] * tau[w])\n",
    "\n",
    "# soma total dos custos de estocagem\n",
    "storage_costs = gurobipy.quicksum(storage_costs)"
   ]
  },
  {
   "cell_type": "code",
   "execution_count": 30,
   "id": "88baef63",
   "metadata": {},
   "outputs": [],
   "source": [
    "# INVENTORY\n",
    "inventory_pow = {}\n",
    "inventory_costs = []\n",
    "\n",
    "for w in warehouses:\n",
    "    # total de saída do armazém w\n",
    "    totX_w = m.addVar(name=f\"totX_{w}\")\n",
    "\n",
    "    m.addConstr(\n",
    "        totX_w == gurobipy.quicksum(Y[w, d] for d in demand_centers),\n",
    "        name=f\"define_totX_{w}\",\n",
    "    )\n",
    "\n",
    "    # variável para totX_w^0.58\n",
    "    inventory_pow[w] = m.addVar(name=f\"inventory_pow_{w}\")\n",
    "\n",
    "    m.addGenConstrPow(totX_w, inventory_pow[w], 0.58, name=f\"inventory_pow_{w}\")\n",
    "\n",
    "    # custo de Inventory para o armazém w\n",
    "    inventory_costs.append(26 * 0.12 * 11.3 * inventory_pow[w])\n",
    "\n",
    "# soma total dos custos de estocagem\n",
    "inventory_costs = gurobipy.quicksum(inventory_costs)"
   ]
  },
  {
   "cell_type": "code",
   "execution_count": 31,
   "id": "ade54837",
   "metadata": {},
   "outputs": [],
   "source": [
    "# custo de handling nos armazéns\n",
    "handling_costs = gurobipy.quicksum(\n",
    "    2 * Z[w] * X[p, w] * epsilons[w] for p in plants for w in warehouses\n",
    ")"
   ]
  },
  {
   "cell_type": "code",
   "execution_count": 32,
   "id": "844c68e5",
   "metadata": {},
   "outputs": [],
   "source": [
    "# custo de processamento do pedido de estoque\n",
    "stock_order_processing_costs = gurobipy.quicksum(\n",
    "    Z[w] * X[p, w] * (gammas[w] / deltas[w]) for p in plants for w in warehouses\n",
    ")"
   ]
  },
  {
   "cell_type": "code",
   "execution_count": 33,
   "id": "6039e81c",
   "metadata": {},
   "outputs": [],
   "source": [
    "# custo de processamento do pedido do cliente\n",
    "customer_order_processing_costs = gurobipy.quicksum(\n",
    "    Z[w] * Y[w, d] * (phi[w] / omegas[w]) for w in warehouses for d in demand_centers\n",
    ")"
   ]
  },
  {
   "cell_type": "markdown",
   "id": "84efd89e",
   "metadata": {},
   "source": [
    "### Define the objective function"
   ]
  },
  {
   "cell_type": "code",
   "execution_count": 34,
   "id": "b16d62cc",
   "metadata": {},
   "outputs": [],
   "source": [
    "m.setObjective(\n",
    "    inbound_transport_cost\n",
    "    + outbound_transport_cost\n",
    "    + production_costs\n",
    "    + storage_costs\n",
    "    + inventory_costs\n",
    "    + handling_costs\n",
    "    + stock_order_processing_costs\n",
    "    + customer_order_processing_costs,\n",
    "    sense=GRB.MINIMIZE,\n",
    ")"
   ]
  },
  {
   "cell_type": "markdown",
   "id": "38970eb8",
   "metadata": {},
   "source": [
    "## Constraints"
   ]
  },
  {
   "cell_type": "markdown",
   "id": "43e7af18",
   "metadata": {},
   "source": [
    "### Service level"
   ]
  },
  {
   "cell_type": "code",
   "execution_count": 35,
   "id": "07679891",
   "metadata": {},
   "outputs": [
    {
     "data": {
      "text/plain": [
       "<gurobi.Constr *Awaiting Model Update*>"
      ]
     },
     "execution_count": 35,
     "metadata": {},
     "output_type": "execute_result"
    }
   ],
   "source": [
    "# Porcentagem de volume atendidos a uma distância menor que SERVICE_LEVEL_DISTANCE milhas\n",
    "\n",
    "service_level_30 = gurobipy.quicksum(\n",
    "    Y[w, d] / total_demand\n",
    "    for w in warehouses\n",
    "    for d in demand_centers\n",
    "    if d_wd[w.replace(\"-\", \"\")][d] <= 30\n",
    ")\n",
    "service_level_100 = gurobipy.quicksum(\n",
    "    Y[w, d] / total_demand\n",
    "    for w in warehouses\n",
    "    for d in demand_centers\n",
    "    if d_wd[w.replace(\"-\", \"\")][d] <= 100\n",
    ")\n",
    "service_level_300 = gurobipy.quicksum(\n",
    "    Y[w, d] / total_demand\n",
    "    for w in warehouses\n",
    "    for d in demand_centers\n",
    "    if d_wd[w.replace(\"-\", \"\")][d] <= 300\n",
    ")\n",
    "service_level_600 = gurobipy.quicksum(\n",
    "    Y[w, d] / total_demand\n",
    "    for w in warehouses\n",
    "    for d in demand_centers\n",
    "    if d_wd[w.replace(\"-\", \"\")][d] <= 600\n",
    ")\n",
    "service_level_1000 = gurobipy.quicksum(\n",
    "    Y[w, d] / total_demand\n",
    "    for w in warehouses\n",
    "    for d in demand_centers\n",
    "    if d_wd[w.replace(\"-\", \"\")][d] <= 1000\n",
    ")\n",
    "service_level_1500 = gurobipy.quicksum(\n",
    "    Y[w, d] / total_demand\n",
    "    for w in warehouses\n",
    "    for d in demand_centers\n",
    "    if d_wd[w.replace(\"-\", \"\")][d] <= 1500\n",
    ")\n",
    "\n",
    "\n",
    "m.addConstr(\n",
    "    service_level_300 >= 93 / 100,\n",
    "    name=\"service_level\",\n",
    ")"
   ]
  },
  {
   "cell_type": "code",
   "execution_count": 36,
   "id": "2c3795b8",
   "metadata": {},
   "outputs": [],
   "source": [
    "# Distancias medianas de um armazém para os centros de demanda\n",
    "\n",
    "# for w in d_wd.keys():\n",
    "#     q1 = np.percentile(list(d_wd[w].values()), 95)\n",
    "#       print(f\"{w:>20} {q1:>7.2f}\")"
   ]
  },
  {
   "cell_type": "markdown",
   "id": "5ede9a83",
   "metadata": {},
   "source": [
    "### Demand"
   ]
  },
  {
   "cell_type": "code",
   "execution_count": 37,
   "id": "52a8bbf1",
   "metadata": {},
   "outputs": [],
   "source": [
    "# Demand satisfaction\n",
    "\n",
    "for d in demand_centers:\n",
    "    m.addConstr(\n",
    "        gurobipy.quicksum(Y[w, d] for w in warehouses) == S[d],\n",
    "        name=f\"demand_{d}\",\n",
    "    )"
   ]
  },
  {
   "cell_type": "markdown",
   "id": "15f1160d",
   "metadata": {},
   "source": [
    "### Production"
   ]
  },
  {
   "cell_type": "code",
   "execution_count": 38,
   "id": "f9f96e52",
   "metadata": {},
   "outputs": [],
   "source": [
    "# Plant production capacity\n",
    "\n",
    "for p in plants:\n",
    "    m.addConstr(\n",
    "        gurobipy.quicksum(X[p, w] for w in warehouses) <= C[p],\n",
    "        name=f\"plantCap_{p}\",\n",
    "    )"
   ]
  },
  {
   "cell_type": "markdown",
   "id": "3195b3c6",
   "metadata": {},
   "source": [
    "### Capacity"
   ]
  },
  {
   "cell_type": "code",
   "execution_count": 39,
   "id": "0505374d",
   "metadata": {},
   "outputs": [],
   "source": [
    "# restrição dos 10400\n",
    "\n",
    "for w in warehouses:\n",
    "    # Um armazém só pode ser aberto se houver demanda de pelo menos 10_400 cwt\n",
    "    m.addConstr(\n",
    "        gurobipy.quicksum(Y[w, d] for d in demand_centers) >= 10_400 * Z[w],\n",
    "        name=f\"minThroughput_{w}\",\n",
    "    )"
   ]
  },
  {
   "cell_type": "code",
   "execution_count": 40,
   "id": "ba45baee",
   "metadata": {},
   "outputs": [],
   "source": [
    "# restrições de armazenagem de cada planta\n",
    "\n",
    "for p1 in plants:\n",
    "    m.addConstr(\n",
    "        gurobipy.quicksum(X[p2, p1] for p2 in plants) <= C_prime[p1],\n",
    "        name=f\"plantStorageCap_{p1}\",\n",
    "    )"
   ]
  },
  {
   "cell_type": "markdown",
   "id": "cfbddb51",
   "metadata": {},
   "source": [
    "### Flow balance"
   ]
  },
  {
   "cell_type": "code",
   "execution_count": 41,
   "id": "e206713e",
   "metadata": {},
   "outputs": [],
   "source": [
    "# Flow balance at each warehouse (está quebrando o código...)\n",
    "\n",
    "for w in warehouses:\n",
    "    # Tudo que entra no armazém deve ser igual a tudo que sai\n",
    "    m.addConstr(\n",
    "        gurobipy.quicksum(X[p, w] for p in plants)\n",
    "        == gurobipy.quicksum(Y[w, d] for d in demand_centers),\n",
    "        name=f\"flowBalance_{w}\",\n",
    "    )"
   ]
  },
  {
   "cell_type": "markdown",
   "id": "194bf684",
   "metadata": {},
   "source": [
    "### Flow conservation"
   ]
  },
  {
   "cell_type": "code",
   "execution_count": 42,
   "id": "f6515c14",
   "metadata": {},
   "outputs": [],
   "source": [
    "M = total_demand"
   ]
  },
  {
   "cell_type": "code",
   "execution_count": 43,
   "id": "384629f2",
   "metadata": {},
   "outputs": [],
   "source": [
    "# Restrições de Z (só posso usar um armazém se ele estiver aberto)\n",
    "for w in warehouses:\n",
    "    for p in plants:\n",
    "        # NOTE: the C[p] here is working as the big-M\n",
    "        m.addConstr(\n",
    "            X[p, w] <= M * Z[w],\n",
    "            name=f\"openWarehouse_{w},{p}\",\n",
    "        )\n",
    "    for d in demand_centers:\n",
    "        # NOTE: the S[d] here is working as the big-M\n",
    "        m.addConstr(\n",
    "            Y[w, d] <= M * Z[w],\n",
    "            name=f\"openWarehouse_{w},{d}\",\n",
    "        )"
   ]
  },
  {
   "cell_type": "markdown",
   "id": "295c838a",
   "metadata": {},
   "source": [
    "## Solver"
   ]
  },
  {
   "cell_type": "code",
   "execution_count": 44,
   "id": "83f70009",
   "metadata": {},
   "outputs": [
    {
     "name": "stdout",
     "output_type": "stream",
     "text": [
      "Warning: variable name \"z[New York]\" has a space\n",
      "Warning: constraint name \"define_totX_New York\" has a space\n",
      "Warning: general constraint name \"storage_pow_New York\" has a space\n",
      "Warning: to let Gurobi read it back, use rlp format\n"
     ]
    }
   ],
   "source": [
    "# NOTE: precisou ser o formato .rlp pois algumas variáveis têm espaço\n",
    "m.write(\"model-baseline-p2.rlp\")\n",
    "m.write(\"model-baseline-p2.lp\")"
   ]
  },
  {
   "cell_type": "code",
   "execution_count": 45,
   "id": "172a7261",
   "metadata": {},
   "outputs": [
    {
     "name": "stdout",
     "output_type": "stream",
     "text": [
      "Set parameter TimeLimit to value 600\n"
     ]
    }
   ],
   "source": [
    "m.params.TimeLimit = 600  # seconds"
   ]
  },
  {
   "cell_type": "code",
   "execution_count": 46,
   "id": "58c4c206",
   "metadata": {},
   "outputs": [
    {
     "name": "stdout",
     "output_type": "stream",
     "text": [
      "Gurobi Optimizer version 11.0.3 build v11.0.3rc0 (win64 - Windows 11+.0 (26100.2))\n",
      "\n",
      "CPU model: AMD Ryzen 7 7730U with Radeon Graphics, instruction set [SSE2|AVX|AVX2]\n",
      "Thread count: 8 physical cores, 16 logical processors, using up to 16 threads\n",
      "\n",
      "Presolve added 226 rows and 6946 columns\n",
      "Presolve time: 0.10s\n"
     ]
    },
    {
     "data": {
      "text/plain": [
       "<gurobi.Model MIP instance UsemoreWarehousing_pre: 5251 constrs, 11960 vars, Parameter changes: TimeLimit=600.0, Username=(user-defined), NonConvex=2>"
      ]
     },
     "execution_count": 46,
     "metadata": {},
     "output_type": "execute_result"
    }
   ],
   "source": [
    "m.presolve()"
   ]
  },
  {
   "cell_type": "code",
   "execution_count": 47,
   "id": "2dd56a49",
   "metadata": {},
   "outputs": [
    {
     "name": "stdout",
     "output_type": "stream",
     "text": [
      "Gurobi Optimizer version 11.0.3 build v11.0.3rc0 (win64 - Windows 11+.0 (26100.2))\n",
      "\n",
      "CPU model: AMD Ryzen 7 7730U with Radeon Graphics, instruction set [SSE2|AVX|AVX2]\n",
      "Thread count: 8 physical cores, 16 logical processors, using up to 16 threads\n",
      "\n",
      "Optimize a model with 2633 rows, 2622 columns and 16517 nonzeros\n",
      "Model fingerprint: 0xca9a4589\n",
      "Model has 2392 quadratic objective terms\n",
      "Model has 92 general constraints\n",
      "Variable types: 2576 continuous, 46 integer (46 binary)\n",
      "Coefficient statistics:\n",
      "  Matrix range     [7e-07, 1e+06]\n",
      "  Objective range  [2e+00, 3e+02]\n",
      "  QObjective range [2e-01, 2e+01]\n",
      "  Bounds range     [1e+00, 1e+00]\n",
      "  RHS range        [9e-01, 6e+05]\n",
      "Warning: Model contains large matrix coefficient range\n",
      "         Consider reformulating model or setting NumericFocus parameter\n",
      "         to avoid numerical issues.\n",
      "Presolve added 226 rows and 6946 columns\n",
      "Presolve time: 0.10s\n",
      "Presolved: 5251 rows, 11960 columns, 38075 nonzeros\n",
      "Presolved model has 92 SOS constraint(s)\n",
      "Variable types: 11914 continuous, 46 integer (46 binary)\n",
      "\n",
      "Root relaxation: objective 4.339570e+07, 1044 iterations, 0.07 seconds (0.03 work units)\n",
      "\n",
      "    Nodes    |    Current Node    |     Objective Bounds      |     Work\n",
      " Expl Unexpl |  Obj  Depth IntInf | Incumbent    BestBd   Gap | It/Node Time\n",
      "\n",
      "     0     0 4.3396e+07    0   44          - 4.3396e+07      -     -    0s\n",
      "     0     0 4.3396e+07    0   44          - 4.3396e+07      -     -    0s\n",
      "     0     0 4.3407e+07    0   44          - 4.3407e+07      -     -    0s\n",
      "     0     0 4.3418e+07    0   44          - 4.3418e+07      -     -    0s\n",
      "     0     0 4.3427e+07    0   44          - 4.3427e+07      -     -    0s\n",
      "     0     0 4.3431e+07    0   44          - 4.3431e+07      -     -    0s\n",
      "     0     0 4.3437e+07    0   44          - 4.3437e+07      -     -    0s\n",
      "     0     0 4.3442e+07    0   44          - 4.3442e+07      -     -    0s\n",
      "     0     0 4.3448e+07    0   44          - 4.3448e+07      -     -    0s\n",
      "     0     0 4.3452e+07    0   44          - 4.3452e+07      -     -    0s\n",
      "     0     0 4.3455e+07    0   44          - 4.3455e+07      -     -    0s\n",
      "     0     0 4.3455e+07    0   44          - 4.3455e+07      -     -    1s\n",
      "     0     2 4.3455e+07    0   44          - 4.3455e+07      -     -    1s\n",
      "  3671  2240 infeasible  236               - 4.3481e+07      -   6.2    5s\n",
      "H 3794  1964                    4.508680e+07 4.3481e+07  3.56%   6.2    5s\n",
      "H 3844  1110                    4.458531e+07 4.3481e+07  2.48%   6.2    5s\n",
      "* 4139   783             274    4.425235e+07 4.3481e+07  1.74%   6.2    5s\n",
      "* 4770   872             313    4.397044e+07 4.3482e+07  1.11%   6.1    6s\n",
      "  5236   989 4.3851e+07  201 1511 4.3970e+07 4.3630e+07  0.77%   5.9   10s\n",
      "  6089  1347 4.3734e+07   66  789 4.3970e+07 4.3651e+07  0.73%   8.0   15s\n",
      "  7389  1667 infeasible  142      4.3970e+07 4.3651e+07  0.73%   8.2   20s\n",
      "* 8191  1622             206    4.394447e+07 4.3651e+07  0.67%   8.0   21s\n",
      "H 8248  1456                    4.392252e+07 4.3651e+07  0.62%   8.0   22s\n",
      "H 8502  1637                    4.392233e+07 4.3651e+07  0.62%   8.0   22s\n",
      "H 8686  1706                    4.392227e+07 4.3653e+07  0.61%   8.0   24s\n",
      "H 8692  1672                    4.391925e+07 4.3653e+07  0.61%   8.0   24s\n",
      "  8981  1843 4.3737e+07   29 1121 4.3919e+07 4.3653e+07  0.61%   8.0   25s\n",
      "H 9003  1819                    4.391616e+07 4.3653e+07  0.60%   8.0   25s\n",
      "  9804  2609 4.3807e+07   32 1064 4.3916e+07 4.3667e+07  0.57%   8.0   30s\n",
      "H10059  2615                    4.391603e+07 4.3667e+07  0.57%   7.9   33s\n",
      "H10060  2604                    4.391560e+07 4.3667e+07  0.57%   7.9   33s\n",
      "H10062  2547                    4.391240e+07 4.3667e+07  0.56%   7.9   33s\n",
      "H10063  2510                    4.391067e+07 4.3667e+07  0.56%   7.9   33s\n",
      " 10274  2769 4.3906e+07   54  647 4.3911e+07 4.3669e+07  0.55%   7.9   35s\n",
      " 11215  3422 4.3838e+07   30 1035 4.3911e+07 4.3671e+07  0.54%   7.9   40s\n",
      " 12328  4307 4.3881e+07   73  615 4.3911e+07 4.3676e+07  0.53%   8.0   46s\n",
      " 14125  5660 4.3706e+07   27 1213 4.3911e+07 4.3683e+07  0.52%   8.0   50s\n",
      " 14966  5665 4.3707e+07   23  799 4.3911e+07 4.3686e+07  0.51%   8.0   55s\n",
      " 15424  5592 4.3891e+07   71  318 4.3911e+07 4.3706e+07  0.47%   8.8   60s\n",
      "H15494  5304                    4.390455e+07 4.3706e+07  0.45%   8.8   61s\n",
      " 16687  5667 4.3895e+07   87  545 4.3905e+07 4.3728e+07  0.40%   8.7   65s\n",
      " 20266  7052 4.3858e+07  125  297 4.3905e+07 4.3757e+07  0.34%   8.3   70s\n",
      " 26076  9928 4.3865e+07   81  452 4.3905e+07 4.3777e+07  0.29%   7.6   75s\n",
      "H27751  9137                    4.389756e+07 4.3780e+07  0.27%   7.6   77s\n",
      "H28961  8863                    4.389750e+07 4.3782e+07  0.26%   7.5   78s\n",
      " 29798  9716 4.3882e+07  126  438 4.3897e+07 4.3788e+07  0.25%   7.5   80s\n",
      " 35564 13227 4.3891e+07  102  372 4.3897e+07 4.3805e+07  0.21%   7.3   85s\n",
      " 40471 15808 4.3893e+07   74  595 4.3897e+07 4.3812e+07  0.19%   7.3   90s\n",
      "H41761 15884                    4.389739e+07 4.3812e+07  0.19%   7.2   93s\n",
      " 42752 17074     cutoff   91      4.3897e+07 4.3815e+07  0.19%   7.2   96s\n",
      " 44915 17676 4.3845e+07   92  627 4.3897e+07 4.3816e+07  0.18%   7.2  134s\n",
      " 44920 17679 4.3878e+07  120  621 4.3897e+07 4.3816e+07  0.18%   7.2  135s\n",
      " 44951 17700 4.3860e+07   65  848 4.3897e+07 4.3816e+07  0.18%   7.2  140s\n",
      " 44971 17713 4.3879e+07   55  792 4.3897e+07 4.3816e+07  0.18%   7.1  145s\n",
      " 44986 17723 4.3891e+07  103  853 4.3897e+07 4.3817e+07  0.18%   7.1  150s\n",
      " 44994 17729 4.3865e+07  137  849 4.3897e+07 4.3817e+07  0.18%   7.1  155s\n",
      " 45113 17708 4.3861e+07   52  585 4.3897e+07 4.3838e+07  0.14%   7.5  160s\n",
      " 45509 17721 4.3860e+07   71  429 4.3897e+07 4.3838e+07  0.13%   7.7  165s\n",
      " 47558 18128 4.3879e+07  100  310 4.3897e+07 4.3857e+07  0.09%   7.9  170s\n",
      " 49974 18731 4.3892e+07  104  343 4.3897e+07 4.3872e+07  0.06%   8.1  175s\n",
      " 52867 19271     cutoff  125      4.3897e+07 4.3877e+07  0.05%   8.3  180s\n",
      " 56057 19405 4.3891e+07  146  162 4.3897e+07 4.3880e+07  0.04%   8.5  185s\n",
      " 58712 19674 4.3897e+07  179  106 4.3897e+07 4.3882e+07  0.04%   8.6  190s\n",
      " 62069 19913 4.3893e+07  131  232 4.3897e+07 4.3884e+07  0.03%   8.7  196s\n",
      " 64274 19820     cutoff  141      4.3897e+07 4.3885e+07  0.03%   8.7  201s\n",
      " 67076 19662     cutoff  111      4.3897e+07 4.3886e+07  0.03%   8.8  206s\n",
      " 69941 19430 4.3894e+07  100  322 4.3897e+07 4.3887e+07  0.02%   8.8  210s\n",
      " 71635 19107     cutoff  148      4.3897e+07 4.3888e+07  0.02%   8.8  215s\n",
      " 74130 18988 4.3892e+07  143  227 4.3897e+07 4.3888e+07  0.02%   8.9  220s\n",
      " 76959 18381 4.3896e+07  148  201 4.3897e+07 4.3889e+07  0.02%   8.9  225s\n",
      " 80951 17285 4.3897e+07   84  356 4.3897e+07 4.3890e+07  0.02%   8.9  232s\n",
      " 83724 16380 4.3894e+07  120  266 4.3897e+07 4.3891e+07  0.02%   8.9  236s\n",
      " 86593 15454     cutoff  111      4.3897e+07 4.3891e+07  0.01%   9.0  241s\n",
      " 89611 14383 infeasible  119      4.3897e+07 4.3892e+07  0.01%   9.0  247s\n",
      " 91261 13923 infeasible  158      4.3897e+07 4.3892e+07  0.01%   9.0  252s\n",
      " 92633 13637 infeasible  182      4.3897e+07 4.3892e+07  0.01%   9.0  256s\n",
      " 94798 12842 4.3897e+07  166  113 4.3897e+07 4.3893e+07  0.01%   9.0  260s\n",
      "\n",
      "Cutting planes:\n",
      "  Gomory: 129\n",
      "  Implied bound: 84\n",
      "  Projected implied bound: 79\n",
      "  MIR: 116\n",
      "  Mixing: 2\n",
      "  Flow cover: 149\n",
      "  Zero half: 1\n",
      "  RLT: 14\n",
      "  Relax-and-lift: 62\n",
      "\n",
      "Explored 96644 nodes (868992 simplex iterations) in 260.86 seconds (118.13 work units)\n",
      "Thread count was 16 (of 16 available processors)\n",
      "\n",
      "Solution count 10: 4.38974e+07 4.38975e+07 4.38976e+07 ... 4.39192e+07\n",
      "\n",
      "Optimal solution found (tolerance 1.00e-04)\n",
      "Warning: max constraint violation (8.1488e-01) exceeds tolerance\n",
      "Warning: max general constraint violation (8.1488e-01) exceeds tolerance\n",
      "  Piecewise linearization of function constraints often causes big violation.\n",
      "  Try to adjust the settings of the related parameters, such as FuncPieces.\n",
      "Best objective 4.389738779954e+07, best bound 4.389310813783e+07, gap 0.0097%\n"
     ]
    }
   ],
   "source": [
    "m.optimize()"
   ]
  },
  {
   "cell_type": "code",
   "execution_count": 48,
   "id": "67930de6",
   "metadata": {},
   "outputs": [
    {
     "name": "stdout",
     "output_type": "stream",
     "text": [
      "\n",
      "Statistics for model UsemoreWarehousing:\n",
      "  Linear constraint matrix    : 2633 Constrs, 2622 Vars, 16517 NZs\n",
      "  Variable types              : 2576 Continuous,\n",
      "46 Integer (46 Binary)\n",
      "  General constraints         : 92 Constrs\n",
      "  Matrix coefficient range    : [ 6.77036e-07, 1.47703e+06 ]\n",
      "  Objective coefficient range : [ 1.66, 291.156 ]\n",
      "  Variable bound range        : [ 1, 1 ]\n",
      "  RHS coefficient range       : [ 0.93, 620000 ]\n"
     ]
    }
   ],
   "source": [
    "m.printStats()"
   ]
  },
  {
   "cell_type": "code",
   "execution_count": 49,
   "id": "7197a372",
   "metadata": {},
   "outputs": [
    {
     "name": "stdout",
     "output_type": "stream",
     "text": [
      "\n",
      "Solution quality statistics for model UsemoreWarehousing :\n",
      "  Maximum violation:\n",
      "    Bound       : 0.00000000e+00\n",
      "    Constraint  : 8.14875711e-01 (storage_pow_Covington)\n",
      "    Integrality : 0.00000000e+00\n"
     ]
    }
   ],
   "source": [
    "m.printQuality()"
   ]
  },
  {
   "cell_type": "markdown",
   "id": "afde0f08",
   "metadata": {},
   "source": [
    "## Visualize results"
   ]
  },
  {
   "cell_type": "markdown",
   "id": "e852cd0e",
   "metadata": {},
   "source": [
    "### Costs"
   ]
  },
  {
   "cell_type": "code",
   "execution_count": 50,
   "id": "711eb929",
   "metadata": {},
   "outputs": [
    {
     "name": "stdout",
     "output_type": "stream",
     "text": [
      "Objective function final value: $43,897,387.80\n"
     ]
    }
   ],
   "source": [
    "# Print the solution objective value\n",
    "print(f\"Objective function final value: ${m.objVal:,.2f}\")"
   ]
  },
  {
   "cell_type": "code",
   "execution_count": 51,
   "id": "d0821ff4",
   "metadata": {},
   "outputs": [
    {
     "name": "stdout",
     "output_type": "stream",
     "text": [
      "\n",
      "=================================================================\n",
      "                         COST BREAKDOWN                          \n",
      "=================================================================\n",
      "Cost Component                         Amount ($)   Percentage\n",
      "-----------------------------------------------------------------\n",
      "Inbound transport cost           $     1,552,746.05        3.54%\n",
      "Outbound transport cost          $     8,676,178.23       19.76%\n",
      "Production costs                 $    30,677,076.10       69.88%\n",
      "Storage costs                    $       337,659.70        0.77%\n",
      "Handling costs                   $     1,832,970.33        4.18%\n",
      "Stock order processing costs     $        70,660.87        0.16%\n",
      "Customer order processing costs  $       343,968.17        0.78%\n",
      "Inventory Carrying Costs         $       406,128.35        0.93%\n",
      "-----------------------------------------------------------------\n",
      "TOTAL COST                       $    43,897,387.80      100.00%\n",
      "=================================================================\n"
     ]
    }
   ],
   "source": [
    "def display_cost_components():\n",
    "    \"\"\"Calculate and display all cost components\"\"\"\n",
    "\n",
    "    # Get cost values from the model\n",
    "    costs = {\n",
    "        \"Inbound transport cost\": inbound_transport_cost.getValue(),\n",
    "        \"Outbound transport cost\": outbound_transport_cost.getValue(),\n",
    "        \"Production costs\": production_costs.getValue(),\n",
    "        \"Storage costs\": storage_costs.getValue(),\n",
    "        \"Handling costs\": handling_costs.getValue(),\n",
    "        \"Stock order processing costs\": stock_order_processing_costs.getValue(),\n",
    "        \"Customer order processing costs\": customer_order_processing_costs.getValue(),\n",
    "        \"Inventory Carrying Costs\": inventory_costs.getValue(),\n",
    "    }\n",
    "\n",
    "    # Calculate total cost\n",
    "    total = sum(costs.values())\n",
    "\n",
    "    # Print the cost components in a formatted table\n",
    "    print(\"\\n\" + \"=\" * 65)\n",
    "    print(f\"{'COST BREAKDOWN':^65}\")\n",
    "    print(\"=\" * 65)\n",
    "    print(f\"{'Cost Component':<30} {'Amount ($)':>18} {'Percentage':>12}\")\n",
    "    print(\"-\" * 65)\n",
    "\n",
    "    try:\n",
    "        for name, value in costs.items():\n",
    "            percentage = (value / total) * 100\n",
    "            print(f\"{name:<32} ${value:>17,.2f} {percentage:>11.2f}%\")\n",
    "    except ZeroDivisionError:\n",
    "        pass\n",
    "\n",
    "    print(\"-\" * 65)\n",
    "    print(f\"{'TOTAL COST':<32} ${total:>17,.2f} {100:>11.2f}%\")\n",
    "    print(\"=\" * 65)\n",
    "\n",
    "\n",
    "# Call the function to display costs\n",
    "display_cost_components()\n",
    "\n",
    "# 43,295,679.23\n",
    "\n",
    "# Distancia (x) | Nivel de servico (y) | custo total (z)"
   ]
  },
  {
   "cell_type": "markdown",
   "id": "5898928a",
   "metadata": {},
   "source": [
    "### Locations"
   ]
  },
  {
   "cell_type": "code",
   "execution_count": 52,
   "id": "9c435c29",
   "metadata": {},
   "outputs": [
    {
     "name": "stdout",
     "output_type": "stream",
     "text": [
      "Number of open warehouses 🏭: 19 \n",
      "Number of closed warehouses 🔒: 27 \n",
      "Percentage of warehouses open: 41.3% 📊\n",
      "\n",
      "------------------ Warehouse openings ------------------\n",
      " Open warehouse at       Covington (289345.82 cwt)\n",
      " Open warehouse at        New York (272863.00 cwt)\n",
      " Open warehouse at       Arlington (140000.00 cwt)\n",
      " Open warehouse at      Long Beach (156414.00 cwt)\n",
      " Open warehouse at         Atlanta ( 51074.00 cwt)\n",
      " Open warehouse at       Davenport ( 27408.00 cwt)\n",
      " Open warehouse at         Detroit (105181.00 cwt)\n",
      " Open warehouse at       Baltimore ( 19284.00 cwt)\n",
      " Open warehouse at       Milwaukee (101087.18 cwt)\n",
      " Open warehouse at         Orlando ( 46405.00 cwt)\n",
      " Open warehouse at        Portland ( 63802.00 cwt)\n",
      " Open warehouse at          Denver ( 11147.00 cwt)\n",
      " Open warehouse at       Camp Hill ( 82775.00 cwt)\n",
      " Open warehouse at       Las Vegas ( 16755.00 cwt)\n",
      " Open warehouse at     Minneapolis ( 10400.00 cwt)\n",
      " Open warehouse at         Phoenix ( 10400.00 cwt)\n",
      " Open warehouse at        Richmond ( 28348.00 cwt)\n",
      " Open warehouse at        Hartford ( 15829.00 cwt)\n",
      " Open warehouse at          Mobile ( 28508.00 cwt)\n",
      "\n",
      "------------------ Warehouse closings ------------------\n",
      " Closed warehouse at        Boston (     0.00 cwt)\n",
      " Closed warehouse at       Buffalo (     0.00 cwt)\n",
      " Closed warehouse at       Chicago (     0.00 cwt)\n",
      " Closed warehouse at     Cleveland (     0.00 cwt)\n",
      " Closed warehouse at  Grand Rapids (     0.00 cwt)\n",
      " Closed warehouse at    Greensboro (     0.00 cwt)\n",
      " Closed warehouse at   Kansas City (     0.00 cwt)\n",
      " Closed warehouse at       Memphis (     0.00 cwt)\n",
      " Closed warehouse at    Pittsburgh (     0.00 cwt)\n",
      " Closed warehouse at  W Sacramento (     0.00 cwt)\n",
      " Closed warehouse at     W Chester (     0.00 cwt)\n",
      " Closed warehouse at   Albuquerque (     0.00 cwt)\n",
      " Closed warehouse at      Billings (     0.00 cwt)\n",
      " Closed warehouse at       El Paso (     0.00 cwt)\n",
      " Closed warehouse at       Houston (     0.00 cwt)\n",
      " Closed warehouse at   New Orleans (     0.00 cwt)\n",
      " Closed warehouse at      St Louis (     0.00 cwt)\n",
      " Closed warehouse at Salt Lake City (     0.00 cwt)\n",
      " Closed warehouse at   San Antonio (     0.00 cwt)\n",
      " Closed warehouse at       Seattle (     0.00 cwt)\n",
      " Closed warehouse at       Spokane (     0.00 cwt)\n",
      " Closed warehouse at San Francisco (     0.00 cwt)\n",
      " Closed warehouse at  Indianapolis (     0.00 cwt)\n",
      " Closed warehouse at    Louisville (     0.00 cwt)\n",
      " Closed warehouse at      Columbus (     0.00 cwt)\n",
      " Closed warehouse at     New York- (     0.00 cwt)\n",
      " Closed warehouse at         Miami (     0.00 cwt)\n"
     ]
    }
   ],
   "source": [
    "open_w = [w for w in warehouses if Z[w].X > 0.1]\n",
    "closed_w = [w for w in warehouses if Z[w].X < 0.1]\n",
    "\n",
    "print(f\"Number of open warehouses 🏭: {len(open_w)} \")\n",
    "print(f\"Number of closed warehouses 🔒: {len(closed_w)} \")\n",
    "\n",
    "# Calculate percentage of open warehouses\n",
    "percentage_open = (len(open_w) / len(warehouses)) * 100\n",
    "print(f\"Percentage of warehouses open: {percentage_open:.1f}% 📊\")\n",
    "\n",
    "\n",
    "print(\"\\n------------------ Warehouse openings ------------------\")\n",
    "for w in open_w:\n",
    "    volume = X.sum(\"*\", w).getValue()\n",
    "    print(f\" Open warehouse at {w:>15} ({volume:>9.2f} cwt)\")\n",
    "\n",
    "if len(closed_w) > 0:\n",
    "    print(\"\\n------------------ Warehouse closings ------------------\")\n",
    "    for w in closed_w:\n",
    "        volume = X.sum(\"*\", w).getValue()\n",
    "        print(f\" Closed warehouse at {w:>13} ({volume:>9.2f} cwt)\")"
   ]
  },
  {
   "cell_type": "markdown",
   "id": "17322c4d",
   "metadata": {},
   "source": [
    "### Service level results"
   ]
  },
  {
   "cell_type": "code",
   "execution_count": 53,
   "id": "bc12b20e",
   "metadata": {},
   "outputs": [
    {
     "name": "stdout",
     "output_type": "stream",
     "text": [
      "============================================================\n",
      "                    Service Level Curve                     \n",
      "============================================================\n",
      "Distance (miles)                       Service Level (%)\n",
      "------------------------------------------------------------\n",
      "                  30                      7.46\n",
      "                 100                     39.62\n",
      "                 300                     93.00\n",
      "                 600                     97.45\n",
      "                1000                     99.27\n",
      "                1500                    100.00\n"
     ]
    }
   ],
   "source": [
    "# Calculate and print cumulative service level curve\n",
    "\n",
    "service_levels = [\n",
    "    (30, service_level_30.getValue()),\n",
    "    (100, service_level_100.getValue()),\n",
    "    (300, service_level_300.getValue()),\n",
    "    (600, service_level_600.getValue()),\n",
    "    (1000, service_level_1000.getValue()),\n",
    "    (1500, service_level_1500.getValue()),\n",
    "]\n",
    "\n",
    "print(\"=\" * 60)\n",
    "print(f\"{'Service Level Curve':^60}\")\n",
    "print(\"=\" * 60)\n",
    "print(f\"{'Distance (miles)':<20} {'Service Level (%)':>35}\")\n",
    "print(\"-\" * 60)\n",
    "for dist, level in service_levels:\n",
    "    print(f\"{dist:>20} {100 * level:25.2f}\")\n",
    "# print(\"-\" * 60)"
   ]
  },
  {
   "cell_type": "code",
   "execution_count": 54,
   "id": "5370736b",
   "metadata": {},
   "outputs": [
    {
     "data": {
      "image/png": "[encoded data removed]",
      "text/plain": [
       "<Figure size 600x300 with 1 Axes>"
      ]
     },
     "metadata": {},
     "output_type": "display_data"
    }
   ],
   "source": [
    "# Optionally, plot the cumulative curve if matplotlib is available\n",
    "\n",
    "distances = [d for d, _ in service_levels]\n",
    "levels = [100 * sl for _, sl in service_levels]\n",
    "\n",
    "plt.figure(figsize=(6, 3))\n",
    "plt.plot(distances, levels, marker=\"o\", linestyle=\"-\", color=\"royalblue\")\n",
    "plt.title(\"Cumulative Service Level Curve\")\n",
    "plt.xlabel(\"Distance (miles)\")\n",
    "plt.ylabel(\"Cumulative Service Level (%)\")\n",
    "plt.grid(True, linestyle=\"--\", alpha=0.6)\n",
    "plt.ylim(0, 105)\n",
    "plt.xlim(0, max(distances) + 50)\n",
    "plt.tight_layout()\n",
    "plt.show()"
   ]
  },
  {
   "cell_type": "code",
   "execution_count": 55,
   "id": "a33151a2",
   "metadata": {},
   "outputs": [],
   "source": [
    "# TODO: Salvar os open warehouses em um arquivo\n"
   ]
  },
  {
   "cell_type": "markdown",
   "id": "954322d2",
   "metadata": {},
   "source": [
    "### Production"
   ]
  },
  {
   "cell_type": "code",
   "execution_count": 56,
   "id": "e49c5648",
   "metadata": {},
   "outputs": [
    {
     "name": "stdout",
     "output_type": "stream",
     "text": [
      "\n",
      "------------------ Plant production ----------------------\n",
      " Plant       Covington production: 620,000.00 cwt (42.0%)\n",
      " Plant        New York production: 430,000.00 cwt (29.1%)\n",
      " Plant       Arlington production: 179,655.00 cwt (12.2%)\n",
      " Plant      Long Beach production: 247,371.00 cwt (16.7%)\n",
      "----------------------------------------------------------\n",
      "Total production: 1,477,026.00 cwt\n"
     ]
    }
   ],
   "source": [
    "plant_production = {}\n",
    "\n",
    "for p in plants:\n",
    "    plant_production[p] = sum(X[p, w].X for w in warehouses if Z[w].X > 0.1)\n",
    "\n",
    "print(\"\\n------------------ Plant production ----------------------\")\n",
    "total_production = sum(plant_production.values())\n",
    "for p in plants:\n",
    "    percentage = (plant_production[p] / total_production) * 100\n",
    "    print(\n",
    "        f\" Plant {p:>15} production: {plant_production[p]:,.2f} cwt ({percentage:>4.1f}%)\"\n",
    "    )\n",
    "print(\"----------------------------------------------------------\")\n",
    "print(f\"Total production: {total_production:,.2f} cwt\")"
   ]
  },
  {
   "cell_type": "markdown",
   "id": "0a03ed66",
   "metadata": {},
   "source": [
    "### Flows"
   ]
  },
  {
   "cell_type": "code",
   "execution_count": 57,
   "id": "77b025c7",
   "metadata": {},
   "outputs": [
    {
     "name": "stdout",
     "output_type": "stream",
     "text": [
      "\n",
      "---------- Plant → Warehouse flows -------------\n",
      "       Covington → Covington       = 289346 cwt\n",
      "       Covington → Atlanta         =  51074 cwt\n",
      "       Covington → Davenport       =  27408 cwt\n",
      "       Covington → Detroit         = 105181 cwt\n",
      "       Covington → Milwaukee       = 101087 cwt\n",
      "       Covington → Orlando         =  35504 cwt\n",
      "       Covington → Minneapolis     =  10400 cwt\n",
      "        New York → New York        = 272863 cwt\n",
      "        New York → Baltimore       =  19284 cwt\n",
      "        New York → Orlando         =  10901 cwt\n",
      "        New York → Camp Hill       =  82775 cwt\n",
      "        New York → Richmond        =  28348 cwt\n",
      "        New York → Hartford        =  15829 cwt\n",
      "       Arlington → Arlington       = 140000 cwt\n",
      "       Arlington → Denver          =  11147 cwt\n",
      "       Arlington → Mobile          =  28508 cwt\n",
      "      Long Beach → Long Beach      = 156414 cwt\n",
      "      Long Beach → Portland        =  63802 cwt\n",
      "      Long Beach → Las Vegas       =  16755 cwt\n",
      "      Long Beach → Phoenix         =  10400 cwt\n"
     ]
    }
   ],
   "source": [
    "print(\"\\n---------- Plant → Warehouse flows -------------\")\n",
    "for p, w in X.keys():\n",
    "    if X[p, w].X > 1e-6:\n",
    "        print(f\" {p:>15} → {w:<15} = {X[p, w].X:>6.0f} cwt\")"
   ]
  },
  {
   "cell_type": "code",
   "execution_count": 58,
   "id": "06f4069b",
   "metadata": {},
   "outputs": [
    {
     "name": "stdout",
     "output_type": "stream",
     "text": [
      "\n",
      "------- Warehouse → Demand flows ---\n",
      "        Covington → ND:   5703 cwt\n",
      "        Covington → MO:  19809 cwt\n",
      "        Covington → IL:   9200 cwt\n",
      "        Covington → IN:  43994 cwt\n",
      "        Covington → KY:   3870 cwt\n",
      "        Covington → OH: 155123 cwt\n",
      "        Covington → WV:   9168 cwt\n",
      "        Covington → TN:  42479 cwt\n",
      "         New York → NH:   4546 cwt\n",
      "         New York → RI:  17000 cwt\n",
      "         New York → NJ:  21154 cwt\n",
      "         New York → NY: 160917 cwt\n",
      "         New York → CT:  26187 cwt\n",
      "         New York → MA:  37087 cwt\n",
      "         New York → VT:   2928 cwt\n",
      "         New York → DE:   3044 cwt\n",
      "        Arlington → SD:   1049 cwt\n",
      "        Arlington → NE:   7347 cwt\n",
      "        Arlington → KS:   6961 cwt\n",
      "        Arlington → MO:  21871 cwt\n",
      "        Arlington → NM:   2199 cwt\n",
      "        Arlington → TX:  80438 cwt\n",
      "        Arlington → OK:  13517 cwt\n",
      "        Arlington → AR:   4910 cwt\n",
      "        Arlington → LA:   1708 cwt\n",
      "       Long Beach → CA: 135116 cwt\n",
      "       Long Beach → ID:   7153 cwt\n",
      "       Long Beach → UT:   9001 cwt\n",
      "       Long Beach → MT:   4140 cwt\n",
      "       Long Beach → WY:   1004 cwt\n",
      "          Atlanta → AL:  15835 cwt\n",
      "          Atlanta → GA:  29559 cwt\n",
      "          Atlanta → SC:   5680 cwt\n",
      "        Davenport → IA:  27408 cwt\n",
      "          Detroit → MI: 105181 cwt\n",
      "        Baltimore → MD:  19284 cwt\n",
      "        Milwaukee → WI:  37448 cwt\n",
      "        Milwaukee → IL:  63639 cwt\n",
      "          Orlando → FL:  46405 cwt\n",
      "         Portland → WA:  32437 cwt\n",
      "         Portland → OR:  31365 cwt\n",
      "           Denver → CO:  11147 cwt\n",
      "        Camp Hill → PA:  65108 cwt\n",
      "        Camp Hill → VA:  17667 cwt\n",
      "        Las Vegas → NV:  16755 cwt\n",
      "      Minneapolis → MN:   5633 cwt\n",
      "      Minneapolis → IA:   4767 cwt\n",
      "          Phoenix → AZ:   9063 cwt\n",
      "          Phoenix → NM:   1337 cwt\n",
      "         Richmond → NC:  28348 cwt\n",
      "         Hartford → ME:  15829 cwt\n",
      "           Mobile → LA:  13303 cwt\n",
      "           Mobile → MS:  15205 cwt\n"
     ]
    }
   ],
   "source": [
    "print(\"\\n------- Warehouse → Demand flows ---\")\n",
    "for w, j in Y.keys():\n",
    "    if Y[w, j].X > 1e-6:\n",
    "        print(f\" {w:>16} → {j}: {Y[w, j].X:>6.0f} cwt\")"
   ]
  }
 ],
 "metadata": {
  "kernelspec": {
   "display_name": ".venv",
   "language": "python",
   "name": "python3"
  },
  "language_info": {
   "codemirror_mode": {
    "name": "ipython",
    "version": 3
   },
   "file_extension": ".py",
   "mimetype": "text/x-python",
   "name": "python",
   "nbconvert_exporter": "python",
   "pygments_lexer": "ipython3",
   "version": "3.11.0"
  }
 },
 "nbformat": 4,
 "nbformat_minor": 5
}
